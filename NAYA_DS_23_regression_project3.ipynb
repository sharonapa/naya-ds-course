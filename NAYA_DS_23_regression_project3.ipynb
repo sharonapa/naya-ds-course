{
  "nbformat": 4,
  "nbformat_minor": 0,
  "metadata": {
    "colab": {
      "provenance": [],
      "toc_visible": true,
      "include_colab_link": true
    },
    "kernelspec": {
      "name": "python3",
      "display_name": "Python 3"
    },
    "language_info": {
      "name": "python"
    }
  },
  "cells": [
    {
      "cell_type": "markdown",
      "metadata": {
        "id": "view-in-github",
        "colab_type": "text"
      },
      "source": [
        "<a href=\"https://colab.research.google.com/github/sharonapa/naya-ds-course/blob/main/NAYA_DS_23_regression_project3.ipynb\" target=\"_parent\"><img src=\"https://colab.research.google.com/assets/colab-badge.svg\" alt=\"Open In Colab\"/></a>"
      ]
    },
    {
      "cell_type": "markdown",
      "source": [
        "# **Salary prediction project**\n",
        "\n",
        "By: Sharon Napadenski , Yuval Levi\n",
        "\n",
        "Date: 09/2023"
      ],
      "metadata": {
        "id": "IlZRAXo8FRg7"
      }
    },
    {
      "cell_type": "markdown",
      "source": [
        "# imports"
      ],
      "metadata": {
        "id": "_1xK3H9yyhup"
      }
    },
    {
      "cell_type": "code",
      "execution_count": 3,
      "metadata": {
        "id": "WG43nqDWltWs"
      },
      "outputs": [],
      "source": [
        "import sklearn as sk\n",
        "import pandas as pd\n",
        "from sklearn.metrics import mean_squared_error\n",
        "from sklearn.impute import SimpleImputer\n",
        "import seaborn as sns\n",
        "#k-nearest, regression-trees, linear regression\n",
        "from sklearn.neighbors import KNeighborsClassifier\n",
        "from sklearn.tree import DecisionTreeRegressor\n",
        "from sklearn.linear_model import LinearRegression\n",
        "from sklearn.model_selection import train_test_split\n",
        "import numpy as np\n",
        "from sklearn.preprocessing import OneHotEncoder\n",
        "from sklearn.preprocessing import MinMaxScaler\n",
        "import matplotlib.pyplot as plt"
      ]
    },
    {
      "cell_type": "code",
      "source": [
        "from google.colab import drive\n",
        "drive.mount('/content/gdrive')"
      ],
      "metadata": {
        "colab": {
          "base_uri": "https://localhost:8080/"
        },
        "id": "1Df_rYEuVmEU",
        "outputId": "b4d8bd04-5e38-4312-f2b2-0a809b1f655b"
      },
      "execution_count": 4,
      "outputs": [
        {
          "output_type": "stream",
          "name": "stdout",
          "text": [
            "Drive already mounted at /content/gdrive; to attempt to forcibly remount, call drive.mount(\"/content/gdrive\", force_remount=True).\n"
          ]
        }
      ]
    },
    {
      "cell_type": "markdown",
      "source": [
        "# Read data"
      ],
      "metadata": {
        "id": "BVgtNVdUlidH"
      }
    },
    {
      "cell_type": "code",
      "source": [
        "# from raz shared folder\n",
        "X_TRAIN_PATH = '/content/gdrive/MyDrive/Colab Notebooks/data/X_train.csv'\n",
        "Y_TRAIN_PATH = '/content/gdrive/MyDrive/Colab Notebooks/data/y_train.csv'\n",
        "\n",
        "\n",
        "X_TEST_PATH = '/content/gdrive/MyDrive/Colab Notebooks/data/Copy of X_test.csv'\n",
        "Y_TEST_PATH = '/content/gdrive/MyDrive/Colab Notebooks/data/Copy of y_test.csv'"
      ],
      "metadata": {
        "id": "OBeBZ0KnVvam"
      },
      "execution_count": 5,
      "outputs": []
    },
    {
      "cell_type": "markdown",
      "source": [
        "## read TRAIN"
      ],
      "metadata": {
        "id": "yjE-nv_IiUlp"
      }
    },
    {
      "cell_type": "code",
      "source": [
        "df_x_train_skills = pd.read_csv(X_TRAIN_PATH)\n",
        "df_x_train_skills = df_x_train_skills[['Age', 'Gender', 'Education Level','Job Title', 'Years of Experience', 'Country', 'Race', 'height','weight', 'id', 'professionalism']]\n",
        "df_x_train_skills.set_index('id',drop=True,inplace=True)\n",
        "df_x_train_skills.head()"
      ],
      "metadata": {
        "colab": {
          "base_uri": "https://localhost:8080/",
          "height": 237
        },
        "id": "w_r2M1MRq_o0",
        "outputId": "2d95dd90-f487-4eea-9ad1-88249baf93f7"
      },
      "execution_count": 6,
      "outputs": [
        {
          "output_type": "execute_result",
          "data": {
            "text/plain": [
              "       Age Gender  Education Level              Job Title  \\\n",
              "id                                                          \n",
              "2477  52.0      M  bachelor's|degr      back|end|develope   \n",
              "76    52.0      F         bachelor      operations|manage   \n",
              "64    27.0      M         bachelor       junior|accountan   \n",
              "924   32.0      M         bachelor            data|analys   \n",
              "242   39.0      F         bachelor  senior|product|manage   \n",
              "\n",
              "      Years of Experience   Country        Race    height     weight  \\\n",
              "id                                                                     \n",
              "2477                 24.0  australi       Asian  1.800316  95.021957   \n",
              "76                   23.0        us       White  2.451414  87.456039   \n",
              "64                    2.0  australi  Australian  1.917509  56.997108   \n",
              "924                  11.0         u       Welsh  2.160562  61.403169   \n",
              "242                  11.0      chin      Korean  1.794105  72.049210   \n",
              "\n",
              "      professionalism  \n",
              "id                     \n",
              "2477           1150.0  \n",
              "76             1100.0  \n",
              "64               26.0  \n",
              "924             279.0  \n",
              "242             380.0  "
            ],
            "text/html": [
              "\n",
              "  <div id=\"df-fc302f17-7dd1-4865-bf99-ac27aeb2dfaf\" class=\"colab-df-container\">\n",
              "    <div>\n",
              "<style scoped>\n",
              "    .dataframe tbody tr th:only-of-type {\n",
              "        vertical-align: middle;\n",
              "    }\n",
              "\n",
              "    .dataframe tbody tr th {\n",
              "        vertical-align: top;\n",
              "    }\n",
              "\n",
              "    .dataframe thead th {\n",
              "        text-align: right;\n",
              "    }\n",
              "</style>\n",
              "<table border=\"1\" class=\"dataframe\">\n",
              "  <thead>\n",
              "    <tr style=\"text-align: right;\">\n",
              "      <th></th>\n",
              "      <th>Age</th>\n",
              "      <th>Gender</th>\n",
              "      <th>Education Level</th>\n",
              "      <th>Job Title</th>\n",
              "      <th>Years of Experience</th>\n",
              "      <th>Country</th>\n",
              "      <th>Race</th>\n",
              "      <th>height</th>\n",
              "      <th>weight</th>\n",
              "      <th>professionalism</th>\n",
              "    </tr>\n",
              "    <tr>\n",
              "      <th>id</th>\n",
              "      <th></th>\n",
              "      <th></th>\n",
              "      <th></th>\n",
              "      <th></th>\n",
              "      <th></th>\n",
              "      <th></th>\n",
              "      <th></th>\n",
              "      <th></th>\n",
              "      <th></th>\n",
              "      <th></th>\n",
              "    </tr>\n",
              "  </thead>\n",
              "  <tbody>\n",
              "    <tr>\n",
              "      <th>2477</th>\n",
              "      <td>52.0</td>\n",
              "      <td>M</td>\n",
              "      <td>bachelor's|degr</td>\n",
              "      <td>back|end|develope</td>\n",
              "      <td>24.0</td>\n",
              "      <td>australi</td>\n",
              "      <td>Asian</td>\n",
              "      <td>1.800316</td>\n",
              "      <td>95.021957</td>\n",
              "      <td>1150.0</td>\n",
              "    </tr>\n",
              "    <tr>\n",
              "      <th>76</th>\n",
              "      <td>52.0</td>\n",
              "      <td>F</td>\n",
              "      <td>bachelor</td>\n",
              "      <td>operations|manage</td>\n",
              "      <td>23.0</td>\n",
              "      <td>us</td>\n",
              "      <td>White</td>\n",
              "      <td>2.451414</td>\n",
              "      <td>87.456039</td>\n",
              "      <td>1100.0</td>\n",
              "    </tr>\n",
              "    <tr>\n",
              "      <th>64</th>\n",
              "      <td>27.0</td>\n",
              "      <td>M</td>\n",
              "      <td>bachelor</td>\n",
              "      <td>junior|accountan</td>\n",
              "      <td>2.0</td>\n",
              "      <td>australi</td>\n",
              "      <td>Australian</td>\n",
              "      <td>1.917509</td>\n",
              "      <td>56.997108</td>\n",
              "      <td>26.0</td>\n",
              "    </tr>\n",
              "    <tr>\n",
              "      <th>924</th>\n",
              "      <td>32.0</td>\n",
              "      <td>M</td>\n",
              "      <td>bachelor</td>\n",
              "      <td>data|analys</td>\n",
              "      <td>11.0</td>\n",
              "      <td>u</td>\n",
              "      <td>Welsh</td>\n",
              "      <td>2.160562</td>\n",
              "      <td>61.403169</td>\n",
              "      <td>279.0</td>\n",
              "    </tr>\n",
              "    <tr>\n",
              "      <th>242</th>\n",
              "      <td>39.0</td>\n",
              "      <td>F</td>\n",
              "      <td>bachelor</td>\n",
              "      <td>senior|product|manage</td>\n",
              "      <td>11.0</td>\n",
              "      <td>chin</td>\n",
              "      <td>Korean</td>\n",
              "      <td>1.794105</td>\n",
              "      <td>72.049210</td>\n",
              "      <td>380.0</td>\n",
              "    </tr>\n",
              "  </tbody>\n",
              "</table>\n",
              "</div>\n",
              "    <div class=\"colab-df-buttons\">\n",
              "\n",
              "  <div class=\"colab-df-container\">\n",
              "    <button class=\"colab-df-convert\" onclick=\"convertToInteractive('df-fc302f17-7dd1-4865-bf99-ac27aeb2dfaf')\"\n",
              "            title=\"Convert this dataframe to an interactive table.\"\n",
              "            style=\"display:none;\">\n",
              "\n",
              "  <svg xmlns=\"http://www.w3.org/2000/svg\" height=\"24px\" viewBox=\"0 -960 960 960\">\n",
              "    <path d=\"M120-120v-720h720v720H120Zm60-500h600v-160H180v160Zm220 220h160v-160H400v160Zm0 220h160v-160H400v160ZM180-400h160v-160H180v160Zm440 0h160v-160H620v160ZM180-180h160v-160H180v160Zm440 0h160v-160H620v160Z\"/>\n",
              "  </svg>\n",
              "    </button>\n",
              "\n",
              "  <style>\n",
              "    .colab-df-container {\n",
              "      display:flex;\n",
              "      gap: 12px;\n",
              "    }\n",
              "\n",
              "    .colab-df-convert {\n",
              "      background-color: #E8F0FE;\n",
              "      border: none;\n",
              "      border-radius: 50%;\n",
              "      cursor: pointer;\n",
              "      display: none;\n",
              "      fill: #1967D2;\n",
              "      height: 32px;\n",
              "      padding: 0 0 0 0;\n",
              "      width: 32px;\n",
              "    }\n",
              "\n",
              "    .colab-df-convert:hover {\n",
              "      background-color: #E2EBFA;\n",
              "      box-shadow: 0px 1px 2px rgba(60, 64, 67, 0.3), 0px 1px 3px 1px rgba(60, 64, 67, 0.15);\n",
              "      fill: #174EA6;\n",
              "    }\n",
              "\n",
              "    .colab-df-buttons div {\n",
              "      margin-bottom: 4px;\n",
              "    }\n",
              "\n",
              "    [theme=dark] .colab-df-convert {\n",
              "      background-color: #3B4455;\n",
              "      fill: #D2E3FC;\n",
              "    }\n",
              "\n",
              "    [theme=dark] .colab-df-convert:hover {\n",
              "      background-color: #434B5C;\n",
              "      box-shadow: 0px 1px 3px 1px rgba(0, 0, 0, 0.15);\n",
              "      filter: drop-shadow(0px 1px 2px rgba(0, 0, 0, 0.3));\n",
              "      fill: #FFFFFF;\n",
              "    }\n",
              "  </style>\n",
              "\n",
              "    <script>\n",
              "      const buttonEl =\n",
              "        document.querySelector('#df-fc302f17-7dd1-4865-bf99-ac27aeb2dfaf button.colab-df-convert');\n",
              "      buttonEl.style.display =\n",
              "        google.colab.kernel.accessAllowed ? 'block' : 'none';\n",
              "\n",
              "      async function convertToInteractive(key) {\n",
              "        const element = document.querySelector('#df-fc302f17-7dd1-4865-bf99-ac27aeb2dfaf');\n",
              "        const dataTable =\n",
              "          await google.colab.kernel.invokeFunction('convertToInteractive',\n",
              "                                                    [key], {});\n",
              "        if (!dataTable) return;\n",
              "\n",
              "        const docLinkHtml = 'Like what you see? Visit the ' +\n",
              "          '<a target=\"_blank\" href=https://colab.research.google.com/notebooks/data_table.ipynb>data table notebook</a>'\n",
              "          + ' to learn more about interactive tables.';\n",
              "        element.innerHTML = '';\n",
              "        dataTable['output_type'] = 'display_data';\n",
              "        await google.colab.output.renderOutput(dataTable, element);\n",
              "        const docLink = document.createElement('div');\n",
              "        docLink.innerHTML = docLinkHtml;\n",
              "        element.appendChild(docLink);\n",
              "      }\n",
              "    </script>\n",
              "  </div>\n",
              "\n",
              "\n",
              "<div id=\"df-cc39eb4f-198e-4324-9936-c6493587d6e2\">\n",
              "  <button class=\"colab-df-quickchart\" onclick=\"quickchart('df-cc39eb4f-198e-4324-9936-c6493587d6e2')\"\n",
              "            title=\"Suggest charts.\"\n",
              "            style=\"display:none;\">\n",
              "\n",
              "<svg xmlns=\"http://www.w3.org/2000/svg\" height=\"24px\"viewBox=\"0 0 24 24\"\n",
              "     width=\"24px\">\n",
              "    <g>\n",
              "        <path d=\"M19 3H5c-1.1 0-2 .9-2 2v14c0 1.1.9 2 2 2h14c1.1 0 2-.9 2-2V5c0-1.1-.9-2-2-2zM9 17H7v-7h2v7zm4 0h-2V7h2v10zm4 0h-2v-4h2v4z\"/>\n",
              "    </g>\n",
              "</svg>\n",
              "  </button>\n",
              "\n",
              "<style>\n",
              "  .colab-df-quickchart {\n",
              "    background-color: #E8F0FE;\n",
              "    border: none;\n",
              "    border-radius: 50%;\n",
              "    cursor: pointer;\n",
              "    display: none;\n",
              "    fill: #1967D2;\n",
              "    height: 32px;\n",
              "    padding: 0 0 0 0;\n",
              "    width: 32px;\n",
              "  }\n",
              "\n",
              "  .colab-df-quickchart:hover {\n",
              "    background-color: #E2EBFA;\n",
              "    box-shadow: 0px 1px 2px rgba(60, 64, 67, 0.3), 0px 1px 3px 1px rgba(60, 64, 67, 0.15);\n",
              "    fill: #174EA6;\n",
              "  }\n",
              "\n",
              "  [theme=dark] .colab-df-quickchart {\n",
              "    background-color: #3B4455;\n",
              "    fill: #D2E3FC;\n",
              "  }\n",
              "\n",
              "  [theme=dark] .colab-df-quickchart:hover {\n",
              "    background-color: #434B5C;\n",
              "    box-shadow: 0px 1px 3px 1px rgba(0, 0, 0, 0.15);\n",
              "    filter: drop-shadow(0px 1px 2px rgba(0, 0, 0, 0.3));\n",
              "    fill: #FFFFFF;\n",
              "  }\n",
              "</style>\n",
              "\n",
              "  <script>\n",
              "    async function quickchart(key) {\n",
              "      const charts = await google.colab.kernel.invokeFunction(\n",
              "          'suggestCharts', [key], {});\n",
              "    }\n",
              "    (() => {\n",
              "      let quickchartButtonEl =\n",
              "        document.querySelector('#df-cc39eb4f-198e-4324-9936-c6493587d6e2 button');\n",
              "      quickchartButtonEl.style.display =\n",
              "        google.colab.kernel.accessAllowed ? 'block' : 'none';\n",
              "    })();\n",
              "  </script>\n",
              "</div>\n",
              "    </div>\n",
              "  </div>\n"
            ]
          },
          "metadata": {},
          "execution_count": 6
        }
      ]
    },
    {
      "cell_type": "markdown",
      "source": [
        "we can see some null values"
      ],
      "metadata": {
        "id": "u1-0wV-R2R_F"
      }
    },
    {
      "cell_type": "code",
      "source": [
        "df_x_train_skills.info()"
      ],
      "metadata": {
        "colab": {
          "base_uri": "https://localhost:8080/"
        },
        "id": "k0NTSyYN1Ulm",
        "outputId": "603f49af-8a26-45af-d92b-2f6c3eec0ba0"
      },
      "execution_count": 8,
      "outputs": [
        {
          "output_type": "stream",
          "name": "stdout",
          "text": [
            "<class 'pandas.core.frame.DataFrame'>\n",
            "Int64Index: 5363 entries, 2477 to 3572\n",
            "Data columns (total 10 columns):\n",
            " #   Column               Non-Null Count  Dtype  \n",
            "---  ------               --------------  -----  \n",
            " 0   Age                  5359 non-null   float64\n",
            " 1   Gender               5359 non-null   object \n",
            " 2   Education Level      5360 non-null   object \n",
            " 3   Job Title            5361 non-null   object \n",
            " 4   Years of Experience  5360 non-null   float64\n",
            " 5   Country              5363 non-null   object \n",
            " 6   Race                 5363 non-null   object \n",
            " 7   height               5363 non-null   float64\n",
            " 8   weight               5361 non-null   float64\n",
            " 9   professionalism      5360 non-null   float64\n",
            "dtypes: float64(5), object(5)\n",
            "memory usage: 589.9+ KB\n"
          ]
        }
      ]
    },
    {
      "cell_type": "markdown",
      "source": [
        "read train y (target)"
      ],
      "metadata": {
        "id": "M964SfqfF2ju"
      }
    },
    {
      "cell_type": "code",
      "source": [
        "df_y_train_skills = pd.read_csv(Y_TRAIN_PATH,index_col=[0])\n",
        "df_y_train_skills.head()"
      ],
      "metadata": {
        "colab": {
          "base_uri": "https://localhost:8080/",
          "height": 206
        },
        "id": "yb4FKmKevIg_",
        "outputId": "78ef49fe-6615-4f83-a1af-370f80fab432"
      },
      "execution_count": 9,
      "outputs": [
        {
          "output_type": "execute_result",
          "data": {
            "text/plain": [
              "        Salary\n",
              "2477  175966.0\n",
              "76    160000.0\n",
              "64     35000.0\n",
              "924   195000.0\n",
              "242   120000.0"
            ],
            "text/html": [
              "\n",
              "  <div id=\"df-0663d5e4-85ab-4764-9c47-0307cd89fb05\" class=\"colab-df-container\">\n",
              "    <div>\n",
              "<style scoped>\n",
              "    .dataframe tbody tr th:only-of-type {\n",
              "        vertical-align: middle;\n",
              "    }\n",
              "\n",
              "    .dataframe tbody tr th {\n",
              "        vertical-align: top;\n",
              "    }\n",
              "\n",
              "    .dataframe thead th {\n",
              "        text-align: right;\n",
              "    }\n",
              "</style>\n",
              "<table border=\"1\" class=\"dataframe\">\n",
              "  <thead>\n",
              "    <tr style=\"text-align: right;\">\n",
              "      <th></th>\n",
              "      <th>Salary</th>\n",
              "    </tr>\n",
              "  </thead>\n",
              "  <tbody>\n",
              "    <tr>\n",
              "      <th>2477</th>\n",
              "      <td>175966.0</td>\n",
              "    </tr>\n",
              "    <tr>\n",
              "      <th>76</th>\n",
              "      <td>160000.0</td>\n",
              "    </tr>\n",
              "    <tr>\n",
              "      <th>64</th>\n",
              "      <td>35000.0</td>\n",
              "    </tr>\n",
              "    <tr>\n",
              "      <th>924</th>\n",
              "      <td>195000.0</td>\n",
              "    </tr>\n",
              "    <tr>\n",
              "      <th>242</th>\n",
              "      <td>120000.0</td>\n",
              "    </tr>\n",
              "  </tbody>\n",
              "</table>\n",
              "</div>\n",
              "    <div class=\"colab-df-buttons\">\n",
              "\n",
              "  <div class=\"colab-df-container\">\n",
              "    <button class=\"colab-df-convert\" onclick=\"convertToInteractive('df-0663d5e4-85ab-4764-9c47-0307cd89fb05')\"\n",
              "            title=\"Convert this dataframe to an interactive table.\"\n",
              "            style=\"display:none;\">\n",
              "\n",
              "  <svg xmlns=\"http://www.w3.org/2000/svg\" height=\"24px\" viewBox=\"0 -960 960 960\">\n",
              "    <path d=\"M120-120v-720h720v720H120Zm60-500h600v-160H180v160Zm220 220h160v-160H400v160Zm0 220h160v-160H400v160ZM180-400h160v-160H180v160Zm440 0h160v-160H620v160ZM180-180h160v-160H180v160Zm440 0h160v-160H620v160Z\"/>\n",
              "  </svg>\n",
              "    </button>\n",
              "\n",
              "  <style>\n",
              "    .colab-df-container {\n",
              "      display:flex;\n",
              "      gap: 12px;\n",
              "    }\n",
              "\n",
              "    .colab-df-convert {\n",
              "      background-color: #E8F0FE;\n",
              "      border: none;\n",
              "      border-radius: 50%;\n",
              "      cursor: pointer;\n",
              "      display: none;\n",
              "      fill: #1967D2;\n",
              "      height: 32px;\n",
              "      padding: 0 0 0 0;\n",
              "      width: 32px;\n",
              "    }\n",
              "\n",
              "    .colab-df-convert:hover {\n",
              "      background-color: #E2EBFA;\n",
              "      box-shadow: 0px 1px 2px rgba(60, 64, 67, 0.3), 0px 1px 3px 1px rgba(60, 64, 67, 0.15);\n",
              "      fill: #174EA6;\n",
              "    }\n",
              "\n",
              "    .colab-df-buttons div {\n",
              "      margin-bottom: 4px;\n",
              "    }\n",
              "\n",
              "    [theme=dark] .colab-df-convert {\n",
              "      background-color: #3B4455;\n",
              "      fill: #D2E3FC;\n",
              "    }\n",
              "\n",
              "    [theme=dark] .colab-df-convert:hover {\n",
              "      background-color: #434B5C;\n",
              "      box-shadow: 0px 1px 3px 1px rgba(0, 0, 0, 0.15);\n",
              "      filter: drop-shadow(0px 1px 2px rgba(0, 0, 0, 0.3));\n",
              "      fill: #FFFFFF;\n",
              "    }\n",
              "  </style>\n",
              "\n",
              "    <script>\n",
              "      const buttonEl =\n",
              "        document.querySelector('#df-0663d5e4-85ab-4764-9c47-0307cd89fb05 button.colab-df-convert');\n",
              "      buttonEl.style.display =\n",
              "        google.colab.kernel.accessAllowed ? 'block' : 'none';\n",
              "\n",
              "      async function convertToInteractive(key) {\n",
              "        const element = document.querySelector('#df-0663d5e4-85ab-4764-9c47-0307cd89fb05');\n",
              "        const dataTable =\n",
              "          await google.colab.kernel.invokeFunction('convertToInteractive',\n",
              "                                                    [key], {});\n",
              "        if (!dataTable) return;\n",
              "\n",
              "        const docLinkHtml = 'Like what you see? Visit the ' +\n",
              "          '<a target=\"_blank\" href=https://colab.research.google.com/notebooks/data_table.ipynb>data table notebook</a>'\n",
              "          + ' to learn more about interactive tables.';\n",
              "        element.innerHTML = '';\n",
              "        dataTable['output_type'] = 'display_data';\n",
              "        await google.colab.output.renderOutput(dataTable, element);\n",
              "        const docLink = document.createElement('div');\n",
              "        docLink.innerHTML = docLinkHtml;\n",
              "        element.appendChild(docLink);\n",
              "      }\n",
              "    </script>\n",
              "  </div>\n",
              "\n",
              "\n",
              "<div id=\"df-7da3b2b4-1d9f-4491-a3c1-90c5fb2823d3\">\n",
              "  <button class=\"colab-df-quickchart\" onclick=\"quickchart('df-7da3b2b4-1d9f-4491-a3c1-90c5fb2823d3')\"\n",
              "            title=\"Suggest charts.\"\n",
              "            style=\"display:none;\">\n",
              "\n",
              "<svg xmlns=\"http://www.w3.org/2000/svg\" height=\"24px\"viewBox=\"0 0 24 24\"\n",
              "     width=\"24px\">\n",
              "    <g>\n",
              "        <path d=\"M19 3H5c-1.1 0-2 .9-2 2v14c0 1.1.9 2 2 2h14c1.1 0 2-.9 2-2V5c0-1.1-.9-2-2-2zM9 17H7v-7h2v7zm4 0h-2V7h2v10zm4 0h-2v-4h2v4z\"/>\n",
              "    </g>\n",
              "</svg>\n",
              "  </button>\n",
              "\n",
              "<style>\n",
              "  .colab-df-quickchart {\n",
              "    background-color: #E8F0FE;\n",
              "    border: none;\n",
              "    border-radius: 50%;\n",
              "    cursor: pointer;\n",
              "    display: none;\n",
              "    fill: #1967D2;\n",
              "    height: 32px;\n",
              "    padding: 0 0 0 0;\n",
              "    width: 32px;\n",
              "  }\n",
              "\n",
              "  .colab-df-quickchart:hover {\n",
              "    background-color: #E2EBFA;\n",
              "    box-shadow: 0px 1px 2px rgba(60, 64, 67, 0.3), 0px 1px 3px 1px rgba(60, 64, 67, 0.15);\n",
              "    fill: #174EA6;\n",
              "  }\n",
              "\n",
              "  [theme=dark] .colab-df-quickchart {\n",
              "    background-color: #3B4455;\n",
              "    fill: #D2E3FC;\n",
              "  }\n",
              "\n",
              "  [theme=dark] .colab-df-quickchart:hover {\n",
              "    background-color: #434B5C;\n",
              "    box-shadow: 0px 1px 3px 1px rgba(0, 0, 0, 0.15);\n",
              "    filter: drop-shadow(0px 1px 2px rgba(0, 0, 0, 0.3));\n",
              "    fill: #FFFFFF;\n",
              "  }\n",
              "</style>\n",
              "\n",
              "  <script>\n",
              "    async function quickchart(key) {\n",
              "      const charts = await google.colab.kernel.invokeFunction(\n",
              "          'suggestCharts', [key], {});\n",
              "    }\n",
              "    (() => {\n",
              "      let quickchartButtonEl =\n",
              "        document.querySelector('#df-7da3b2b4-1d9f-4491-a3c1-90c5fb2823d3 button');\n",
              "      quickchartButtonEl.style.display =\n",
              "        google.colab.kernel.accessAllowed ? 'block' : 'none';\n",
              "    })();\n",
              "  </script>\n",
              "</div>\n",
              "    </div>\n",
              "  </div>\n"
            ]
          },
          "metadata": {},
          "execution_count": 9
        }
      ]
    },
    {
      "cell_type": "markdown",
      "source": [
        "Check for nan (found some...)"
      ],
      "metadata": {
        "id": "-40sM53L01cw"
      }
    },
    {
      "cell_type": "code",
      "source": [
        "df_y_train_skills.info()\n",
        "print('*' * 50)\n",
        "print(f'number of null in y train: {df_y_train_skills.Salary.isna().sum()}')"
      ],
      "metadata": {
        "colab": {
          "base_uri": "https://localhost:8080/"
        },
        "id": "bnTovHanwjhM",
        "outputId": "313bc8ad-4786-49fa-cd62-1b943c69fdd0"
      },
      "execution_count": 10,
      "outputs": [
        {
          "output_type": "stream",
          "name": "stdout",
          "text": [
            "<class 'pandas.core.frame.DataFrame'>\n",
            "Int64Index: 5363 entries, 2477 to 3572\n",
            "Data columns (total 1 columns):\n",
            " #   Column  Non-Null Count  Dtype  \n",
            "---  ------  --------------  -----  \n",
            " 0   Salary  5358 non-null   float64\n",
            "dtypes: float64(1)\n",
            "memory usage: 83.8 KB\n",
            "**************************************************\n",
            "number of null in y train: 5\n"
          ]
        }
      ]
    },
    {
      "cell_type": "markdown",
      "source": [
        "we can see most salaries are in the range of : 50K to 200K"
      ],
      "metadata": {
        "id": "1Lw4qrO424Pa"
      }
    },
    {
      "cell_type": "code",
      "source": [
        "df_y_train_skills.hist()"
      ],
      "metadata": {
        "colab": {
          "base_uri": "https://localhost:8080/",
          "height": 469
        },
        "id": "wuZaydV70OLf",
        "outputId": "04179bdc-6ae7-4093-a863-d9e07461ad87"
      },
      "execution_count": 11,
      "outputs": [
        {
          "output_type": "execute_result",
          "data": {
            "text/plain": [
              "array([[<Axes: title={'center': 'Salary'}>]], dtype=object)"
            ]
          },
          "metadata": {},
          "execution_count": 11
        },
        {
          "output_type": "display_data",
          "data": {
            "text/plain": [
              "<Figure size 640x480 with 1 Axes>"
            ],
            "image/png": "[encoded data removed]"
          },
          "metadata": {}
        }
      ]
    },
    {
      "cell_type": "markdown",
      "source": [
        "## read TEST"
      ],
      "metadata": {
        "id": "ybx8aoEFpNpQ"
      }
    },
    {
      "cell_type": "code",
      "source": [
        "df_x_test_skills = pd.read_csv(X_TEST_PATH)\n",
        "df_x_test_skills = df_x_test_skills[['Age', 'Gender', 'Education Level','Job Title', 'Years of Experience', 'Country', 'Race', 'height','weight', 'id', 'professionalism']]\n",
        "df_x_test_skills.set_index('id',drop=True,inplace=True)\n",
        "df_x_test_skills.info()"
      ],
      "metadata": {
        "colab": {
          "base_uri": "https://localhost:8080/"
        },
        "id": "qqerwLiOzfQA",
        "outputId": "e159b3bb-c2eb-4e23-b4b1-5905922d881d"
      },
      "execution_count": 12,
      "outputs": [
        {
          "output_type": "stream",
          "name": "stdout",
          "text": [
            "<class 'pandas.core.frame.DataFrame'>\n",
            "Int64Index: 1341 entries, 6480 to 2506\n",
            "Data columns (total 10 columns):\n",
            " #   Column               Non-Null Count  Dtype  \n",
            "---  ------               --------------  -----  \n",
            " 0   Age                  1341 non-null   float64\n",
            " 1   Gender               1341 non-null   object \n",
            " 2   Education Level      1341 non-null   object \n",
            " 3   Job Title            1341 non-null   object \n",
            " 4   Years of Experience  1341 non-null   float64\n",
            " 5   Country              1341 non-null   object \n",
            " 6   Race                 1341 non-null   object \n",
            " 7   height               1341 non-null   float64\n",
            " 8   weight               1341 non-null   float64\n",
            " 9   professionalism      1341 non-null   float64\n",
            "dtypes: float64(5), object(5)\n",
            "memory usage: 115.2+ KB\n"
          ]
        }
      ]
    },
    {
      "cell_type": "markdown",
      "source": [
        "# EDA"
      ],
      "metadata": {
        "id": "ocVFaMpf0SvW"
      }
    },
    {
      "cell_type": "markdown",
      "source": [
        "## corelation matrix\n",
        "1. we can see 'height' is not correlated with salary, all others are correlated"
      ],
      "metadata": {
        "id": "bbCJcapT0T8S"
      }
    },
    {
      "cell_type": "code",
      "source": [
        "def create_correlation_matrix(df):\n",
        "    correlation_matrix = df.corr()\n",
        "\n",
        "    color = plt.get_cmap('RdYlGn')   # default color\n",
        "    color.set_bad('lightblue')    # if the value is bad the color would be lightblue instead of white\n",
        "\n",
        "    sns.heatmap(correlation_matrix, annot=True, cmap=color, center=0)\n",
        "    plt.title('Correlation Matrix Heatmap')"
      ],
      "metadata": {
        "id": "xvjkWKsYEIWf"
      },
      "execution_count": 14,
      "outputs": []
    },
    {
      "cell_type": "code",
      "source": [
        "df = pd.concat([df_x_train_skills, df_y_train_skills], axis=1)\n",
        "create_correlation_matrix(df)"
      ],
      "metadata": {
        "colab": {
          "base_uri": "https://localhost:8080/",
          "height": 629
        },
        "id": "domlic-G0ZS2",
        "outputId": "5a8ca4c5-0f97-49f7-f344-379b214435cc"
      },
      "execution_count": 15,
      "outputs": [
        {
          "output_type": "stream",
          "name": "stderr",
          "text": [
            "<ipython-input-14-5a1b7231679b>:2: FutureWarning: The default value of numeric_only in DataFrame.corr is deprecated. In a future version, it will default to False. Select only valid columns or specify the value of numeric_only to silence this warning.\n",
            "  correlation_matrix = df.corr()\n"
          ]
        },
        {
          "output_type": "display_data",
          "data": {
            "text/plain": [
              "<Figure size 640x480 with 2 Axes>"
            ],
            "image/png": "[encoded data removed]"
          },
          "metadata": {}
        }
      ]
    },
    {
      "cell_type": "markdown",
      "source": [
        "Dropping the height column"
      ],
      "metadata": {
        "id": "NvAAJS5I7PmE"
      }
    },
    {
      "cell_type": "code",
      "source": [
        "df_x_train_skills.drop('height', axis=1, inplace=True,errors='ignore')"
      ],
      "metadata": {
        "id": "ByiWGD186-8Q"
      },
      "execution_count": 16,
      "outputs": []
    },
    {
      "cell_type": "markdown",
      "source": [
        "# PREPROCESS\n",
        "- remove train Nan\n",
        "- impute\n",
        "- encode\n",
        "- scale"
      ],
      "metadata": {
        "id": "l5qNePoC2zap"
      }
    },
    {
      "cell_type": "markdown",
      "source": [
        "## helper impute functions"
      ],
      "metadata": {
        "id": "28Df4qgD5qTi"
      }
    },
    {
      "cell_type": "markdown",
      "source": [
        "### IMPUTE"
      ],
      "metadata": {
        "id": "JaMkcfHWlfbq"
      }
    },
    {
      "cell_type": "code",
      "source": [
        "def impute_missing_values(df_train, df_test , remove_row_missing_cat_data):\n",
        "    '''\n",
        "    run on all cols, impute string by MODE or number by mean\n",
        "    fit_transform on train, transform on test\n",
        "    '''\n",
        "    imputer_dict = {}\n",
        "\n",
        "    for col in df_train.columns:\n",
        "        if df_train[col].dtype == 'object': # a string\n",
        "            imp = SimpleImputer(strategy='most_frequent')\n",
        "        else: # a number col\n",
        "            imp = SimpleImputer(strategy='mean')\n",
        "\n",
        "        df_train[col] = imp.fit_transform(df_train[col].values.reshape(-1, 1))\n",
        "        df_test[col] = imp.transform(df_test[col].values.reshape(-1, 1))\n",
        "        imputer_dict[col] = imp\n",
        "    return df_train , df_test,imputer_dict"
      ],
      "metadata": {
        "id": "bjW-Uz1j3mUL"
      },
      "execution_count": 17,
      "outputs": []
    },
    {
      "cell_type": "markdown",
      "source": [
        "### One hot encode\n",
        "encode on train , use on test, ignore unknown category (in test set)"
      ],
      "metadata": {
        "id": "Q67nlO8Gktq1"
      }
    },
    {
      "cell_type": "code",
      "source": [
        "def one_hot_encode(df_train, df_test):\n",
        "\n",
        "  cat_col = list(df_train.select_dtypes(include=['object']).columns) # get cat cols\n",
        "  encoder = OneHotEncoder(handle_unknown='ignore')\n",
        "\n",
        "  encoded_data = encoder.fit_transform(df_train[cat_col])\n",
        "  encoded_df = pd.DataFrame(encoded_data.toarray(), columns=encoder.get_feature_names_out(cat_col),index=df_train.index)\n",
        "  df_train_no_cat_col = df_train.drop(cat_col,axis = 1, inplace=False) #drop the original cat col\n",
        "  final_df_train = pd.concat([df_train_no_cat_col, encoded_df], axis=1).reindex(df_train.index)\n",
        "\n",
        "  encoded_test_data = encoder.transform(df_test[cat_col])\n",
        "  encoded_test_df = pd.DataFrame(encoded_test_data.toarray(), columns=encoder.get_feature_names_out(cat_col),index=df_test.index)\n",
        "  df_test_no_cat_col = df_test.drop(cat_col,axis = 1, inplace=False) #drop the original cat col\n",
        "  final_df_test = pd.concat([df_test_no_cat_col, encoded_test_df], axis=1).reindex(df_test.index)\n",
        "\n",
        "  return final_df_train ,final_df_test"
      ],
      "metadata": {
        "id": "_-X_H8S4kvbD"
      },
      "execution_count": 18,
      "outputs": []
    },
    {
      "cell_type": "markdown",
      "source": [
        "### Scale"
      ],
      "metadata": {
        "id": "MQ8pNwDS5cHx"
      }
    },
    {
      "cell_type": "markdown",
      "source": [
        "scale each feature between 0,1. could make the fit procees faster"
      ],
      "metadata": {
        "id": "h6jl0yQb5LDI"
      }
    },
    {
      "cell_type": "code",
      "source": [
        "def scale_data(df_train, df_test):\n",
        "    df_train = df_train.copy()\n",
        "    df_test = df_test.copy()\n",
        "    numeric_cols = list(df_train.select_dtypes(include=[np.number]).columns.values)\n",
        "\n",
        "    scaler = MinMaxScaler()\n",
        "    df_train[numeric_cols] = scaler.fit_transform(df_train[numeric_cols])\n",
        "\n",
        "    df_test[numeric_cols] = scaler.transform(df_test[numeric_cols])\n",
        "    return df_train,df_test"
      ],
      "metadata": {
        "id": "QFRn0wKw87nU"
      },
      "execution_count": 19,
      "outputs": []
    },
    {
      "cell_type": "markdown",
      "source": [
        "## run preprocess"
      ],
      "metadata": {
        "id": "QKlUOz_g5zIO"
      }
    },
    {
      "cell_type": "code",
      "source": [
        "#remove nan values  from train\n",
        "na_filter = df_y_train_skills['Salary'].notna()\n",
        "df_y_train_skills = df_y_train_skills[na_filter]\n",
        "df_x_train_skills = df_x_train_skills[na_filter]\n",
        "\n",
        "\n",
        "#IMPUTE\n",
        "df_x_train_skills_copy = df_x_train_skills.copy()\n",
        "df_x_test_skills_copy = df_x_test_skills.copy()\n",
        "df_x_train_skills_copy,df_x_test_skills_copy, imputer_dict = impute_missing_values(df_x_train_skills_copy,df_x_test_skills_copy,False)"
      ],
      "metadata": {
        "id": "Wum1iskZ0NZj"
      },
      "execution_count": 20,
      "outputs": []
    },
    {
      "cell_type": "markdown",
      "source": [
        "## Feature eng\n",
        "we are going to create an 'education_factor'  = degree * years of exp"
      ],
      "metadata": {
        "id": "fjaYOKHN3WJO"
      }
    },
    {
      "cell_type": "code",
      "source": [
        "degrees = df_x_train_skills_copy['Education Level'].unique()\n",
        "degrees"
      ],
      "metadata": {
        "colab": {
          "base_uri": "https://localhost:8080/"
        },
        "id": "eG4_qgjR5KLi",
        "outputId": "e5e1500d-8c48-4fa9-fa11-2bff888f6fe7"
      },
      "execution_count": 22,
      "outputs": [
        {
          "output_type": "execute_result",
          "data": {
            "text/plain": [
              "array([\"bachelor's|degr\", 'bachelor', \"master's|degr\", 'p', 'master',\n",
              "       'high|scho'], dtype=object)"
            ]
          },
          "metadata": {},
          "execution_count": 22
        }
      ]
    },
    {
      "cell_type": "code",
      "source": [
        "degree_factor = {}\n",
        "for degree in degrees:\n",
        "    if 'high' in degree:\n",
        "        degree_factor[degree] = 1\n",
        "    if 'bachelor' in degree:\n",
        "        degree_factor[degree] = 1.5\n",
        "    if 'master' in degree:\n",
        "        degree_factor[degree] = 2\n",
        "    if degree =='p':\n",
        "        degree_factor[degree] = 2.5\n",
        "degree_factor"
      ],
      "metadata": {
        "colab": {
          "base_uri": "https://localhost:8080/"
        },
        "id": "pfKJTA_i99F6",
        "outputId": "53098ab4-0621-4673-ffe9-fb4d18357cd2"
      },
      "execution_count": 23,
      "outputs": [
        {
          "output_type": "execute_result",
          "data": {
            "text/plain": [
              "{\"bachelor's|degr\": 1.5,\n",
              " 'bachelor': 1.5,\n",
              " \"master's|degr\": 2,\n",
              " 'p': 2.5,\n",
              " 'master': 2,\n",
              " 'high|scho': 1}"
            ]
          },
          "metadata": {},
          "execution_count": 23
        }
      ]
    },
    {
      "cell_type": "markdown",
      "source": [
        "map and multiple"
      ],
      "metadata": {
        "id": "uQTOUXFPExkj"
      }
    },
    {
      "cell_type": "code",
      "source": [
        "df_x_train_skills_copy['education_factor'] = df_x_train_skills_copy['Education Level'].map(degree_factor)\n",
        "df_x_train_skills_copy['education_factor']  = df_x_train_skills_copy['education_factor'] *df_x_train_skills_copy['Years of Experience']\n",
        "\n",
        "df_x_test_skills_copy['education_factor'] = df_x_test_skills_copy['Education Level'].map(degree_factor)\n",
        "df_x_test_skills_copy['education_factor']  = df_x_test_skills_copy['education_factor'] *df_x_test_skills_copy['Years of Experience']"
      ],
      "metadata": {
        "id": "TN5mZyVWCIe2"
      },
      "execution_count": 24,
      "outputs": []
    },
    {
      "cell_type": "markdown",
      "source": [
        "the new feature 'education_factor' correlation is good : 0.77"
      ],
      "metadata": {
        "id": "pXxu3fuiE079"
      }
    },
    {
      "cell_type": "code",
      "source": [
        "df = pd.concat([df_x_train_skills_copy, df_y_train_skills], axis=1)\n",
        "create_correlation_matrix(df)"
      ],
      "metadata": {
        "colab": {
          "base_uri": "https://localhost:8080/",
          "height": 629
        },
        "id": "mkULEvzADlzk",
        "outputId": "3944450d-f823-47cf-81a2-80eb6b7c093c"
      },
      "execution_count": 25,
      "outputs": [
        {
          "output_type": "stream",
          "name": "stderr",
          "text": [
            "<ipython-input-14-5a1b7231679b>:2: FutureWarning: The default value of numeric_only in DataFrame.corr is deprecated. In a future version, it will default to False. Select only valid columns or specify the value of numeric_only to silence this warning.\n",
            "  correlation_matrix = df.corr()\n"
          ]
        },
        {
          "output_type": "display_data",
          "data": {
            "text/plain": [
              "<Figure size 640x480 with 2 Axes>"
            ],
            "image/png": "[encoded data removed]"
          },
          "metadata": {}
        }
      ]
    },
    {
      "cell_type": "code",
      "source": [
        "df_x_test_skills_copy.isna().sum()"
      ],
      "metadata": {
        "colab": {
          "base_uri": "https://localhost:8080/"
        },
        "id": "4kzHm2_UHZrh",
        "outputId": "735086b0-aa7a-4790-e334-18b80b5c5764"
      },
      "execution_count": 26,
      "outputs": [
        {
          "output_type": "execute_result",
          "data": {
            "text/plain": [
              "Age                    0\n",
              "Gender                 0\n",
              "Education Level        0\n",
              "Job Title              0\n",
              "Years of Experience    0\n",
              "Country                0\n",
              "Race                   0\n",
              "height                 0\n",
              "weight                 0\n",
              "professionalism        0\n",
              "education_factor       0\n",
              "dtype: int64"
            ]
          },
          "metadata": {},
          "execution_count": 26
        }
      ]
    },
    {
      "cell_type": "markdown",
      "source": [
        "## scale and encode"
      ],
      "metadata": {
        "id": "jVS9QkVaIPyw"
      }
    },
    {
      "cell_type": "code",
      "source": [
        "#scale\n",
        "df_x_train_skills_copy_scale,df_x_test_skills_copy_scale = scale_data(df_x_train_skills_copy, df_x_test_skills_copy)\n",
        "\n",
        "#ENCODE\n",
        "df_x_train_skills_copy_encode,df_x_test_skills_copy_encode = one_hot_encode(df_x_train_skills_copy_scale,df_x_test_skills_copy_scale)"
      ],
      "metadata": {
        "id": "ApROSJd8FOIG"
      },
      "execution_count": 27,
      "outputs": []
    },
    {
      "cell_type": "markdown",
      "source": [
        "# TRAIN"
      ],
      "metadata": {
        "id": "_rslYA2cjWJD"
      }
    },
    {
      "cell_type": "code",
      "source": [
        "def knn_train(df_x_train, series_y_train,v_n_neighbors):\n",
        "  knn = KNeighborsClassifier(n_neighbors=v_n_neighbors)\n",
        "  knn.fit(df_x_train, series_y_train)\n",
        "  return knn"
      ],
      "metadata": {
        "id": "NlpLMD0XuZlE"
      },
      "execution_count": 28,
      "outputs": []
    },
    {
      "cell_type": "code",
      "source": [
        "def decision_tree_train(df_x_train,series_y_train,c,s):\n",
        "  decision_tree = DecisionTreeRegressor(random_state=0,criterion=c,min_samples_split=s)\n",
        "  decision_tree.fit(df_x_train,series_y_train)\n",
        "  return decision_tree"
      ],
      "metadata": {
        "id": "xngwoFekuiBH"
      },
      "execution_count": 29,
      "outputs": []
    },
    {
      "cell_type": "code",
      "source": [
        "def lin_reg_train(df_x_train,series_y_train,f):\n",
        "  lin_reg_model = LinearRegression(fit_intercept=f)\n",
        "  lin_reg_model.fit(df_x_train,series_y_train)\n",
        "  return lin_reg_model"
      ],
      "metadata": {
        "id": "LrInelaEurwS"
      },
      "execution_count": 30,
      "outputs": []
    },
    {
      "cell_type": "markdown",
      "source": [
        "# run train and validate\n",
        "- took 10% from train for validation of the models\n",
        "- did my own simple grid search"
      ],
      "metadata": {
        "id": "UNOM5NP59FrI"
      }
    },
    {
      "cell_type": "code",
      "source": [
        "train_x, val_x,train_y, val_y = train_test_split(df_x_train_skills_copy_encode,df_y_train_skills, test_size=0.1)"
      ],
      "metadata": {
        "id": "nso4mBz6_3sC"
      },
      "execution_count": 31,
      "outputs": []
    },
    {
      "cell_type": "markdown",
      "source": [
        "save results here"
      ],
      "metadata": {
        "id": "o6wOyMqwHTCL"
      }
    },
    {
      "cell_type": "code",
      "source": [
        "results_dict = {\"model\":[],\n",
        "                \"model_name\":[],\n",
        "                \"model_config\":[],\n",
        "                \"rmse_train\":[],\n",
        "                \"rmse_val\":[]}"
      ],
      "metadata": {
        "id": "SRg9o_QEHSFt"
      },
      "execution_count": 32,
      "outputs": []
    },
    {
      "cell_type": "markdown",
      "source": [
        "## knn search space on K"
      ],
      "metadata": {
        "id": "sOtQUPm5HVsz"
      }
    },
    {
      "cell_type": "code",
      "source": [
        "knn_values = range(3,11,2)\n",
        "rmse_train_arr = []\n",
        "rmse_val_arr = []\n",
        "for knn_val in knn_values:\n",
        "  knn_model = knn_train(train_x, train_y['Salary'],v_n_neighbors=knn_val)\n",
        "  knn_model_name = f'knn_{knn_val}'\n",
        "\n",
        "  y_train_pred = knn_model.predict(train_x)\n",
        "  y_train_true = train_y['Salary']\n",
        "  rmse_train = mean_squared_error(y_train_true, y_train_pred, squared=False)\n",
        "  rmse_train_arr.append(rmse_train)\n",
        "\n",
        "  y_pred = knn_model.predict(val_x)\n",
        "  y_true = val_y['Salary']\n",
        "  rmse_val = mean_squared_error(y_true, y_pred, squared=False)\n",
        "  rmse_val_arr.append(rmse_val)\n",
        "\n",
        "  #save results\n",
        "  results_dict['model'].append(knn_model)\n",
        "  results_dict['model_name'].append('KNN')\n",
        "  results_dict['model_config'].append(knn_model_name)\n",
        "\n",
        "results_dict['rmse_train']+=rmse_train_arr\n",
        "results_dict['rmse_val']+=rmse_val_arr\n",
        "#results_dict['rmse_test']+=list(np.zeros_like(rmse_val_arr,dtype=np.int32))\n",
        "results_dict"
      ],
      "metadata": {
        "colab": {
          "base_uri": "https://localhost:8080/"
        },
        "id": "JNlDBjmi58aG",
        "outputId": "1283ca06-3dc0-48ad-db24-f9a3aa1da08c"
      },
      "execution_count": 33,
      "outputs": [
        {
          "output_type": "execute_result",
          "data": {
            "text/plain": [
              "{'model': [KNeighborsClassifier(n_neighbors=3),\n",
              "  KNeighborsClassifier(),\n",
              "  KNeighborsClassifier(n_neighbors=7),\n",
              "  KNeighborsClassifier(n_neighbors=9)],\n",
              " 'model_name': ['KNN', 'KNN', 'KNN', 'KNN'],\n",
              " 'model_config': ['knn_3', 'knn_5', 'knn_7', 'knn_9'],\n",
              " 'rmse_train': [22554.971810757666,\n",
              "  26274.022499480237,\n",
              "  27148.796221509776,\n",
              "  26607.45844739132],\n",
              " 'rmse_val': [31210.233239168265,\n",
              "  30636.372808173914,\n",
              "  29441.575702294795,\n",
              "  28075.917700508853]}"
            ]
          },
          "metadata": {},
          "execution_count": 33
        }
      ]
    },
    {
      "cell_type": "markdown",
      "source": [
        "## DecisionTreeRegressor"
      ],
      "metadata": {
        "id": "K2m9W9wR22tE"
      }
    },
    {
      "cell_type": "code",
      "source": [
        "criterions = ['squared_error', 'friedman_mse', 'absolute_error', 'poisson']\n",
        "min_samples_splitint = range(2,10,2)\n",
        "rmse_train_arr = []\n",
        "rmse_val_arr = []\n",
        "\n",
        "for c in criterions:\n",
        "    for s in min_samples_splitint:\n",
        "        tree_model = decision_tree_train(train_x, train_y['Salary'],c, s)\n",
        "        tree_model_name = f'dt_{c}_{s}'\n",
        "\n",
        "        y_train_pred = knn_model.predict(train_x)\n",
        "        y_train_true = train_y['Salary']\n",
        "        rmse_train = mean_squared_error(y_train_true, y_train_pred, squared=False)\n",
        "        rmse_train_arr.append(rmse_train)\n",
        "\n",
        "        y_pred = tree_model.predict(val_x)\n",
        "        y_true = val_y['Salary']\n",
        "        rmse_val = mean_squared_error(y_true, y_pred, squared=False)\n",
        "        rmse_val_arr.append(rmse_val)\n",
        "\n",
        "        #save results\n",
        "        results_dict['model'].append(tree_model)\n",
        "        results_dict['model_name'].append('DecisionTree')\n",
        "        results_dict['model_config'].append(tree_model_name)\n",
        "        #results_dict['rmse_val'].append(rmse_val)\n",
        "\n",
        "results_dict['rmse_train']+=rmse_train_arr\n",
        "results_dict['rmse_val']+=rmse_val_arr\n",
        "#results_dict['rmse_test']+=list(np.zeros_like(rmse_val_arr,dtype=np.int32))\n"
      ],
      "metadata": {
        "id": "XLLoE1Dc27ZB"
      },
      "execution_count": 34,
      "outputs": []
    },
    {
      "cell_type": "markdown",
      "source": [
        "## Linear reg"
      ],
      "metadata": {
        "id": "wbae0iEkE_ya"
      }
    },
    {
      "cell_type": "code",
      "source": [
        "rmse_train_arr = []\n",
        "rmse_val_arr = []\n",
        "fit_intercept = [True,False]\n",
        "#normalize = [True,False]\n",
        "\n",
        "for f in fit_intercept:\n",
        "    linreg_model = lin_reg_train(train_x, train_y['Salary'],f)\n",
        "    linreg_model_name = f'linreg_{c}_{s}'\n",
        "\n",
        "    y_train_pred = knn_model.predict(train_x)\n",
        "    y_train_true = train_y['Salary']\n",
        "    rmse_train = mean_squared_error(y_train_true, y_train_pred, squared=False)\n",
        "    rmse_train_arr.append(rmse_train)\n",
        "\n",
        "    y_pred = tree_model.predict(val_x)\n",
        "    y_true = val_y['Salary']\n",
        "    rmse_val = mean_squared_error(y_true, y_pred, squared=False)\n",
        "    rmse_val_arr.append(rmse_val)\n",
        "\n",
        "    #save results\n",
        "    results_dict['model'].append(linreg_model)\n",
        "    results_dict['model_name'].append('LinReg')\n",
        "    results_dict['model_config'].append(linreg_model_name)\n",
        "    #results_dict['rmse_val'].append(rmse_val)\n",
        "\n",
        "results_dict['rmse_train']+=rmse_train_arr\n",
        "results_dict['rmse_val']+=rmse_val_arr\n",
        "#results_dict['rmse_test']+=list(np.zeros_like(rmse_val_arr,dtype=np.int32))\n"
      ],
      "metadata": {
        "id": "oZ3oyC_aFHY0"
      },
      "execution_count": 35,
      "outputs": []
    },
    {
      "cell_type": "markdown",
      "source": [
        "Dataframe of results"
      ],
      "metadata": {
        "id": "hfcUZKIeUZUI"
      }
    },
    {
      "cell_type": "code",
      "source": [
        "df_results = pd.DataFrame(results_dict)"
      ],
      "metadata": {
        "id": "xOLlJtHRQ9Ai"
      },
      "execution_count": 36,
      "outputs": []
    },
    {
      "cell_type": "code",
      "source": [
        "df_results[df_results['model_name']=='LinReg']"
      ],
      "metadata": {
        "colab": {
          "base_uri": "https://localhost:8080/",
          "height": 112
        },
        "id": "11UbEJOsYAoh",
        "outputId": "566d21fa-34b7-4805-aaa4-9f5af405ae32"
      },
      "execution_count": 37,
      "outputs": [
        {
          "output_type": "execute_result",
          "data": {
            "text/plain": [
              "                                    model model_name      model_config  \\\n",
              "20                     LinearRegression()     LinReg  linreg_poisson_8   \n",
              "21  LinearRegression(fit_intercept=False)     LinReg  linreg_poisson_8   \n",
              "\n",
              "      rmse_train      rmse_val  \n",
              "20  26607.458447  11685.283267  \n",
              "21  26607.458447  11685.283267  "
            ],
            "text/html": [
              "\n",
              "  <div id=\"df-9a81901d-3900-4316-b9b5-8843f94ec979\" class=\"colab-df-container\">\n",
              "    <div>\n",
              "<style scoped>\n",
              "    .dataframe tbody tr th:only-of-type {\n",
              "        vertical-align: middle;\n",
              "    }\n",
              "\n",
              "    .dataframe tbody tr th {\n",
              "        vertical-align: top;\n",
              "    }\n",
              "\n",
              "    .dataframe thead th {\n",
              "        text-align: right;\n",
              "    }\n",
              "</style>\n",
              "<table border=\"1\" class=\"dataframe\">\n",
              "  <thead>\n",
              "    <tr style=\"text-align: right;\">\n",
              "      <th></th>\n",
              "      <th>model</th>\n",
              "      <th>model_name</th>\n",
              "      <th>model_config</th>\n",
              "      <th>rmse_train</th>\n",
              "      <th>rmse_val</th>\n",
              "    </tr>\n",
              "  </thead>\n",
              "  <tbody>\n",
              "    <tr>\n",
              "      <th>20</th>\n",
              "      <td>LinearRegression()</td>\n",
              "      <td>LinReg</td>\n",
              "      <td>linreg_poisson_8</td>\n",
              "      <td>26607.458447</td>\n",
              "      <td>11685.283267</td>\n",
              "    </tr>\n",
              "    <tr>\n",
              "      <th>21</th>\n",
              "      <td>LinearRegression(fit_intercept=False)</td>\n",
              "      <td>LinReg</td>\n",
              "      <td>linreg_poisson_8</td>\n",
              "      <td>26607.458447</td>\n",
              "      <td>11685.283267</td>\n",
              "    </tr>\n",
              "  </tbody>\n",
              "</table>\n",
              "</div>\n",
              "    <div class=\"colab-df-buttons\">\n",
              "\n",
              "  <div class=\"colab-df-container\">\n",
              "    <button class=\"colab-df-convert\" onclick=\"convertToInteractive('df-9a81901d-3900-4316-b9b5-8843f94ec979')\"\n",
              "            title=\"Convert this dataframe to an interactive table.\"\n",
              "            style=\"display:none;\">\n",
              "\n",
              "  <svg xmlns=\"http://www.w3.org/2000/svg\" height=\"24px\" viewBox=\"0 -960 960 960\">\n",
              "    <path d=\"M120-120v-720h720v720H120Zm60-500h600v-160H180v160Zm220 220h160v-160H400v160Zm0 220h160v-160H400v160ZM180-400h160v-160H180v160Zm440 0h160v-160H620v160ZM180-180h160v-160H180v160Zm440 0h160v-160H620v160Z\"/>\n",
              "  </svg>\n",
              "    </button>\n",
              "\n",
              "  <style>\n",
              "    .colab-df-container {\n",
              "      display:flex;\n",
              "      gap: 12px;\n",
              "    }\n",
              "\n",
              "    .colab-df-convert {\n",
              "      background-color: #E8F0FE;\n",
              "      border: none;\n",
              "      border-radius: 50%;\n",
              "      cursor: pointer;\n",
              "      display: none;\n",
              "      fill: #1967D2;\n",
              "      height: 32px;\n",
              "      padding: 0 0 0 0;\n",
              "      width: 32px;\n",
              "    }\n",
              "\n",
              "    .colab-df-convert:hover {\n",
              "      background-color: #E2EBFA;\n",
              "      box-shadow: 0px 1px 2px rgba(60, 64, 67, 0.3), 0px 1px 3px 1px rgba(60, 64, 67, 0.15);\n",
              "      fill: #174EA6;\n",
              "    }\n",
              "\n",
              "    .colab-df-buttons div {\n",
              "      margin-bottom: 4px;\n",
              "    }\n",
              "\n",
              "    [theme=dark] .colab-df-convert {\n",
              "      background-color: #3B4455;\n",
              "      fill: #D2E3FC;\n",
              "    }\n",
              "\n",
              "    [theme=dark] .colab-df-convert:hover {\n",
              "      background-color: #434B5C;\n",
              "      box-shadow: 0px 1px 3px 1px rgba(0, 0, 0, 0.15);\n",
              "      filter: drop-shadow(0px 1px 2px rgba(0, 0, 0, 0.3));\n",
              "      fill: #FFFFFF;\n",
              "    }\n",
              "  </style>\n",
              "\n",
              "    <script>\n",
              "      const buttonEl =\n",
              "        document.querySelector('#df-9a81901d-3900-4316-b9b5-8843f94ec979 button.colab-df-convert');\n",
              "      buttonEl.style.display =\n",
              "        google.colab.kernel.accessAllowed ? 'block' : 'none';\n",
              "\n",
              "      async function convertToInteractive(key) {\n",
              "        const element = document.querySelector('#df-9a81901d-3900-4316-b9b5-8843f94ec979');\n",
              "        const dataTable =\n",
              "          await google.colab.kernel.invokeFunction('convertToInteractive',\n",
              "                                                    [key], {});\n",
              "        if (!dataTable) return;\n",
              "\n",
              "        const docLinkHtml = 'Like what you see? Visit the ' +\n",
              "          '<a target=\"_blank\" href=https://colab.research.google.com/notebooks/data_table.ipynb>data table notebook</a>'\n",
              "          + ' to learn more about interactive tables.';\n",
              "        element.innerHTML = '';\n",
              "        dataTable['output_type'] = 'display_data';\n",
              "        await google.colab.output.renderOutput(dataTable, element);\n",
              "        const docLink = document.createElement('div');\n",
              "        docLink.innerHTML = docLinkHtml;\n",
              "        element.appendChild(docLink);\n",
              "      }\n",
              "    </script>\n",
              "  </div>\n",
              "\n",
              "    </div>\n",
              "  </div>\n"
            ]
          },
          "metadata": {},
          "execution_count": 37
        }
      ]
    },
    {
      "cell_type": "markdown",
      "source": [
        "##  ensemble\n",
        "- take the best of each model type\n",
        "- create 3 new cols: KNN_PREDICT , LINREG_PREDICT, DT_PREDICT\n",
        "- create ensemble col = mean of the 3 models values\n",
        "- calc RMSE on the ensemble col\n",
        "- NOW we got another type of model"
      ],
      "metadata": {
        "id": "_vIvqOB_rLuc"
      }
    },
    {
      "cell_type": "markdown",
      "source": [
        "get best model of each type"
      ],
      "metadata": {
        "id": "QhjMuJI5aT_Q"
      }
    },
    {
      "cell_type": "code",
      "source": [
        "df_best_model_results = df_results.groupby('model_name').min('rmse_val').reset_index()\n",
        "df_best_model_results"
      ],
      "metadata": {
        "colab": {
          "base_uri": "https://localhost:8080/",
          "height": 143
        },
        "id": "-oy9n-_cSyhu",
        "outputId": "95c55f0a-03d9-4c08-bcde-b7e6c1fdf706"
      },
      "execution_count": 38,
      "outputs": [
        {
          "output_type": "execute_result",
          "data": {
            "text/plain": [
              "     model_name    rmse_train      rmse_val\n",
              "0  DecisionTree  26607.458447   8989.252769\n",
              "1           KNN  22554.971811  28075.917701\n",
              "2        LinReg  26607.458447  11685.283267"
            ],
            "text/html": [
              "\n",
              "  <div id=\"df-5fbebb7f-4345-41c9-89fe-0847e6265827\" class=\"colab-df-container\">\n",
              "    <div>\n",
              "<style scoped>\n",
              "    .dataframe tbody tr th:only-of-type {\n",
              "        vertical-align: middle;\n",
              "    }\n",
              "\n",
              "    .dataframe tbody tr th {\n",
              "        vertical-align: top;\n",
              "    }\n",
              "\n",
              "    .dataframe thead th {\n",
              "        text-align: right;\n",
              "    }\n",
              "</style>\n",
              "<table border=\"1\" class=\"dataframe\">\n",
              "  <thead>\n",
              "    <tr style=\"text-align: right;\">\n",
              "      <th></th>\n",
              "      <th>model_name</th>\n",
              "      <th>rmse_train</th>\n",
              "      <th>rmse_val</th>\n",
              "    </tr>\n",
              "  </thead>\n",
              "  <tbody>\n",
              "    <tr>\n",
              "      <th>0</th>\n",
              "      <td>DecisionTree</td>\n",
              "      <td>26607.458447</td>\n",
              "      <td>8989.252769</td>\n",
              "    </tr>\n",
              "    <tr>\n",
              "      <th>1</th>\n",
              "      <td>KNN</td>\n",
              "      <td>22554.971811</td>\n",
              "      <td>28075.917701</td>\n",
              "    </tr>\n",
              "    <tr>\n",
              "      <th>2</th>\n",
              "      <td>LinReg</td>\n",
              "      <td>26607.458447</td>\n",
              "      <td>11685.283267</td>\n",
              "    </tr>\n",
              "  </tbody>\n",
              "</table>\n",
              "</div>\n",
              "    <div class=\"colab-df-buttons\">\n",
              "\n",
              "  <div class=\"colab-df-container\">\n",
              "    <button class=\"colab-df-convert\" onclick=\"convertToInteractive('df-5fbebb7f-4345-41c9-89fe-0847e6265827')\"\n",
              "            title=\"Convert this dataframe to an interactive table.\"\n",
              "            style=\"display:none;\">\n",
              "\n",
              "  <svg xmlns=\"http://www.w3.org/2000/svg\" height=\"24px\" viewBox=\"0 -960 960 960\">\n",
              "    <path d=\"M120-120v-720h720v720H120Zm60-500h600v-160H180v160Zm220 220h160v-160H400v160Zm0 220h160v-160H400v160ZM180-400h160v-160H180v160Zm440 0h160v-160H620v160ZM180-180h160v-160H180v160Zm440 0h160v-160H620v160Z\"/>\n",
              "  </svg>\n",
              "    </button>\n",
              "\n",
              "  <style>\n",
              "    .colab-df-container {\n",
              "      display:flex;\n",
              "      gap: 12px;\n",
              "    }\n",
              "\n",
              "    .colab-df-convert {\n",
              "      background-color: #E8F0FE;\n",
              "      border: none;\n",
              "      border-radius: 50%;\n",
              "      cursor: pointer;\n",
              "      display: none;\n",
              "      fill: #1967D2;\n",
              "      height: 32px;\n",
              "      padding: 0 0 0 0;\n",
              "      width: 32px;\n",
              "    }\n",
              "\n",
              "    .colab-df-convert:hover {\n",
              "      background-color: #E2EBFA;\n",
              "      box-shadow: 0px 1px 2px rgba(60, 64, 67, 0.3), 0px 1px 3px 1px rgba(60, 64, 67, 0.15);\n",
              "      fill: #174EA6;\n",
              "    }\n",
              "\n",
              "    .colab-df-buttons div {\n",
              "      margin-bottom: 4px;\n",
              "    }\n",
              "\n",
              "    [theme=dark] .colab-df-convert {\n",
              "      background-color: #3B4455;\n",
              "      fill: #D2E3FC;\n",
              "    }\n",
              "\n",
              "    [theme=dark] .colab-df-convert:hover {\n",
              "      background-color: #434B5C;\n",
              "      box-shadow: 0px 1px 3px 1px rgba(0, 0, 0, 0.15);\n",
              "      filter: drop-shadow(0px 1px 2px rgba(0, 0, 0, 0.3));\n",
              "      fill: #FFFFFF;\n",
              "    }\n",
              "  </style>\n",
              "\n",
              "    <script>\n",
              "      const buttonEl =\n",
              "        document.querySelector('#df-5fbebb7f-4345-41c9-89fe-0847e6265827 button.colab-df-convert');\n",
              "      buttonEl.style.display =\n",
              "        google.colab.kernel.accessAllowed ? 'block' : 'none';\n",
              "\n",
              "      async function convertToInteractive(key) {\n",
              "        const element = document.querySelector('#df-5fbebb7f-4345-41c9-89fe-0847e6265827');\n",
              "        const dataTable =\n",
              "          await google.colab.kernel.invokeFunction('convertToInteractive',\n",
              "                                                    [key], {});\n",
              "        if (!dataTable) return;\n",
              "\n",
              "        const docLinkHtml = 'Like what you see? Visit the ' +\n",
              "          '<a target=\"_blank\" href=https://colab.research.google.com/notebooks/data_table.ipynb>data table notebook</a>'\n",
              "          + ' to learn more about interactive tables.';\n",
              "        element.innerHTML = '';\n",
              "        dataTable['output_type'] = 'display_data';\n",
              "        await google.colab.output.renderOutput(dataTable, element);\n",
              "        const docLink = document.createElement('div');\n",
              "        docLink.innerHTML = docLinkHtml;\n",
              "        element.appendChild(docLink);\n",
              "      }\n",
              "    </script>\n",
              "  </div>\n",
              "\n",
              "    </div>\n",
              "  </div>\n"
            ]
          },
          "metadata": {},
          "execution_count": 38
        }
      ]
    },
    {
      "cell_type": "code",
      "source": [
        "best_model_arr = []\n",
        "for index, row in df_best_model_results.iterrows():\n",
        "    model_name = row['model_name']\n",
        "    rmse_val = row['rmse_val']\n",
        "    #print(rmse_val , rmse_train, model_name)\n",
        "    best_model = df_results.loc[((df_results['rmse_val'] == rmse_val) &\n",
        "                                 (df_results['model_name'] == model_name)), 'model'].iloc[0]\n",
        "\n",
        "    #print(best_model)\n",
        "    best_model_arr.append(best_model)\n",
        "\n",
        "df_best_model_results['best_model'] = best_model_arr\n",
        "df_best_model_results"
      ],
      "metadata": {
        "id": "-vVkvMkiU7hE",
        "colab": {
          "base_uri": "https://localhost:8080/",
          "height": 143
        },
        "outputId": "35d0ba36-838a-42fb-8d02-b6af06ccef82"
      },
      "execution_count": 39,
      "outputs": [
        {
          "output_type": "execute_result",
          "data": {
            "text/plain": [
              "     model_name    rmse_train      rmse_val  \\\n",
              "0  DecisionTree  26607.458447   8989.252769   \n",
              "1           KNN  22554.971811  28075.917701   \n",
              "2        LinReg  26607.458447  11685.283267   \n",
              "\n",
              "                                          best_model  \n",
              "0  DecisionTreeRegressor(criterion='absolute_erro...  \n",
              "1                KNeighborsClassifier(n_neighbors=9)  \n",
              "2                                 LinearRegression()  "
            ],
            "text/html": [
              "\n",
              "  <div id=\"df-4ecc48ba-4181-4a63-9a0f-8b68fc5e19d6\" class=\"colab-df-container\">\n",
              "    <div>\n",
              "<style scoped>\n",
              "    .dataframe tbody tr th:only-of-type {\n",
              "        vertical-align: middle;\n",
              "    }\n",
              "\n",
              "    .dataframe tbody tr th {\n",
              "        vertical-align: top;\n",
              "    }\n",
              "\n",
              "    .dataframe thead th {\n",
              "        text-align: right;\n",
              "    }\n",
              "</style>\n",
              "<table border=\"1\" class=\"dataframe\">\n",
              "  <thead>\n",
              "    <tr style=\"text-align: right;\">\n",
              "      <th></th>\n",
              "      <th>model_name</th>\n",
              "      <th>rmse_train</th>\n",
              "      <th>rmse_val</th>\n",
              "      <th>best_model</th>\n",
              "    </tr>\n",
              "  </thead>\n",
              "  <tbody>\n",
              "    <tr>\n",
              "      <th>0</th>\n",
              "      <td>DecisionTree</td>\n",
              "      <td>26607.458447</td>\n",
              "      <td>8989.252769</td>\n",
              "      <td>DecisionTreeRegressor(criterion='absolute_erro...</td>\n",
              "    </tr>\n",
              "    <tr>\n",
              "      <th>1</th>\n",
              "      <td>KNN</td>\n",
              "      <td>22554.971811</td>\n",
              "      <td>28075.917701</td>\n",
              "      <td>KNeighborsClassifier(n_neighbors=9)</td>\n",
              "    </tr>\n",
              "    <tr>\n",
              "      <th>2</th>\n",
              "      <td>LinReg</td>\n",
              "      <td>26607.458447</td>\n",
              "      <td>11685.283267</td>\n",
              "      <td>LinearRegression()</td>\n",
              "    </tr>\n",
              "  </tbody>\n",
              "</table>\n",
              "</div>\n",
              "    <div class=\"colab-df-buttons\">\n",
              "\n",
              "  <div class=\"colab-df-container\">\n",
              "    <button class=\"colab-df-convert\" onclick=\"convertToInteractive('df-4ecc48ba-4181-4a63-9a0f-8b68fc5e19d6')\"\n",
              "            title=\"Convert this dataframe to an interactive table.\"\n",
              "            style=\"display:none;\">\n",
              "\n",
              "  <svg xmlns=\"http://www.w3.org/2000/svg\" height=\"24px\" viewBox=\"0 -960 960 960\">\n",
              "    <path d=\"M120-120v-720h720v720H120Zm60-500h600v-160H180v160Zm220 220h160v-160H400v160Zm0 220h160v-160H400v160ZM180-400h160v-160H180v160Zm440 0h160v-160H620v160ZM180-180h160v-160H180v160Zm440 0h160v-160H620v160Z\"/>\n",
              "  </svg>\n",
              "    </button>\n",
              "\n",
              "  <style>\n",
              "    .colab-df-container {\n",
              "      display:flex;\n",
              "      gap: 12px;\n",
              "    }\n",
              "\n",
              "    .colab-df-convert {\n",
              "      background-color: #E8F0FE;\n",
              "      border: none;\n",
              "      border-radius: 50%;\n",
              "      cursor: pointer;\n",
              "      display: none;\n",
              "      fill: #1967D2;\n",
              "      height: 32px;\n",
              "      padding: 0 0 0 0;\n",
              "      width: 32px;\n",
              "    }\n",
              "\n",
              "    .colab-df-convert:hover {\n",
              "      background-color: #E2EBFA;\n",
              "      box-shadow: 0px 1px 2px rgba(60, 64, 67, 0.3), 0px 1px 3px 1px rgba(60, 64, 67, 0.15);\n",
              "      fill: #174EA6;\n",
              "    }\n",
              "\n",
              "    .colab-df-buttons div {\n",
              "      margin-bottom: 4px;\n",
              "    }\n",
              "\n",
              "    [theme=dark] .colab-df-convert {\n",
              "      background-color: #3B4455;\n",
              "      fill: #D2E3FC;\n",
              "    }\n",
              "\n",
              "    [theme=dark] .colab-df-convert:hover {\n",
              "      background-color: #434B5C;\n",
              "      box-shadow: 0px 1px 3px 1px rgba(0, 0, 0, 0.15);\n",
              "      filter: drop-shadow(0px 1px 2px rgba(0, 0, 0, 0.3));\n",
              "      fill: #FFFFFF;\n",
              "    }\n",
              "  </style>\n",
              "\n",
              "    <script>\n",
              "      const buttonEl =\n",
              "        document.querySelector('#df-4ecc48ba-4181-4a63-9a0f-8b68fc5e19d6 button.colab-df-convert');\n",
              "      buttonEl.style.display =\n",
              "        google.colab.kernel.accessAllowed ? 'block' : 'none';\n",
              "\n",
              "      async function convertToInteractive(key) {\n",
              "        const element = document.querySelector('#df-4ecc48ba-4181-4a63-9a0f-8b68fc5e19d6');\n",
              "        const dataTable =\n",
              "          await google.colab.kernel.invokeFunction('convertToInteractive',\n",
              "                                                    [key], {});\n",
              "        if (!dataTable) return;\n",
              "\n",
              "        const docLinkHtml = 'Like what you see? Visit the ' +\n",
              "          '<a target=\"_blank\" href=https://colab.research.google.com/notebooks/data_table.ipynb>data table notebook</a>'\n",
              "          + ' to learn more about interactive tables.';\n",
              "        element.innerHTML = '';\n",
              "        dataTable['output_type'] = 'display_data';\n",
              "        await google.colab.output.renderOutput(dataTable, element);\n",
              "        const docLink = document.createElement('div');\n",
              "        docLink.innerHTML = docLinkHtml;\n",
              "        element.appendChild(docLink);\n",
              "      }\n",
              "    </script>\n",
              "  </div>\n",
              "\n",
              "    </div>\n",
              "  </div>\n"
            ]
          },
          "metadata": {},
          "execution_count": 39
        }
      ]
    },
    {
      "cell_type": "markdown",
      "source": [
        "do predict with each best model , do mean on each perdict row"
      ],
      "metadata": {
        "id": "1pA4w5rYaaKq"
      }
    },
    {
      "cell_type": "code",
      "source": [
        "\n",
        "def ensemble_predict(df_x):\n",
        "    best_model_columns = []\n",
        "    df_x_ensemble = df_x.copy()\n",
        "    for index, row in df_best_model_results.iterrows():\n",
        "        model_name = row['model_name']\n",
        "        model = row['best_model']\n",
        "        y_pred = model.predict(df_x)\n",
        "        df_x_ensemble[f'{model_name}_predict'] = y_pred\n",
        "        best_model_columns.append(f'{model_name}_predict')\n",
        "\n",
        "    df_x_ensemble['mean_best_model_predict'] = df_x_ensemble[best_model_columns].mean(axis=1)\n",
        "    y_ensemble_pred = df_x_ensemble['mean_best_model_predict']\n",
        "    return y_ensemble_pred ,df_x_ensemble,best_model_columns"
      ],
      "metadata": {
        "id": "1FrHLkFBazdg"
      },
      "execution_count": 40,
      "outputs": []
    },
    {
      "cell_type": "markdown",
      "source": [
        "val set enseble"
      ],
      "metadata": {
        "id": "B0xYinTyclff"
      }
    },
    {
      "cell_type": "code",
      "source": [
        "y_val_pred ,df_val_x_ensemble,best_model_columns = ensemble_predict(val_x)\n",
        "y_val_true = val_y['Salary']"
      ],
      "metadata": {
        "id": "X5063vqca7eX"
      },
      "execution_count": 41,
      "outputs": []
    },
    {
      "cell_type": "markdown",
      "source": [
        "RMSE of ensemble of 3 is HUGE !!!\n",
        "let's check"
      ],
      "metadata": {
        "id": "5DgtcnquebpR"
      }
    },
    {
      "cell_type": "code",
      "source": [
        "rmse_ensemble = mean_squared_error(y_val_true, y_val_pred, squared=False)\n",
        "print(f'RMSE of val ensemble is: {rmse_ensemble}')"
      ],
      "metadata": {
        "colab": {
          "base_uri": "https://localhost:8080/"
        },
        "id": "MSrv5xxPd3XC",
        "outputId": "7d9c07fd-64dc-49ff-df3b-68c8a5402073"
      },
      "execution_count": 42,
      "outputs": [
        {
          "output_type": "stream",
          "name": "stdout",
          "text": [
            "RMSE of val ensemble is: 21091536165657.11\n"
          ]
        }
      ]
    },
    {
      "cell_type": "markdown",
      "source": [
        "train set ensemble"
      ],
      "metadata": {
        "id": "IP1OZKu0cpME"
      }
    },
    {
      "cell_type": "code",
      "source": [
        "y_train_pred ,df_train_x_ensemble ,best_model_columns= ensemble_predict(train_x)\n",
        "y_train_true = train_y['Salary']"
      ],
      "metadata": {
        "id": "0lI8PkeacrB8"
      },
      "execution_count": 43,
      "outputs": []
    },
    {
      "cell_type": "code",
      "source": [
        "rmse_train_ensemble = mean_squared_error(y_train_true, y_train_pred, squared=False)\n",
        "print(f'RMSE of train ensemble is: {rmse_train_ensemble}')"
      ],
      "metadata": {
        "colab": {
          "base_uri": "https://localhost:8080/"
        },
        "id": "EgX5pO00dtJ9",
        "outputId": "6aa79ff7-813d-4a54-d8df-e6ba1b17ad3c"
      },
      "execution_count": 44,
      "outputs": [
        {
          "output_type": "stream",
          "name": "stdout",
          "text": [
            "RMSE of train ensemble is: 11998.736254477313\n"
          ]
        }
      ]
    },
    {
      "cell_type": "markdown",
      "source": [
        "add this results"
      ],
      "metadata": {
        "id": "SlJhnSwtYumF"
      }
    },
    {
      "cell_type": "code",
      "source": [
        "new_row = {'model': 'ENSEMBLE', 'model_name': 'ENSEMBLE', 'model_config': 'ENSEMBLE_3','rmse_train':rmse_train_ensemble, 'rmse_val':rmse_ensemble}\n",
        "\n",
        "# Add the new row to the DataFrame\n",
        "df_results = df_results.append(new_row, ignore_index=True)\n",
        "df_results"
      ],
      "metadata": {
        "colab": {
          "base_uri": "https://localhost:8080/",
          "height": 825
        },
        "id": "ss-TKc8HYs6u",
        "outputId": "7cd878d1-6cf5-4db9-94b9-b8274d15e97c"
      },
      "execution_count": 45,
      "outputs": [
        {
          "output_type": "stream",
          "name": "stderr",
          "text": [
            "<ipython-input-45-217caca8bc85>:4: FutureWarning: The frame.append method is deprecated and will be removed from pandas in a future version. Use pandas.concat instead.\n",
            "  df_results = df_results.append(new_row, ignore_index=True)\n"
          ]
        },
        {
          "output_type": "execute_result",
          "data": {
            "text/plain": [
              "                                                model    model_name  \\\n",
              "0                 KNeighborsClassifier(n_neighbors=3)           KNN   \n",
              "1                              KNeighborsClassifier()           KNN   \n",
              "2                 KNeighborsClassifier(n_neighbors=7)           KNN   \n",
              "3                 KNeighborsClassifier(n_neighbors=9)           KNN   \n",
              "4               DecisionTreeRegressor(random_state=0)  DecisionTree   \n",
              "5   DecisionTreeRegressor(min_samples_split=4, ran...  DecisionTree   \n",
              "6   DecisionTreeRegressor(min_samples_split=6, ran...  DecisionTree   \n",
              "7   DecisionTreeRegressor(min_samples_split=8, ran...  DecisionTree   \n",
              "8   DecisionTreeRegressor(criterion='friedman_mse'...  DecisionTree   \n",
              "9   DecisionTreeRegressor(criterion='friedman_mse'...  DecisionTree   \n",
              "10  DecisionTreeRegressor(criterion='friedman_mse'...  DecisionTree   \n",
              "11  DecisionTreeRegressor(criterion='friedman_mse'...  DecisionTree   \n",
              "12  DecisionTreeRegressor(criterion='absolute_erro...  DecisionTree   \n",
              "13  DecisionTreeRegressor(criterion='absolute_erro...  DecisionTree   \n",
              "14  DecisionTreeRegressor(criterion='absolute_erro...  DecisionTree   \n",
              "15  DecisionTreeRegressor(criterion='absolute_erro...  DecisionTree   \n",
              "16  DecisionTreeRegressor(criterion='poisson', ran...  DecisionTree   \n",
              "17  DecisionTreeRegressor(criterion='poisson', min...  DecisionTree   \n",
              "18  DecisionTreeRegressor(criterion='poisson', min...  DecisionTree   \n",
              "19  DecisionTreeRegressor(criterion='poisson', min...  DecisionTree   \n",
              "20                                 LinearRegression()        LinReg   \n",
              "21              LinearRegression(fit_intercept=False)        LinReg   \n",
              "22                                           ENSEMBLE      ENSEMBLE   \n",
              "\n",
              "           model_config    rmse_train      rmse_val  \n",
              "0                 knn_3  22554.971811  3.121023e+04  \n",
              "1                 knn_5  26274.022499  3.063637e+04  \n",
              "2                 knn_7  27148.796222  2.944158e+04  \n",
              "3                 knn_9  26607.458447  2.807592e+04  \n",
              "4    dt_squared_error_2  26607.458447  1.157795e+04  \n",
              "5    dt_squared_error_4  26607.458447  1.114640e+04  \n",
              "6    dt_squared_error_6  26607.458447  1.124044e+04  \n",
              "7    dt_squared_error_8  26607.458447  1.092387e+04  \n",
              "8     dt_friedman_mse_2  26607.458447  1.157795e+04  \n",
              "9     dt_friedman_mse_4  26607.458447  1.114640e+04  \n",
              "10    dt_friedman_mse_6  26607.458447  1.124044e+04  \n",
              "11    dt_friedman_mse_8  26607.458447  1.092387e+04  \n",
              "12  dt_absolute_error_2  26607.458447  9.487911e+03  \n",
              "13  dt_absolute_error_4  26607.458447  9.022294e+03  \n",
              "14  dt_absolute_error_6  26607.458447  8.993350e+03  \n",
              "15  dt_absolute_error_8  26607.458447  8.989253e+03  \n",
              "16         dt_poisson_2  26607.458447  1.142703e+04  \n",
              "17         dt_poisson_4  26607.458447  1.145968e+04  \n",
              "18         dt_poisson_6  26607.458447  1.149390e+04  \n",
              "19         dt_poisson_8  26607.458447  1.168528e+04  \n",
              "20     linreg_poisson_8  26607.458447  1.168528e+04  \n",
              "21     linreg_poisson_8  26607.458447  1.168528e+04  \n",
              "22           ENSEMBLE_3  11998.736254  2.109154e+13  "
            ],
            "text/html": [
              "\n",
              "  <div id=\"df-a5c003a1-e59f-41fd-8f28-0e2015f8830f\" class=\"colab-df-container\">\n",
              "    <div>\n",
              "<style scoped>\n",
              "    .dataframe tbody tr th:only-of-type {\n",
              "        vertical-align: middle;\n",
              "    }\n",
              "\n",
              "    .dataframe tbody tr th {\n",
              "        vertical-align: top;\n",
              "    }\n",
              "\n",
              "    .dataframe thead th {\n",
              "        text-align: right;\n",
              "    }\n",
              "</style>\n",
              "<table border=\"1\" class=\"dataframe\">\n",
              "  <thead>\n",
              "    <tr style=\"text-align: right;\">\n",
              "      <th></th>\n",
              "      <th>model</th>\n",
              "      <th>model_name</th>\n",
              "      <th>model_config</th>\n",
              "      <th>rmse_train</th>\n",
              "      <th>rmse_val</th>\n",
              "    </tr>\n",
              "  </thead>\n",
              "  <tbody>\n",
              "    <tr>\n",
              "      <th>0</th>\n",
              "      <td>KNeighborsClassifier(n_neighbors=3)</td>\n",
              "      <td>KNN</td>\n",
              "      <td>knn_3</td>\n",
              "      <td>22554.971811</td>\n",
              "      <td>3.121023e+04</td>\n",
              "    </tr>\n",
              "    <tr>\n",
              "      <th>1</th>\n",
              "      <td>KNeighborsClassifier()</td>\n",
              "      <td>KNN</td>\n",
              "      <td>knn_5</td>\n",
              "      <td>26274.022499</td>\n",
              "      <td>3.063637e+04</td>\n",
              "    </tr>\n",
              "    <tr>\n",
              "      <th>2</th>\n",
              "      <td>KNeighborsClassifier(n_neighbors=7)</td>\n",
              "      <td>KNN</td>\n",
              "      <td>knn_7</td>\n",
              "      <td>27148.796222</td>\n",
              "      <td>2.944158e+04</td>\n",
              "    </tr>\n",
              "    <tr>\n",
              "      <th>3</th>\n",
              "      <td>KNeighborsClassifier(n_neighbors=9)</td>\n",
              "      <td>KNN</td>\n",
              "      <td>knn_9</td>\n",
              "      <td>26607.458447</td>\n",
              "      <td>2.807592e+04</td>\n",
              "    </tr>\n",
              "    <tr>\n",
              "      <th>4</th>\n",
              "      <td>DecisionTreeRegressor(random_state=0)</td>\n",
              "      <td>DecisionTree</td>\n",
              "      <td>dt_squared_error_2</td>\n",
              "      <td>26607.458447</td>\n",
              "      <td>1.157795e+04</td>\n",
              "    </tr>\n",
              "    <tr>\n",
              "      <th>5</th>\n",
              "      <td>DecisionTreeRegressor(min_samples_split=4, ran...</td>\n",
              "      <td>DecisionTree</td>\n",
              "      <td>dt_squared_error_4</td>\n",
              "      <td>26607.458447</td>\n",
              "      <td>1.114640e+04</td>\n",
              "    </tr>\n",
              "    <tr>\n",
              "      <th>6</th>\n",
              "      <td>DecisionTreeRegressor(min_samples_split=6, ran...</td>\n",
              "      <td>DecisionTree</td>\n",
              "      <td>dt_squared_error_6</td>\n",
              "      <td>26607.458447</td>\n",
              "      <td>1.124044e+04</td>\n",
              "    </tr>\n",
              "    <tr>\n",
              "      <th>7</th>\n",
              "      <td>DecisionTreeRegressor(min_samples_split=8, ran...</td>\n",
              "      <td>DecisionTree</td>\n",
              "      <td>dt_squared_error_8</td>\n",
              "      <td>26607.458447</td>\n",
              "      <td>1.092387e+04</td>\n",
              "    </tr>\n",
              "    <tr>\n",
              "      <th>8</th>\n",
              "      <td>DecisionTreeRegressor(criterion='friedman_mse'...</td>\n",
              "      <td>DecisionTree</td>\n",
              "      <td>dt_friedman_mse_2</td>\n",
              "      <td>26607.458447</td>\n",
              "      <td>1.157795e+04</td>\n",
              "    </tr>\n",
              "    <tr>\n",
              "      <th>9</th>\n",
              "      <td>DecisionTreeRegressor(criterion='friedman_mse'...</td>\n",
              "      <td>DecisionTree</td>\n",
              "      <td>dt_friedman_mse_4</td>\n",
              "      <td>26607.458447</td>\n",
              "      <td>1.114640e+04</td>\n",
              "    </tr>\n",
              "    <tr>\n",
              "      <th>10</th>\n",
              "      <td>DecisionTreeRegressor(criterion='friedman_mse'...</td>\n",
              "      <td>DecisionTree</td>\n",
              "      <td>dt_friedman_mse_6</td>\n",
              "      <td>26607.458447</td>\n",
              "      <td>1.124044e+04</td>\n",
              "    </tr>\n",
              "    <tr>\n",
              "      <th>11</th>\n",
              "      <td>DecisionTreeRegressor(criterion='friedman_mse'...</td>\n",
              "      <td>DecisionTree</td>\n",
              "      <td>dt_friedman_mse_8</td>\n",
              "      <td>26607.458447</td>\n",
              "      <td>1.092387e+04</td>\n",
              "    </tr>\n",
              "    <tr>\n",
              "      <th>12</th>\n",
              "      <td>DecisionTreeRegressor(criterion='absolute_erro...</td>\n",
              "      <td>DecisionTree</td>\n",
              "      <td>dt_absolute_error_2</td>\n",
              "      <td>26607.458447</td>\n",
              "      <td>9.487911e+03</td>\n",
              "    </tr>\n",
              "    <tr>\n",
              "      <th>13</th>\n",
              "      <td>DecisionTreeRegressor(criterion='absolute_erro...</td>\n",
              "      <td>DecisionTree</td>\n",
              "      <td>dt_absolute_error_4</td>\n",
              "      <td>26607.458447</td>\n",
              "      <td>9.022294e+03</td>\n",
              "    </tr>\n",
              "    <tr>\n",
              "      <th>14</th>\n",
              "      <td>DecisionTreeRegressor(criterion='absolute_erro...</td>\n",
              "      <td>DecisionTree</td>\n",
              "      <td>dt_absolute_error_6</td>\n",
              "      <td>26607.458447</td>\n",
              "      <td>8.993350e+03</td>\n",
              "    </tr>\n",
              "    <tr>\n",
              "      <th>15</th>\n",
              "      <td>DecisionTreeRegressor(criterion='absolute_erro...</td>\n",
              "      <td>DecisionTree</td>\n",
              "      <td>dt_absolute_error_8</td>\n",
              "      <td>26607.458447</td>\n",
              "      <td>8.989253e+03</td>\n",
              "    </tr>\n",
              "    <tr>\n",
              "      <th>16</th>\n",
              "      <td>DecisionTreeRegressor(criterion='poisson', ran...</td>\n",
              "      <td>DecisionTree</td>\n",
              "      <td>dt_poisson_2</td>\n",
              "      <td>26607.458447</td>\n",
              "      <td>1.142703e+04</td>\n",
              "    </tr>\n",
              "    <tr>\n",
              "      <th>17</th>\n",
              "      <td>DecisionTreeRegressor(criterion='poisson', min...</td>\n",
              "      <td>DecisionTree</td>\n",
              "      <td>dt_poisson_4</td>\n",
              "      <td>26607.458447</td>\n",
              "      <td>1.145968e+04</td>\n",
              "    </tr>\n",
              "    <tr>\n",
              "      <th>18</th>\n",
              "      <td>DecisionTreeRegressor(criterion='poisson', min...</td>\n",
              "      <td>DecisionTree</td>\n",
              "      <td>dt_poisson_6</td>\n",
              "      <td>26607.458447</td>\n",
              "      <td>1.149390e+04</td>\n",
              "    </tr>\n",
              "    <tr>\n",
              "      <th>19</th>\n",
              "      <td>DecisionTreeRegressor(criterion='poisson', min...</td>\n",
              "      <td>DecisionTree</td>\n",
              "      <td>dt_poisson_8</td>\n",
              "      <td>26607.458447</td>\n",
              "      <td>1.168528e+04</td>\n",
              "    </tr>\n",
              "    <tr>\n",
              "      <th>20</th>\n",
              "      <td>LinearRegression()</td>\n",
              "      <td>LinReg</td>\n",
              "      <td>linreg_poisson_8</td>\n",
              "      <td>26607.458447</td>\n",
              "      <td>1.168528e+04</td>\n",
              "    </tr>\n",
              "    <tr>\n",
              "      <th>21</th>\n",
              "      <td>LinearRegression(fit_intercept=False)</td>\n",
              "      <td>LinReg</td>\n",
              "      <td>linreg_poisson_8</td>\n",
              "      <td>26607.458447</td>\n",
              "      <td>1.168528e+04</td>\n",
              "    </tr>\n",
              "    <tr>\n",
              "      <th>22</th>\n",
              "      <td>ENSEMBLE</td>\n",
              "      <td>ENSEMBLE</td>\n",
              "      <td>ENSEMBLE_3</td>\n",
              "      <td>11998.736254</td>\n",
              "      <td>2.109154e+13</td>\n",
              "    </tr>\n",
              "  </tbody>\n",
              "</table>\n",
              "</div>\n",
              "    <div class=\"colab-df-buttons\">\n",
              "\n",
              "  <div class=\"colab-df-container\">\n",
              "    <button class=\"colab-df-convert\" onclick=\"convertToInteractive('df-a5c003a1-e59f-41fd-8f28-0e2015f8830f')\"\n",
              "            title=\"Convert this dataframe to an interactive table.\"\n",
              "            style=\"display:none;\">\n",
              "\n",
              "  <svg xmlns=\"http://www.w3.org/2000/svg\" height=\"24px\" viewBox=\"0 -960 960 960\">\n",
              "    <path d=\"M120-120v-720h720v720H120Zm60-500h600v-160H180v160Zm220 220h160v-160H400v160Zm0 220h160v-160H400v160ZM180-400h160v-160H180v160Zm440 0h160v-160H620v160ZM180-180h160v-160H180v160Zm440 0h160v-160H620v160Z\"/>\n",
              "  </svg>\n",
              "    </button>\n",
              "\n",
              "  <style>\n",
              "    .colab-df-container {\n",
              "      display:flex;\n",
              "      gap: 12px;\n",
              "    }\n",
              "\n",
              "    .colab-df-convert {\n",
              "      background-color: #E8F0FE;\n",
              "      border: none;\n",
              "      border-radius: 50%;\n",
              "      cursor: pointer;\n",
              "      display: none;\n",
              "      fill: #1967D2;\n",
              "      height: 32px;\n",
              "      padding: 0 0 0 0;\n",
              "      width: 32px;\n",
              "    }\n",
              "\n",
              "    .colab-df-convert:hover {\n",
              "      background-color: #E2EBFA;\n",
              "      box-shadow: 0px 1px 2px rgba(60, 64, 67, 0.3), 0px 1px 3px 1px rgba(60, 64, 67, 0.15);\n",
              "      fill: #174EA6;\n",
              "    }\n",
              "\n",
              "    .colab-df-buttons div {\n",
              "      margin-bottom: 4px;\n",
              "    }\n",
              "\n",
              "    [theme=dark] .colab-df-convert {\n",
              "      background-color: #3B4455;\n",
              "      fill: #D2E3FC;\n",
              "    }\n",
              "\n",
              "    [theme=dark] .colab-df-convert:hover {\n",
              "      background-color: #434B5C;\n",
              "      box-shadow: 0px 1px 3px 1px rgba(0, 0, 0, 0.15);\n",
              "      filter: drop-shadow(0px 1px 2px rgba(0, 0, 0, 0.3));\n",
              "      fill: #FFFFFF;\n",
              "    }\n",
              "  </style>\n",
              "\n",
              "    <script>\n",
              "      const buttonEl =\n",
              "        document.querySelector('#df-a5c003a1-e59f-41fd-8f28-0e2015f8830f button.colab-df-convert');\n",
              "      buttonEl.style.display =\n",
              "        google.colab.kernel.accessAllowed ? 'block' : 'none';\n",
              "\n",
              "      async function convertToInteractive(key) {\n",
              "        const element = document.querySelector('#df-a5c003a1-e59f-41fd-8f28-0e2015f8830f');\n",
              "        const dataTable =\n",
              "          await google.colab.kernel.invokeFunction('convertToInteractive',\n",
              "                                                    [key], {});\n",
              "        if (!dataTable) return;\n",
              "\n",
              "        const docLinkHtml = 'Like what you see? Visit the ' +\n",
              "          '<a target=\"_blank\" href=https://colab.research.google.com/notebooks/data_table.ipynb>data table notebook</a>'\n",
              "          + ' to learn more about interactive tables.';\n",
              "        element.innerHTML = '';\n",
              "        dataTable['output_type'] = 'display_data';\n",
              "        await google.colab.output.renderOutput(dataTable, element);\n",
              "        const docLink = document.createElement('div');\n",
              "        docLink.innerHTML = docLinkHtml;\n",
              "        element.appendChild(docLink);\n",
              "      }\n",
              "    </script>\n",
              "  </div>\n",
              "\n",
              "\n",
              "<div id=\"df-801c09f7-e875-4a2e-a42f-f65fa4b99585\">\n",
              "  <button class=\"colab-df-quickchart\" onclick=\"quickchart('df-801c09f7-e875-4a2e-a42f-f65fa4b99585')\"\n",
              "            title=\"Suggest charts.\"\n",
              "            style=\"display:none;\">\n",
              "\n",
              "<svg xmlns=\"http://www.w3.org/2000/svg\" height=\"24px\"viewBox=\"0 0 24 24\"\n",
              "     width=\"24px\">\n",
              "    <g>\n",
              "        <path d=\"M19 3H5c-1.1 0-2 .9-2 2v14c0 1.1.9 2 2 2h14c1.1 0 2-.9 2-2V5c0-1.1-.9-2-2-2zM9 17H7v-7h2v7zm4 0h-2V7h2v10zm4 0h-2v-4h2v4z\"/>\n",
              "    </g>\n",
              "</svg>\n",
              "  </button>\n",
              "\n",
              "<style>\n",
              "  .colab-df-quickchart {\n",
              "    background-color: #E8F0FE;\n",
              "    border: none;\n",
              "    border-radius: 50%;\n",
              "    cursor: pointer;\n",
              "    display: none;\n",
              "    fill: #1967D2;\n",
              "    height: 32px;\n",
              "    padding: 0 0 0 0;\n",
              "    width: 32px;\n",
              "  }\n",
              "\n",
              "  .colab-df-quickchart:hover {\n",
              "    background-color: #E2EBFA;\n",
              "    box-shadow: 0px 1px 2px rgba(60, 64, 67, 0.3), 0px 1px 3px 1px rgba(60, 64, 67, 0.15);\n",
              "    fill: #174EA6;\n",
              "  }\n",
              "\n",
              "  [theme=dark] .colab-df-quickchart {\n",
              "    background-color: #3B4455;\n",
              "    fill: #D2E3FC;\n",
              "  }\n",
              "\n",
              "  [theme=dark] .colab-df-quickchart:hover {\n",
              "    background-color: #434B5C;\n",
              "    box-shadow: 0px 1px 3px 1px rgba(0, 0, 0, 0.15);\n",
              "    filter: drop-shadow(0px 1px 2px rgba(0, 0, 0, 0.3));\n",
              "    fill: #FFFFFF;\n",
              "  }\n",
              "</style>\n",
              "\n",
              "  <script>\n",
              "    async function quickchart(key) {\n",
              "      const charts = await google.colab.kernel.invokeFunction(\n",
              "          'suggestCharts', [key], {});\n",
              "    }\n",
              "    (() => {\n",
              "      let quickchartButtonEl =\n",
              "        document.querySelector('#df-801c09f7-e875-4a2e-a42f-f65fa4b99585 button');\n",
              "      quickchartButtonEl.style.display =\n",
              "        google.colab.kernel.accessAllowed ? 'block' : 'none';\n",
              "    })();\n",
              "  </script>\n",
              "</div>\n",
              "    </div>\n",
              "  </div>\n"
            ]
          },
          "metadata": {},
          "execution_count": 45
        }
      ]
    },
    {
      "cell_type": "markdown",
      "source": [
        "Lin reg model has a big mistake!"
      ],
      "metadata": {
        "id": "FPHXx9DhPVsr"
      }
    },
    {
      "cell_type": "code",
      "source": [
        "df_val_x_ensemble.max()"
      ],
      "metadata": {
        "colab": {
          "base_uri": "https://localhost:8080/"
        },
        "id": "KDylg1pEPSEN",
        "outputId": "a6b64741-9287-4fd0-ed3f-cbbcabf52e1a"
      },
      "execution_count": 46,
      "outputs": [
        {
          "output_type": "execute_result",
          "data": {
            "text/plain": [
              "Age                        1.000000e+00\n",
              "Years of Experience        1.000000e+00\n",
              "weight                     1.000000e+00\n",
              "professionalism            8.470588e-01\n",
              "education_factor           1.000000e+00\n",
              "                               ...     \n",
              "Race_White                 1.000000e+00\n",
              "DecisionTree_predict       2.250000e+05\n",
              "KNN_predict                2.150000e+05\n",
              "LinReg_predict             1.025161e+15\n",
              "mean_best_model_predict    3.417202e+14\n",
              "Length: 209, dtype: float64"
            ]
          },
          "metadata": {},
          "execution_count": 46
        }
      ]
    },
    {
      "cell_type": "markdown",
      "source": [
        "we can see the predictions of the models and the outliers"
      ],
      "metadata": {
        "id": "zmq_S9WoXN9q"
      }
    },
    {
      "cell_type": "code",
      "source": [
        "sns.boxplot(data=np.log10(df_val_x_ensemble[best_model_columns]))"
      ],
      "metadata": {
        "colab": {
          "base_uri": "https://localhost:8080/",
          "height": 482
        },
        "id": "xlnjbWuVWTvq",
        "outputId": "078ad061-dc34-4add-caf9-8da50e9aec86"
      },
      "execution_count": 47,
      "outputs": [
        {
          "output_type": "stream",
          "name": "stderr",
          "text": [
            "/usr/local/lib/python3.10/dist-packages/pandas/core/internals/blocks.py:351: RuntimeWarning: invalid value encountered in log10\n",
            "  result = func(self.values, **kwargs)\n"
          ]
        },
        {
          "output_type": "execute_result",
          "data": {
            "text/plain": [
              "<Axes: >"
            ]
          },
          "metadata": {},
          "execution_count": 47
        },
        {
          "output_type": "display_data",
          "data": {
            "text/plain": [
              "<Figure size 640x480 with 1 Axes>"
            ],
            "image/png": "[encoded data removed]"
          },
          "metadata": {}
        }
      ]
    },
    {
      "cell_type": "markdown",
      "source": [
        "Let's do ensemble of KNN and DECISION TREE"
      ],
      "metadata": {
        "id": "uhLPeoyEV2EQ"
      }
    },
    {
      "cell_type": "markdown",
      "source": [
        "val ensemble"
      ],
      "metadata": {
        "id": "A17emJvMeWy_"
      }
    },
    {
      "cell_type": "code",
      "source": [
        "df_val_x_ensemble['mean_best_2model_predict'] = df_val_x_ensemble[['DecisionTree_predict','KNN_predict']].mean(axis=1)\n",
        "\n",
        "y_val_pred = df_val_x_ensemble['mean_best_2model_predict']\n",
        "y_val_true = val_y['Salary']"
      ],
      "metadata": {
        "id": "7nw3_gFpV7tS"
      },
      "execution_count": 48,
      "outputs": []
    },
    {
      "cell_type": "code",
      "source": [
        "rmse_val_2ensemble = mean_squared_error(y_val_true, y_val_pred, squared=False)\n",
        "print(f'RMSE of val ensemble is: {rmse_val_2ensemble}')"
      ],
      "metadata": {
        "colab": {
          "base_uri": "https://localhost:8080/"
        },
        "id": "-Qyn-yilYaD-",
        "outputId": "b2990319-77a2-4b95-ad31-eaade5b15ab3"
      },
      "execution_count": 49,
      "outputs": [
        {
          "output_type": "stream",
          "name": "stdout",
          "text": [
            "RMSE of val ensemble is: 15305.751947622051\n"
          ]
        }
      ]
    },
    {
      "cell_type": "markdown",
      "source": [
        "train ensemble"
      ],
      "metadata": {
        "id": "jHgv0rcMeZOA"
      }
    },
    {
      "cell_type": "code",
      "source": [
        "df_train_x_ensemble['mean_best_2model_predict'] = df_train_x_ensemble[['DecisionTree_predict','KNN_predict']].mean(axis=1)\n",
        "\n",
        "y_train_pred = df_train_x_ensemble['mean_best_2model_predict']\n",
        "y_train_true = train_y['Salary']"
      ],
      "metadata": {
        "id": "kLwZfbVKed-e"
      },
      "execution_count": 50,
      "outputs": []
    },
    {
      "cell_type": "code",
      "source": [
        "rmse_train_2ensemble = mean_squared_error(y_train_true, y_train_pred, squared=False)\n",
        "print(f'RMSE of train ensemble is: {rmse_train_2ensemble}')"
      ],
      "metadata": {
        "colab": {
          "base_uri": "https://localhost:8080/"
        },
        "id": "eK8VuQZhei0U",
        "outputId": "eb513900-b844-4898-9eb6-aa82b20fc38f"
      },
      "execution_count": 51,
      "outputs": [
        {
          "output_type": "stream",
          "name": "stdout",
          "text": [
            "RMSE of train ensemble is: 13788.25366695737\n"
          ]
        }
      ]
    },
    {
      "cell_type": "markdown",
      "source": [
        "Add the new model to the results table"
      ],
      "metadata": {
        "id": "e4cb_un1jhij"
      }
    },
    {
      "cell_type": "code",
      "source": [
        "new_row = {'model': 'ENSEMBLE', 'model_name': 'ENSEMBLE', 'model_config': 'ENSEMBLE_2','rmse_train':rmse_train_2ensemble, 'rmse_val':rmse_val_2ensemble}\n",
        "\n",
        "# Add the new row to the DataFrame\n",
        "df_results = df_results.append(new_row, ignore_index=True)\n",
        "df_results"
      ],
      "metadata": {
        "colab": {
          "base_uri": "https://localhost:8080/",
          "height": 856
        },
        "id": "eN_E8uH9jj7r",
        "outputId": "b651532e-53c5-4e51-f78f-d22f559ce590"
      },
      "execution_count": 52,
      "outputs": [
        {
          "output_type": "stream",
          "name": "stderr",
          "text": [
            "<ipython-input-52-73dde7cccb2b>:4: FutureWarning: The frame.append method is deprecated and will be removed from pandas in a future version. Use pandas.concat instead.\n",
            "  df_results = df_results.append(new_row, ignore_index=True)\n"
          ]
        },
        {
          "output_type": "execute_result",
          "data": {
            "text/plain": [
              "                                                model    model_name  \\\n",
              "0                 KNeighborsClassifier(n_neighbors=3)           KNN   \n",
              "1                              KNeighborsClassifier()           KNN   \n",
              "2                 KNeighborsClassifier(n_neighbors=7)           KNN   \n",
              "3                 KNeighborsClassifier(n_neighbors=9)           KNN   \n",
              "4               DecisionTreeRegressor(random_state=0)  DecisionTree   \n",
              "5   DecisionTreeRegressor(min_samples_split=4, ran...  DecisionTree   \n",
              "6   DecisionTreeRegressor(min_samples_split=6, ran...  DecisionTree   \n",
              "7   DecisionTreeRegressor(min_samples_split=8, ran...  DecisionTree   \n",
              "8   DecisionTreeRegressor(criterion='friedman_mse'...  DecisionTree   \n",
              "9   DecisionTreeRegressor(criterion='friedman_mse'...  DecisionTree   \n",
              "10  DecisionTreeRegressor(criterion='friedman_mse'...  DecisionTree   \n",
              "11  DecisionTreeRegressor(criterion='friedman_mse'...  DecisionTree   \n",
              "12  DecisionTreeRegressor(criterion='absolute_erro...  DecisionTree   \n",
              "13  DecisionTreeRegressor(criterion='absolute_erro...  DecisionTree   \n",
              "14  DecisionTreeRegressor(criterion='absolute_erro...  DecisionTree   \n",
              "15  DecisionTreeRegressor(criterion='absolute_erro...  DecisionTree   \n",
              "16  DecisionTreeRegressor(criterion='poisson', ran...  DecisionTree   \n",
              "17  DecisionTreeRegressor(criterion='poisson', min...  DecisionTree   \n",
              "18  DecisionTreeRegressor(criterion='poisson', min...  DecisionTree   \n",
              "19  DecisionTreeRegressor(criterion='poisson', min...  DecisionTree   \n",
              "20                                 LinearRegression()        LinReg   \n",
              "21              LinearRegression(fit_intercept=False)        LinReg   \n",
              "22                                           ENSEMBLE      ENSEMBLE   \n",
              "23                                           ENSEMBLE      ENSEMBLE   \n",
              "\n",
              "           model_config    rmse_train      rmse_val  \n",
              "0                 knn_3  22554.971811  3.121023e+04  \n",
              "1                 knn_5  26274.022499  3.063637e+04  \n",
              "2                 knn_7  27148.796222  2.944158e+04  \n",
              "3                 knn_9  26607.458447  2.807592e+04  \n",
              "4    dt_squared_error_2  26607.458447  1.157795e+04  \n",
              "5    dt_squared_error_4  26607.458447  1.114640e+04  \n",
              "6    dt_squared_error_6  26607.458447  1.124044e+04  \n",
              "7    dt_squared_error_8  26607.458447  1.092387e+04  \n",
              "8     dt_friedman_mse_2  26607.458447  1.157795e+04  \n",
              "9     dt_friedman_mse_4  26607.458447  1.114640e+04  \n",
              "10    dt_friedman_mse_6  26607.458447  1.124044e+04  \n",
              "11    dt_friedman_mse_8  26607.458447  1.092387e+04  \n",
              "12  dt_absolute_error_2  26607.458447  9.487911e+03  \n",
              "13  dt_absolute_error_4  26607.458447  9.022294e+03  \n",
              "14  dt_absolute_error_6  26607.458447  8.993350e+03  \n",
              "15  dt_absolute_error_8  26607.458447  8.989253e+03  \n",
              "16         dt_poisson_2  26607.458447  1.142703e+04  \n",
              "17         dt_poisson_4  26607.458447  1.145968e+04  \n",
              "18         dt_poisson_6  26607.458447  1.149390e+04  \n",
              "19         dt_poisson_8  26607.458447  1.168528e+04  \n",
              "20     linreg_poisson_8  26607.458447  1.168528e+04  \n",
              "21     linreg_poisson_8  26607.458447  1.168528e+04  \n",
              "22           ENSEMBLE_3  11998.736254  2.109154e+13  \n",
              "23           ENSEMBLE_2  13788.253667  1.530575e+04  "
            ],
            "text/html": [
              "\n",
              "  <div id=\"df-afe26288-9155-453d-bcfb-14899261c087\" class=\"colab-df-container\">\n",
              "    <div>\n",
              "<style scoped>\n",
              "    .dataframe tbody tr th:only-of-type {\n",
              "        vertical-align: middle;\n",
              "    }\n",
              "\n",
              "    .dataframe tbody tr th {\n",
              "        vertical-align: top;\n",
              "    }\n",
              "\n",
              "    .dataframe thead th {\n",
              "        text-align: right;\n",
              "    }\n",
              "</style>\n",
              "<table border=\"1\" class=\"dataframe\">\n",
              "  <thead>\n",
              "    <tr style=\"text-align: right;\">\n",
              "      <th></th>\n",
              "      <th>model</th>\n",
              "      <th>model_name</th>\n",
              "      <th>model_config</th>\n",
              "      <th>rmse_train</th>\n",
              "      <th>rmse_val</th>\n",
              "    </tr>\n",
              "  </thead>\n",
              "  <tbody>\n",
              "    <tr>\n",
              "      <th>0</th>\n",
              "      <td>KNeighborsClassifier(n_neighbors=3)</td>\n",
              "      <td>KNN</td>\n",
              "      <td>knn_3</td>\n",
              "      <td>22554.971811</td>\n",
              "      <td>3.121023e+04</td>\n",
              "    </tr>\n",
              "    <tr>\n",
              "      <th>1</th>\n",
              "      <td>KNeighborsClassifier()</td>\n",
              "      <td>KNN</td>\n",
              "      <td>knn_5</td>\n",
              "      <td>26274.022499</td>\n",
              "      <td>3.063637e+04</td>\n",
              "    </tr>\n",
              "    <tr>\n",
              "      <th>2</th>\n",
              "      <td>KNeighborsClassifier(n_neighbors=7)</td>\n",
              "      <td>KNN</td>\n",
              "      <td>knn_7</td>\n",
              "      <td>27148.796222</td>\n",
              "      <td>2.944158e+04</td>\n",
              "    </tr>\n",
              "    <tr>\n",
              "      <th>3</th>\n",
              "      <td>KNeighborsClassifier(n_neighbors=9)</td>\n",
              "      <td>KNN</td>\n",
              "      <td>knn_9</td>\n",
              "      <td>26607.458447</td>\n",
              "      <td>2.807592e+04</td>\n",
              "    </tr>\n",
              "    <tr>\n",
              "      <th>4</th>\n",
              "      <td>DecisionTreeRegressor(random_state=0)</td>\n",
              "      <td>DecisionTree</td>\n",
              "      <td>dt_squared_error_2</td>\n",
              "      <td>26607.458447</td>\n",
              "      <td>1.157795e+04</td>\n",
              "    </tr>\n",
              "    <tr>\n",
              "      <th>5</th>\n",
              "      <td>DecisionTreeRegressor(min_samples_split=4, ran...</td>\n",
              "      <td>DecisionTree</td>\n",
              "      <td>dt_squared_error_4</td>\n",
              "      <td>26607.458447</td>\n",
              "      <td>1.114640e+04</td>\n",
              "    </tr>\n",
              "    <tr>\n",
              "      <th>6</th>\n",
              "      <td>DecisionTreeRegressor(min_samples_split=6, ran...</td>\n",
              "      <td>DecisionTree</td>\n",
              "      <td>dt_squared_error_6</td>\n",
              "      <td>26607.458447</td>\n",
              "      <td>1.124044e+04</td>\n",
              "    </tr>\n",
              "    <tr>\n",
              "      <th>7</th>\n",
              "      <td>DecisionTreeRegressor(min_samples_split=8, ran...</td>\n",
              "      <td>DecisionTree</td>\n",
              "      <td>dt_squared_error_8</td>\n",
              "      <td>26607.458447</td>\n",
              "      <td>1.092387e+04</td>\n",
              "    </tr>\n",
              "    <tr>\n",
              "      <th>8</th>\n",
              "      <td>DecisionTreeRegressor(criterion='friedman_mse'...</td>\n",
              "      <td>DecisionTree</td>\n",
              "      <td>dt_friedman_mse_2</td>\n",
              "      <td>26607.458447</td>\n",
              "      <td>1.157795e+04</td>\n",
              "    </tr>\n",
              "    <tr>\n",
              "      <th>9</th>\n",
              "      <td>DecisionTreeRegressor(criterion='friedman_mse'...</td>\n",
              "      <td>DecisionTree</td>\n",
              "      <td>dt_friedman_mse_4</td>\n",
              "      <td>26607.458447</td>\n",
              "      <td>1.114640e+04</td>\n",
              "    </tr>\n",
              "    <tr>\n",
              "      <th>10</th>\n",
              "      <td>DecisionTreeRegressor(criterion='friedman_mse'...</td>\n",
              "      <td>DecisionTree</td>\n",
              "      <td>dt_friedman_mse_6</td>\n",
              "      <td>26607.458447</td>\n",
              "      <td>1.124044e+04</td>\n",
              "    </tr>\n",
              "    <tr>\n",
              "      <th>11</th>\n",
              "      <td>DecisionTreeRegressor(criterion='friedman_mse'...</td>\n",
              "      <td>DecisionTree</td>\n",
              "      <td>dt_friedman_mse_8</td>\n",
              "      <td>26607.458447</td>\n",
              "      <td>1.092387e+04</td>\n",
              "    </tr>\n",
              "    <tr>\n",
              "      <th>12</th>\n",
              "      <td>DecisionTreeRegressor(criterion='absolute_erro...</td>\n",
              "      <td>DecisionTree</td>\n",
              "      <td>dt_absolute_error_2</td>\n",
              "      <td>26607.458447</td>\n",
              "      <td>9.487911e+03</td>\n",
              "    </tr>\n",
              "    <tr>\n",
              "      <th>13</th>\n",
              "      <td>DecisionTreeRegressor(criterion='absolute_erro...</td>\n",
              "      <td>DecisionTree</td>\n",
              "      <td>dt_absolute_error_4</td>\n",
              "      <td>26607.458447</td>\n",
              "      <td>9.022294e+03</td>\n",
              "    </tr>\n",
              "    <tr>\n",
              "      <th>14</th>\n",
              "      <td>DecisionTreeRegressor(criterion='absolute_erro...</td>\n",
              "      <td>DecisionTree</td>\n",
              "      <td>dt_absolute_error_6</td>\n",
              "      <td>26607.458447</td>\n",
              "      <td>8.993350e+03</td>\n",
              "    </tr>\n",
              "    <tr>\n",
              "      <th>15</th>\n",
              "      <td>DecisionTreeRegressor(criterion='absolute_erro...</td>\n",
              "      <td>DecisionTree</td>\n",
              "      <td>dt_absolute_error_8</td>\n",
              "      <td>26607.458447</td>\n",
              "      <td>8.989253e+03</td>\n",
              "    </tr>\n",
              "    <tr>\n",
              "      <th>16</th>\n",
              "      <td>DecisionTreeRegressor(criterion='poisson', ran...</td>\n",
              "      <td>DecisionTree</td>\n",
              "      <td>dt_poisson_2</td>\n",
              "      <td>26607.458447</td>\n",
              "      <td>1.142703e+04</td>\n",
              "    </tr>\n",
              "    <tr>\n",
              "      <th>17</th>\n",
              "      <td>DecisionTreeRegressor(criterion='poisson', min...</td>\n",
              "      <td>DecisionTree</td>\n",
              "      <td>dt_poisson_4</td>\n",
              "      <td>26607.458447</td>\n",
              "      <td>1.145968e+04</td>\n",
              "    </tr>\n",
              "    <tr>\n",
              "      <th>18</th>\n",
              "      <td>DecisionTreeRegressor(criterion='poisson', min...</td>\n",
              "      <td>DecisionTree</td>\n",
              "      <td>dt_poisson_6</td>\n",
              "      <td>26607.458447</td>\n",
              "      <td>1.149390e+04</td>\n",
              "    </tr>\n",
              "    <tr>\n",
              "      <th>19</th>\n",
              "      <td>DecisionTreeRegressor(criterion='poisson', min...</td>\n",
              "      <td>DecisionTree</td>\n",
              "      <td>dt_poisson_8</td>\n",
              "      <td>26607.458447</td>\n",
              "      <td>1.168528e+04</td>\n",
              "    </tr>\n",
              "    <tr>\n",
              "      <th>20</th>\n",
              "      <td>LinearRegression()</td>\n",
              "      <td>LinReg</td>\n",
              "      <td>linreg_poisson_8</td>\n",
              "      <td>26607.458447</td>\n",
              "      <td>1.168528e+04</td>\n",
              "    </tr>\n",
              "    <tr>\n",
              "      <th>21</th>\n",
              "      <td>LinearRegression(fit_intercept=False)</td>\n",
              "      <td>LinReg</td>\n",
              "      <td>linreg_poisson_8</td>\n",
              "      <td>26607.458447</td>\n",
              "      <td>1.168528e+04</td>\n",
              "    </tr>\n",
              "    <tr>\n",
              "      <th>22</th>\n",
              "      <td>ENSEMBLE</td>\n",
              "      <td>ENSEMBLE</td>\n",
              "      <td>ENSEMBLE_3</td>\n",
              "      <td>11998.736254</td>\n",
              "      <td>2.109154e+13</td>\n",
              "    </tr>\n",
              "    <tr>\n",
              "      <th>23</th>\n",
              "      <td>ENSEMBLE</td>\n",
              "      <td>ENSEMBLE</td>\n",
              "      <td>ENSEMBLE_2</td>\n",
              "      <td>13788.253667</td>\n",
              "      <td>1.530575e+04</td>\n",
              "    </tr>\n",
              "  </tbody>\n",
              "</table>\n",
              "</div>\n",
              "    <div class=\"colab-df-buttons\">\n",
              "\n",
              "  <div class=\"colab-df-container\">\n",
              "    <button class=\"colab-df-convert\" onclick=\"convertToInteractive('df-afe26288-9155-453d-bcfb-14899261c087')\"\n",
              "            title=\"Convert this dataframe to an interactive table.\"\n",
              "            style=\"display:none;\">\n",
              "\n",
              "  <svg xmlns=\"http://www.w3.org/2000/svg\" height=\"24px\" viewBox=\"0 -960 960 960\">\n",
              "    <path d=\"M120-120v-720h720v720H120Zm60-500h600v-160H180v160Zm220 220h160v-160H400v160Zm0 220h160v-160H400v160ZM180-400h160v-160H180v160Zm440 0h160v-160H620v160ZM180-180h160v-160H180v160Zm440 0h160v-160H620v160Z\"/>\n",
              "  </svg>\n",
              "    </button>\n",
              "\n",
              "  <style>\n",
              "    .colab-df-container {\n",
              "      display:flex;\n",
              "      gap: 12px;\n",
              "    }\n",
              "\n",
              "    .colab-df-convert {\n",
              "      background-color: #E8F0FE;\n",
              "      border: none;\n",
              "      border-radius: 50%;\n",
              "      cursor: pointer;\n",
              "      display: none;\n",
              "      fill: #1967D2;\n",
              "      height: 32px;\n",
              "      padding: 0 0 0 0;\n",
              "      width: 32px;\n",
              "    }\n",
              "\n",
              "    .colab-df-convert:hover {\n",
              "      background-color: #E2EBFA;\n",
              "      box-shadow: 0px 1px 2px rgba(60, 64, 67, 0.3), 0px 1px 3px 1px rgba(60, 64, 67, 0.15);\n",
              "      fill: #174EA6;\n",
              "    }\n",
              "\n",
              "    .colab-df-buttons div {\n",
              "      margin-bottom: 4px;\n",
              "    }\n",
              "\n",
              "    [theme=dark] .colab-df-convert {\n",
              "      background-color: #3B4455;\n",
              "      fill: #D2E3FC;\n",
              "    }\n",
              "\n",
              "    [theme=dark] .colab-df-convert:hover {\n",
              "      background-color: #434B5C;\n",
              "      box-shadow: 0px 1px 3px 1px rgba(0, 0, 0, 0.15);\n",
              "      filter: drop-shadow(0px 1px 2px rgba(0, 0, 0, 0.3));\n",
              "      fill: #FFFFFF;\n",
              "    }\n",
              "  </style>\n",
              "\n",
              "    <script>\n",
              "      const buttonEl =\n",
              "        document.querySelector('#df-afe26288-9155-453d-bcfb-14899261c087 button.colab-df-convert');\n",
              "      buttonEl.style.display =\n",
              "        google.colab.kernel.accessAllowed ? 'block' : 'none';\n",
              "\n",
              "      async function convertToInteractive(key) {\n",
              "        const element = document.querySelector('#df-afe26288-9155-453d-bcfb-14899261c087');\n",
              "        const dataTable =\n",
              "          await google.colab.kernel.invokeFunction('convertToInteractive',\n",
              "                                                    [key], {});\n",
              "        if (!dataTable) return;\n",
              "\n",
              "        const docLinkHtml = 'Like what you see? Visit the ' +\n",
              "          '<a target=\"_blank\" href=https://colab.research.google.com/notebooks/data_table.ipynb>data table notebook</a>'\n",
              "          + ' to learn more about interactive tables.';\n",
              "        element.innerHTML = '';\n",
              "        dataTable['output_type'] = 'display_data';\n",
              "        await google.colab.output.renderOutput(dataTable, element);\n",
              "        const docLink = document.createElement('div');\n",
              "        docLink.innerHTML = docLinkHtml;\n",
              "        element.appendChild(docLink);\n",
              "      }\n",
              "    </script>\n",
              "  </div>\n",
              "\n",
              "\n",
              "<div id=\"df-6b717074-bbb4-4fa8-8333-abe0ecf842de\">\n",
              "  <button class=\"colab-df-quickchart\" onclick=\"quickchart('df-6b717074-bbb4-4fa8-8333-abe0ecf842de')\"\n",
              "            title=\"Suggest charts.\"\n",
              "            style=\"display:none;\">\n",
              "\n",
              "<svg xmlns=\"http://www.w3.org/2000/svg\" height=\"24px\"viewBox=\"0 0 24 24\"\n",
              "     width=\"24px\">\n",
              "    <g>\n",
              "        <path d=\"M19 3H5c-1.1 0-2 .9-2 2v14c0 1.1.9 2 2 2h14c1.1 0 2-.9 2-2V5c0-1.1-.9-2-2-2zM9 17H7v-7h2v7zm4 0h-2V7h2v10zm4 0h-2v-4h2v4z\"/>\n",
              "    </g>\n",
              "</svg>\n",
              "  </button>\n",
              "\n",
              "<style>\n",
              "  .colab-df-quickchart {\n",
              "    background-color: #E8F0FE;\n",
              "    border: none;\n",
              "    border-radius: 50%;\n",
              "    cursor: pointer;\n",
              "    display: none;\n",
              "    fill: #1967D2;\n",
              "    height: 32px;\n",
              "    padding: 0 0 0 0;\n",
              "    width: 32px;\n",
              "  }\n",
              "\n",
              "  .colab-df-quickchart:hover {\n",
              "    background-color: #E2EBFA;\n",
              "    box-shadow: 0px 1px 2px rgba(60, 64, 67, 0.3), 0px 1px 3px 1px rgba(60, 64, 67, 0.15);\n",
              "    fill: #174EA6;\n",
              "  }\n",
              "\n",
              "  [theme=dark] .colab-df-quickchart {\n",
              "    background-color: #3B4455;\n",
              "    fill: #D2E3FC;\n",
              "  }\n",
              "\n",
              "  [theme=dark] .colab-df-quickchart:hover {\n",
              "    background-color: #434B5C;\n",
              "    box-shadow: 0px 1px 3px 1px rgba(0, 0, 0, 0.15);\n",
              "    filter: drop-shadow(0px 1px 2px rgba(0, 0, 0, 0.3));\n",
              "    fill: #FFFFFF;\n",
              "  }\n",
              "</style>\n",
              "\n",
              "  <script>\n",
              "    async function quickchart(key) {\n",
              "      const charts = await google.colab.kernel.invokeFunction(\n",
              "          'suggestCharts', [key], {});\n",
              "    }\n",
              "    (() => {\n",
              "      let quickchartButtonEl =\n",
              "        document.querySelector('#df-6b717074-bbb4-4fa8-8333-abe0ecf842de button');\n",
              "      quickchartButtonEl.style.display =\n",
              "        google.colab.kernel.accessAllowed ? 'block' : 'none';\n",
              "    })();\n",
              "  </script>\n",
              "</div>\n",
              "    </div>\n",
              "  </div>\n"
            ]
          },
          "metadata": {},
          "execution_count": 52
        }
      ]
    },
    {
      "cell_type": "markdown",
      "source": [
        "## validation results\n",
        "in order to check our models on 10% of the data"
      ],
      "metadata": {
        "id": "dAdHPa5Y4HFN"
      }
    },
    {
      "cell_type": "code",
      "source": [
        "df_results.sort_values(by='rmse_val', ascending=True)"
      ],
      "metadata": {
        "id": "FizlAh0H-Bpd",
        "colab": {
          "base_uri": "https://localhost:8080/",
          "height": 802
        },
        "outputId": "f6907e25-da30-474f-e420-808ac29328b3"
      },
      "execution_count": 53,
      "outputs": [
        {
          "output_type": "execute_result",
          "data": {
            "text/plain": [
              "                                                model    model_name  \\\n",
              "15  DecisionTreeRegressor(criterion='absolute_erro...  DecisionTree   \n",
              "14  DecisionTreeRegressor(criterion='absolute_erro...  DecisionTree   \n",
              "13  DecisionTreeRegressor(criterion='absolute_erro...  DecisionTree   \n",
              "12  DecisionTreeRegressor(criterion='absolute_erro...  DecisionTree   \n",
              "11  DecisionTreeRegressor(criterion='friedman_mse'...  DecisionTree   \n",
              "7   DecisionTreeRegressor(min_samples_split=8, ran...  DecisionTree   \n",
              "5   DecisionTreeRegressor(min_samples_split=4, ran...  DecisionTree   \n",
              "9   DecisionTreeRegressor(criterion='friedman_mse'...  DecisionTree   \n",
              "6   DecisionTreeRegressor(min_samples_split=6, ran...  DecisionTree   \n",
              "10  DecisionTreeRegressor(criterion='friedman_mse'...  DecisionTree   \n",
              "16  DecisionTreeRegressor(criterion='poisson', ran...  DecisionTree   \n",
              "17  DecisionTreeRegressor(criterion='poisson', min...  DecisionTree   \n",
              "18  DecisionTreeRegressor(criterion='poisson', min...  DecisionTree   \n",
              "4               DecisionTreeRegressor(random_state=0)  DecisionTree   \n",
              "8   DecisionTreeRegressor(criterion='friedman_mse'...  DecisionTree   \n",
              "19  DecisionTreeRegressor(criterion='poisson', min...  DecisionTree   \n",
              "20                                 LinearRegression()        LinReg   \n",
              "21              LinearRegression(fit_intercept=False)        LinReg   \n",
              "23                                           ENSEMBLE      ENSEMBLE   \n",
              "3                 KNeighborsClassifier(n_neighbors=9)           KNN   \n",
              "2                 KNeighborsClassifier(n_neighbors=7)           KNN   \n",
              "1                              KNeighborsClassifier()           KNN   \n",
              "0                 KNeighborsClassifier(n_neighbors=3)           KNN   \n",
              "22                                           ENSEMBLE      ENSEMBLE   \n",
              "\n",
              "           model_config    rmse_train      rmse_val  \n",
              "15  dt_absolute_error_8  26607.458447  8.989253e+03  \n",
              "14  dt_absolute_error_6  26607.458447  8.993350e+03  \n",
              "13  dt_absolute_error_4  26607.458447  9.022294e+03  \n",
              "12  dt_absolute_error_2  26607.458447  9.487911e+03  \n",
              "11    dt_friedman_mse_8  26607.458447  1.092387e+04  \n",
              "7    dt_squared_error_8  26607.458447  1.092387e+04  \n",
              "5    dt_squared_error_4  26607.458447  1.114640e+04  \n",
              "9     dt_friedman_mse_4  26607.458447  1.114640e+04  \n",
              "6    dt_squared_error_6  26607.458447  1.124044e+04  \n",
              "10    dt_friedman_mse_6  26607.458447  1.124044e+04  \n",
              "16         dt_poisson_2  26607.458447  1.142703e+04  \n",
              "17         dt_poisson_4  26607.458447  1.145968e+04  \n",
              "18         dt_poisson_6  26607.458447  1.149390e+04  \n",
              "4    dt_squared_error_2  26607.458447  1.157795e+04  \n",
              "8     dt_friedman_mse_2  26607.458447  1.157795e+04  \n",
              "19         dt_poisson_8  26607.458447  1.168528e+04  \n",
              "20     linreg_poisson_8  26607.458447  1.168528e+04  \n",
              "21     linreg_poisson_8  26607.458447  1.168528e+04  \n",
              "23           ENSEMBLE_2  13788.253667  1.530575e+04  \n",
              "3                 knn_9  26607.458447  2.807592e+04  \n",
              "2                 knn_7  27148.796222  2.944158e+04  \n",
              "1                 knn_5  26274.022499  3.063637e+04  \n",
              "0                 knn_3  22554.971811  3.121023e+04  \n",
              "22           ENSEMBLE_3  11998.736254  2.109154e+13  "
            ],
            "text/html": [
              "\n",
              "  <div id=\"df-406500a3-94c4-495c-a012-2394b9db0dc4\" class=\"colab-df-container\">\n",
              "    <div>\n",
              "<style scoped>\n",
              "    .dataframe tbody tr th:only-of-type {\n",
              "        vertical-align: middle;\n",
              "    }\n",
              "\n",
              "    .dataframe tbody tr th {\n",
              "        vertical-align: top;\n",
              "    }\n",
              "\n",
              "    .dataframe thead th {\n",
              "        text-align: right;\n",
              "    }\n",
              "</style>\n",
              "<table border=\"1\" class=\"dataframe\">\n",
              "  <thead>\n",
              "    <tr style=\"text-align: right;\">\n",
              "      <th></th>\n",
              "      <th>model</th>\n",
              "      <th>model_name</th>\n",
              "      <th>model_config</th>\n",
              "      <th>rmse_train</th>\n",
              "      <th>rmse_val</th>\n",
              "    </tr>\n",
              "  </thead>\n",
              "  <tbody>\n",
              "    <tr>\n",
              "      <th>15</th>\n",
              "      <td>DecisionTreeRegressor(criterion='absolute_erro...</td>\n",
              "      <td>DecisionTree</td>\n",
              "      <td>dt_absolute_error_8</td>\n",
              "      <td>26607.458447</td>\n",
              "      <td>8.989253e+03</td>\n",
              "    </tr>\n",
              "    <tr>\n",
              "      <th>14</th>\n",
              "      <td>DecisionTreeRegressor(criterion='absolute_erro...</td>\n",
              "      <td>DecisionTree</td>\n",
              "      <td>dt_absolute_error_6</td>\n",
              "      <td>26607.458447</td>\n",
              "      <td>8.993350e+03</td>\n",
              "    </tr>\n",
              "    <tr>\n",
              "      <th>13</th>\n",
              "      <td>DecisionTreeRegressor(criterion='absolute_erro...</td>\n",
              "      <td>DecisionTree</td>\n",
              "      <td>dt_absolute_error_4</td>\n",
              "      <td>26607.458447</td>\n",
              "      <td>9.022294e+03</td>\n",
              "    </tr>\n",
              "    <tr>\n",
              "      <th>12</th>\n",
              "      <td>DecisionTreeRegressor(criterion='absolute_erro...</td>\n",
              "      <td>DecisionTree</td>\n",
              "      <td>dt_absolute_error_2</td>\n",
              "      <td>26607.458447</td>\n",
              "      <td>9.487911e+03</td>\n",
              "    </tr>\n",
              "    <tr>\n",
              "      <th>11</th>\n",
              "      <td>DecisionTreeRegressor(criterion='friedman_mse'...</td>\n",
              "      <td>DecisionTree</td>\n",
              "      <td>dt_friedman_mse_8</td>\n",
              "      <td>26607.458447</td>\n",
              "      <td>1.092387e+04</td>\n",
              "    </tr>\n",
              "    <tr>\n",
              "      <th>7</th>\n",
              "      <td>DecisionTreeRegressor(min_samples_split=8, ran...</td>\n",
              "      <td>DecisionTree</td>\n",
              "      <td>dt_squared_error_8</td>\n",
              "      <td>26607.458447</td>\n",
              "      <td>1.092387e+04</td>\n",
              "    </tr>\n",
              "    <tr>\n",
              "      <th>5</th>\n",
              "      <td>DecisionTreeRegressor(min_samples_split=4, ran...</td>\n",
              "      <td>DecisionTree</td>\n",
              "      <td>dt_squared_error_4</td>\n",
              "      <td>26607.458447</td>\n",
              "      <td>1.114640e+04</td>\n",
              "    </tr>\n",
              "    <tr>\n",
              "      <th>9</th>\n",
              "      <td>DecisionTreeRegressor(criterion='friedman_mse'...</td>\n",
              "      <td>DecisionTree</td>\n",
              "      <td>dt_friedman_mse_4</td>\n",
              "      <td>26607.458447</td>\n",
              "      <td>1.114640e+04</td>\n",
              "    </tr>\n",
              "    <tr>\n",
              "      <th>6</th>\n",
              "      <td>DecisionTreeRegressor(min_samples_split=6, ran...</td>\n",
              "      <td>DecisionTree</td>\n",
              "      <td>dt_squared_error_6</td>\n",
              "      <td>26607.458447</td>\n",
              "      <td>1.124044e+04</td>\n",
              "    </tr>\n",
              "    <tr>\n",
              "      <th>10</th>\n",
              "      <td>DecisionTreeRegressor(criterion='friedman_mse'...</td>\n",
              "      <td>DecisionTree</td>\n",
              "      <td>dt_friedman_mse_6</td>\n",
              "      <td>26607.458447</td>\n",
              "      <td>1.124044e+04</td>\n",
              "    </tr>\n",
              "    <tr>\n",
              "      <th>16</th>\n",
              "      <td>DecisionTreeRegressor(criterion='poisson', ran...</td>\n",
              "      <td>DecisionTree</td>\n",
              "      <td>dt_poisson_2</td>\n",
              "      <td>26607.458447</td>\n",
              "      <td>1.142703e+04</td>\n",
              "    </tr>\n",
              "    <tr>\n",
              "      <th>17</th>\n",
              "      <td>DecisionTreeRegressor(criterion='poisson', min...</td>\n",
              "      <td>DecisionTree</td>\n",
              "      <td>dt_poisson_4</td>\n",
              "      <td>26607.458447</td>\n",
              "      <td>1.145968e+04</td>\n",
              "    </tr>\n",
              "    <tr>\n",
              "      <th>18</th>\n",
              "      <td>DecisionTreeRegressor(criterion='poisson', min...</td>\n",
              "      <td>DecisionTree</td>\n",
              "      <td>dt_poisson_6</td>\n",
              "      <td>26607.458447</td>\n",
              "      <td>1.149390e+04</td>\n",
              "    </tr>\n",
              "    <tr>\n",
              "      <th>4</th>\n",
              "      <td>DecisionTreeRegressor(random_state=0)</td>\n",
              "      <td>DecisionTree</td>\n",
              "      <td>dt_squared_error_2</td>\n",
              "      <td>26607.458447</td>\n",
              "      <td>1.157795e+04</td>\n",
              "    </tr>\n",
              "    <tr>\n",
              "      <th>8</th>\n",
              "      <td>DecisionTreeRegressor(criterion='friedman_mse'...</td>\n",
              "      <td>DecisionTree</td>\n",
              "      <td>dt_friedman_mse_2</td>\n",
              "      <td>26607.458447</td>\n",
              "      <td>1.157795e+04</td>\n",
              "    </tr>\n",
              "    <tr>\n",
              "      <th>19</th>\n",
              "      <td>DecisionTreeRegressor(criterion='poisson', min...</td>\n",
              "      <td>DecisionTree</td>\n",
              "      <td>dt_poisson_8</td>\n",
              "      <td>26607.458447</td>\n",
              "      <td>1.168528e+04</td>\n",
              "    </tr>\n",
              "    <tr>\n",
              "      <th>20</th>\n",
              "      <td>LinearRegression()</td>\n",
              "      <td>LinReg</td>\n",
              "      <td>linreg_poisson_8</td>\n",
              "      <td>26607.458447</td>\n",
              "      <td>1.168528e+04</td>\n",
              "    </tr>\n",
              "    <tr>\n",
              "      <th>21</th>\n",
              "      <td>LinearRegression(fit_intercept=False)</td>\n",
              "      <td>LinReg</td>\n",
              "      <td>linreg_poisson_8</td>\n",
              "      <td>26607.458447</td>\n",
              "      <td>1.168528e+04</td>\n",
              "    </tr>\n",
              "    <tr>\n",
              "      <th>23</th>\n",
              "      <td>ENSEMBLE</td>\n",
              "      <td>ENSEMBLE</td>\n",
              "      <td>ENSEMBLE_2</td>\n",
              "      <td>13788.253667</td>\n",
              "      <td>1.530575e+04</td>\n",
              "    </tr>\n",
              "    <tr>\n",
              "      <th>3</th>\n",
              "      <td>KNeighborsClassifier(n_neighbors=9)</td>\n",
              "      <td>KNN</td>\n",
              "      <td>knn_9</td>\n",
              "      <td>26607.458447</td>\n",
              "      <td>2.807592e+04</td>\n",
              "    </tr>\n",
              "    <tr>\n",
              "      <th>2</th>\n",
              "      <td>KNeighborsClassifier(n_neighbors=7)</td>\n",
              "      <td>KNN</td>\n",
              "      <td>knn_7</td>\n",
              "      <td>27148.796222</td>\n",
              "      <td>2.944158e+04</td>\n",
              "    </tr>\n",
              "    <tr>\n",
              "      <th>1</th>\n",
              "      <td>KNeighborsClassifier()</td>\n",
              "      <td>KNN</td>\n",
              "      <td>knn_5</td>\n",
              "      <td>26274.022499</td>\n",
              "      <td>3.063637e+04</td>\n",
              "    </tr>\n",
              "    <tr>\n",
              "      <th>0</th>\n",
              "      <td>KNeighborsClassifier(n_neighbors=3)</td>\n",
              "      <td>KNN</td>\n",
              "      <td>knn_3</td>\n",
              "      <td>22554.971811</td>\n",
              "      <td>3.121023e+04</td>\n",
              "    </tr>\n",
              "    <tr>\n",
              "      <th>22</th>\n",
              "      <td>ENSEMBLE</td>\n",
              "      <td>ENSEMBLE</td>\n",
              "      <td>ENSEMBLE_3</td>\n",
              "      <td>11998.736254</td>\n",
              "      <td>2.109154e+13</td>\n",
              "    </tr>\n",
              "  </tbody>\n",
              "</table>\n",
              "</div>\n",
              "    <div class=\"colab-df-buttons\">\n",
              "\n",
              "  <div class=\"colab-df-container\">\n",
              "    <button class=\"colab-df-convert\" onclick=\"convertToInteractive('df-406500a3-94c4-495c-a012-2394b9db0dc4')\"\n",
              "            title=\"Convert this dataframe to an interactive table.\"\n",
              "            style=\"display:none;\">\n",
              "\n",
              "  <svg xmlns=\"http://www.w3.org/2000/svg\" height=\"24px\" viewBox=\"0 -960 960 960\">\n",
              "    <path d=\"M120-120v-720h720v720H120Zm60-500h600v-160H180v160Zm220 220h160v-160H400v160Zm0 220h160v-160H400v160ZM180-400h160v-160H180v160Zm440 0h160v-160H620v160ZM180-180h160v-160H180v160Zm440 0h160v-160H620v160Z\"/>\n",
              "  </svg>\n",
              "    </button>\n",
              "\n",
              "  <style>\n",
              "    .colab-df-container {\n",
              "      display:flex;\n",
              "      gap: 12px;\n",
              "    }\n",
              "\n",
              "    .colab-df-convert {\n",
              "      background-color: #E8F0FE;\n",
              "      border: none;\n",
              "      border-radius: 50%;\n",
              "      cursor: pointer;\n",
              "      display: none;\n",
              "      fill: #1967D2;\n",
              "      height: 32px;\n",
              "      padding: 0 0 0 0;\n",
              "      width: 32px;\n",
              "    }\n",
              "\n",
              "    .colab-df-convert:hover {\n",
              "      background-color: #E2EBFA;\n",
              "      box-shadow: 0px 1px 2px rgba(60, 64, 67, 0.3), 0px 1px 3px 1px rgba(60, 64, 67, 0.15);\n",
              "      fill: #174EA6;\n",
              "    }\n",
              "\n",
              "    .colab-df-buttons div {\n",
              "      margin-bottom: 4px;\n",
              "    }\n",
              "\n",
              "    [theme=dark] .colab-df-convert {\n",
              "      background-color: #3B4455;\n",
              "      fill: #D2E3FC;\n",
              "    }\n",
              "\n",
              "    [theme=dark] .colab-df-convert:hover {\n",
              "      background-color: #434B5C;\n",
              "      box-shadow: 0px 1px 3px 1px rgba(0, 0, 0, 0.15);\n",
              "      filter: drop-shadow(0px 1px 2px rgba(0, 0, 0, 0.3));\n",
              "      fill: #FFFFFF;\n",
              "    }\n",
              "  </style>\n",
              "\n",
              "    <script>\n",
              "      const buttonEl =\n",
              "        document.querySelector('#df-406500a3-94c4-495c-a012-2394b9db0dc4 button.colab-df-convert');\n",
              "      buttonEl.style.display =\n",
              "        google.colab.kernel.accessAllowed ? 'block' : 'none';\n",
              "\n",
              "      async function convertToInteractive(key) {\n",
              "        const element = document.querySelector('#df-406500a3-94c4-495c-a012-2394b9db0dc4');\n",
              "        const dataTable =\n",
              "          await google.colab.kernel.invokeFunction('convertToInteractive',\n",
              "                                                    [key], {});\n",
              "        if (!dataTable) return;\n",
              "\n",
              "        const docLinkHtml = 'Like what you see? Visit the ' +\n",
              "          '<a target=\"_blank\" href=https://colab.research.google.com/notebooks/data_table.ipynb>data table notebook</a>'\n",
              "          + ' to learn more about interactive tables.';\n",
              "        element.innerHTML = '';\n",
              "        dataTable['output_type'] = 'display_data';\n",
              "        await google.colab.output.renderOutput(dataTable, element);\n",
              "        const docLink = document.createElement('div');\n",
              "        docLink.innerHTML = docLinkHtml;\n",
              "        element.appendChild(docLink);\n",
              "      }\n",
              "    </script>\n",
              "  </div>\n",
              "\n",
              "\n",
              "<div id=\"df-f4bd9cba-3bfb-4890-ad67-648250b67e2d\">\n",
              "  <button class=\"colab-df-quickchart\" onclick=\"quickchart('df-f4bd9cba-3bfb-4890-ad67-648250b67e2d')\"\n",
              "            title=\"Suggest charts.\"\n",
              "            style=\"display:none;\">\n",
              "\n",
              "<svg xmlns=\"http://www.w3.org/2000/svg\" height=\"24px\"viewBox=\"0 0 24 24\"\n",
              "     width=\"24px\">\n",
              "    <g>\n",
              "        <path d=\"M19 3H5c-1.1 0-2 .9-2 2v14c0 1.1.9 2 2 2h14c1.1 0 2-.9 2-2V5c0-1.1-.9-2-2-2zM9 17H7v-7h2v7zm4 0h-2V7h2v10zm4 0h-2v-4h2v4z\"/>\n",
              "    </g>\n",
              "</svg>\n",
              "  </button>\n",
              "\n",
              "<style>\n",
              "  .colab-df-quickchart {\n",
              "    background-color: #E8F0FE;\n",
              "    border: none;\n",
              "    border-radius: 50%;\n",
              "    cursor: pointer;\n",
              "    display: none;\n",
              "    fill: #1967D2;\n",
              "    height: 32px;\n",
              "    padding: 0 0 0 0;\n",
              "    width: 32px;\n",
              "  }\n",
              "\n",
              "  .colab-df-quickchart:hover {\n",
              "    background-color: #E2EBFA;\n",
              "    box-shadow: 0px 1px 2px rgba(60, 64, 67, 0.3), 0px 1px 3px 1px rgba(60, 64, 67, 0.15);\n",
              "    fill: #174EA6;\n",
              "  }\n",
              "\n",
              "  [theme=dark] .colab-df-quickchart {\n",
              "    background-color: #3B4455;\n",
              "    fill: #D2E3FC;\n",
              "  }\n",
              "\n",
              "  [theme=dark] .colab-df-quickchart:hover {\n",
              "    background-color: #434B5C;\n",
              "    box-shadow: 0px 1px 3px 1px rgba(0, 0, 0, 0.15);\n",
              "    filter: drop-shadow(0px 1px 2px rgba(0, 0, 0, 0.3));\n",
              "    fill: #FFFFFF;\n",
              "  }\n",
              "</style>\n",
              "\n",
              "  <script>\n",
              "    async function quickchart(key) {\n",
              "      const charts = await google.colab.kernel.invokeFunction(\n",
              "          'suggestCharts', [key], {});\n",
              "    }\n",
              "    (() => {\n",
              "      let quickchartButtonEl =\n",
              "        document.querySelector('#df-f4bd9cba-3bfb-4890-ad67-648250b67e2d button');\n",
              "      quickchartButtonEl.style.display =\n",
              "        google.colab.kernel.accessAllowed ? 'block' : 'none';\n",
              "    })();\n",
              "  </script>\n",
              "</div>\n",
              "    </div>\n",
              "  </div>\n"
            ]
          },
          "metadata": {},
          "execution_count": 53
        }
      ]
    },
    {
      "cell_type": "markdown",
      "source": [
        "plot each type of model"
      ],
      "metadata": {
        "id": "o0_ZelP78Atc"
      }
    },
    {
      "cell_type": "code",
      "source": [
        "import matplotlib.pyplot as plt\n",
        "\n",
        "g = sns.FacetGrid(df_results, col=\"model_name\", height=4,col_wrap=2)\n",
        "g.map(plt.barh, \"model_config\", \"rmse_val\")\n"
      ],
      "metadata": {
        "colab": {
          "base_uri": "https://localhost:8080/",
          "height": 824
        },
        "id": "LKkMVTjNAYHm",
        "outputId": "0d567510-4659-46a8-b1c3-f9bbc36b12f9"
      },
      "execution_count": 54,
      "outputs": [
        {
          "output_type": "execute_result",
          "data": {
            "text/plain": [
              "<seaborn.axisgrid.FacetGrid at 0x7d5a7a390f70>"
            ]
          },
          "metadata": {},
          "execution_count": 54
        },
        {
          "output_type": "display_data",
          "data": {
            "text/plain": [
              "<Figure size 800x800 with 4 Axes>"
            ],
            "image/png": "[encoded data removed]"
          },
          "metadata": {}
        }
      ]
    },
    {
      "cell_type": "markdown",
      "source": [
        "## top 20 best models\n"
      ],
      "metadata": {
        "id": "8hUqDljQCRM8"
      }
    },
    {
      "cell_type": "code",
      "source": [
        "min_rmse = df_results['rmse_val'].min()\n",
        "best_model = df_results.loc[(df_results['rmse_val'] == min_rmse), 'model'].iloc[0]\n",
        "print(f'bset model was: {best_model} with params:')\n",
        "print(best_model.get_params())"
      ],
      "metadata": {
        "colab": {
          "base_uri": "https://localhost:8080/"
        },
        "id": "lr5YVrttCzcm",
        "outputId": "e94a7181-5632-4643-82a6-12767746aec1"
      },
      "execution_count": 55,
      "outputs": [
        {
          "output_type": "stream",
          "name": "stdout",
          "text": [
            "bset model was: DecisionTreeRegressor(criterion='absolute_error', min_samples_split=8,\n",
            "                      random_state=0) with params:\n",
            "{'ccp_alpha': 0.0, 'criterion': 'absolute_error', 'max_depth': None, 'max_features': None, 'max_leaf_nodes': None, 'min_impurity_decrease': 0.0, 'min_samples_leaf': 1, 'min_samples_split': 8, 'min_weight_fraction_leaf': 0.0, 'random_state': 0, 'splitter': 'best'}\n"
          ]
        }
      ]
    },
    {
      "cell_type": "code",
      "source": [
        "sns.barplot(data= df_results.sort_values(by='rmse_val', ascending=True)[:20] , y='model_config',x='rmse_val',orient = 'h')\n",
        "plt.title('Top 20 best RMSE on val set');"
      ],
      "metadata": {
        "colab": {
          "base_uri": "https://localhost:8080/",
          "height": 472
        },
        "id": "zD4WZupIBX4R",
        "outputId": "b88e9cdd-3660-4baf-9ceb-15fca4827ad8"
      },
      "execution_count": 56,
      "outputs": [
        {
          "output_type": "display_data",
          "data": {
            "text/plain": [
              "<Figure size 640x480 with 1 Axes>"
            ],
            "image/png": "[encoded data removed]"
          },
          "metadata": {}
        }
      ]
    },
    {
      "cell_type": "code",
      "source": [
        "sns.barplot(data= df_results.sort_values(by='rmse_train', ascending=True)[:20] , y='model_config',x='rmse_train',orient = 'h');\n",
        "plt.title('Top 20 best RMSE on train set');"
      ],
      "metadata": {
        "colab": {
          "base_uri": "https://localhost:8080/",
          "height": 472
        },
        "id": "m34oNFFzmSw_",
        "outputId": "b7c10efd-34aa-48c9-aa05-e45fac046286"
      },
      "execution_count": 57,
      "outputs": [
        {
          "output_type": "display_data",
          "data": {
            "text/plain": [
              "<Figure size 640x480 with 1 Axes>"
            ],
            "image/png": "[encoded data removed]"
          },
          "metadata": {}
        }
      ]
    },
    {
      "cell_type": "markdown",
      "source": [
        "# Actual vs Prediction plot"
      ],
      "metadata": {
        "id": "cd1nQWa1ggnx"
      }
    },
    {
      "cell_type": "markdown",
      "source": [
        "on val set"
      ],
      "metadata": {
        "id": "38QZyuiAhoRc"
      }
    },
    {
      "cell_type": "code",
      "source": [
        "min_rmse = df_results['rmse_val'].min()\n",
        "best_model = df_results.loc[(df_results['rmse_val'] == min_rmse), 'model'].iloc[0]\n",
        "val_y_pred = best_model.predict(val_x)\n",
        "y_val_true = val_y['Salary']"
      ],
      "metadata": {
        "id": "uZSu6Jhig6oD"
      },
      "execution_count": 58,
      "outputs": []
    },
    {
      "cell_type": "code",
      "source": [
        "data = {'actual': y_val_true,\n",
        "        'predicted': val_y_pred}\n",
        "df = pd.DataFrame(data)\n",
        "sns.scatterplot(data=df, x='actual', y='predicted')\n",
        "sns.lineplot(x=y_val_true, y=y_val_true,color='red', linestyle='dashed')\n",
        "plt.title('Actual vs Prediction on the val set');"
      ],
      "metadata": {
        "colab": {
          "base_uri": "https://localhost:8080/",
          "height": 472
        },
        "id": "J-5SxYMJhkAn",
        "outputId": "c0e81151-192a-4c19-91ce-fcdc11b95c3f"
      },
      "execution_count": 59,
      "outputs": [
        {
          "output_type": "display_data",
          "data": {
            "text/plain": [
              "<Figure size 640x480 with 1 Axes>"
            ],
            "image/png": "[encoded data removed]"
          },
          "metadata": {}
        }
      ]
    },
    {
      "cell_type": "markdown",
      "source": [
        "on train set"
      ],
      "metadata": {
        "id": "VYqEGJgAisNu"
      }
    },
    {
      "cell_type": "code",
      "source": [
        "min_rmse = df_results['rmse_val'].min()\n",
        "best_model = df_results.loc[(df_results['rmse_val'] == min_rmse), 'model'].iloc[0]\n",
        "train_y_pred = best_model.predict(train_x)\n",
        "y_train_true = train_y['Salary']"
      ],
      "metadata": {
        "id": "V8WKUpbriuCD"
      },
      "execution_count": 60,
      "outputs": []
    },
    {
      "cell_type": "code",
      "source": [
        "data = {'actual': y_train_true,\n",
        "        'predicted': train_y_pred}\n",
        "df = pd.DataFrame(data)\n",
        "sns.scatterplot(data=df, x='actual', y='predicted')\n",
        "sns.lineplot(x=y_train_true, y=y_train_true,color='red', linestyle='dashed')\n",
        "plt.title('Actual vs Prediction on the train set');"
      ],
      "metadata": {
        "colab": {
          "base_uri": "https://localhost:8080/",
          "height": 472
        },
        "id": "Tt2EFiyui1GO",
        "outputId": "81077ffe-dd07-4c7e-cd5a-caedf160bd38"
      },
      "execution_count": 61,
      "outputs": [
        {
          "output_type": "display_data",
          "data": {
            "text/plain": [
              "<Figure size 640x480 with 1 Axes>"
            ],
            "image/png": "[encoded data removed]"
          },
          "metadata": {}
        }
      ]
    },
    {
      "cell_type": "markdown",
      "source": [
        "# Run on test set\n",
        "1. take the best model (had lowest rmse value on validation)\n",
        "2. train it on all train set\n",
        "3. write test dic"
      ],
      "metadata": {
        "id": "Wxylm7z24GNI"
      }
    },
    {
      "cell_type": "code",
      "source": [
        "min_rmse = df_results['rmse_val'].min()\n",
        "best_model = df_results.loc[(df_results['rmse_val'] == min_rmse), 'model'].iloc[0]\n",
        "best_model"
      ],
      "metadata": {
        "colab": {
          "base_uri": "https://localhost:8080/",
          "height": 92
        },
        "id": "69CMuKfrEC3r",
        "outputId": "72f8abff-89e1-430b-de53-d63b6e451541"
      },
      "execution_count": 62,
      "outputs": [
        {
          "output_type": "execute_result",
          "data": {
            "text/plain": [
              "DecisionTreeRegressor(criterion='absolute_error', min_samples_split=8,\n",
              "                      random_state=0)"
            ],
            "text/html": [
              "<style>#sk-container-id-1 {color: black;background-color: white;}#sk-container-id-1 pre{padding: 0;}#sk-container-id-1 div.sk-toggleable {background-color: white;}#sk-container-id-1 label.sk-toggleable__label {cursor: pointer;display: block;width: 100%;margin-bottom: 0;padding: 0.3em;box-sizing: border-box;text-align: center;}#sk-container-id-1 label.sk-toggleable__label-arrow:before {content: \"▸\";float: left;margin-right: 0.25em;color: #696969;}#sk-container-id-1 label.sk-toggleable__label-arrow:hover:before {color: black;}#sk-container-id-1 div.sk-estimator:hover label.sk-toggleable__label-arrow:before {color: black;}#sk-container-id-1 div.sk-toggleable__content {max-height: 0;max-width: 0;overflow: hidden;text-align: left;background-color: #f0f8ff;}#sk-container-id-1 div.sk-toggleable__content pre {margin: 0.2em;color: black;border-radius: 0.25em;background-color: #f0f8ff;}#sk-container-id-1 input.sk-toggleable__control:checked~div.sk-toggleable__content {max-height: 200px;max-width: 100%;overflow: auto;}#sk-container-id-1 input.sk-toggleable__control:checked~label.sk-toggleable__label-arrow:before {content: \"▾\";}#sk-container-id-1 div.sk-estimator input.sk-toggleable__control:checked~label.sk-toggleable__label {background-color: #d4ebff;}#sk-container-id-1 div.sk-label input.sk-toggleable__control:checked~label.sk-toggleable__label {background-color: #d4ebff;}#sk-container-id-1 input.sk-hidden--visually {border: 0;clip: rect(1px 1px 1px 1px);clip: rect(1px, 1px, 1px, 1px);height: 1px;margin: -1px;overflow: hidden;padding: 0;position: absolute;width: 1px;}#sk-container-id-1 div.sk-estimator {font-family: monospace;background-color: #f0f8ff;border: 1px dotted black;border-radius: 0.25em;box-sizing: border-box;margin-bottom: 0.5em;}#sk-container-id-1 div.sk-estimator:hover {background-color: #d4ebff;}#sk-container-id-1 div.sk-parallel-item::after {content: \"\";width: 100%;border-bottom: 1px solid gray;flex-grow: 1;}#sk-container-id-1 div.sk-label:hover label.sk-toggleable__label {background-color: #d4ebff;}#sk-container-id-1 div.sk-serial::before {content: \"\";position: absolute;border-left: 1px solid gray;box-sizing: border-box;top: 0;bottom: 0;left: 50%;z-index: 0;}#sk-container-id-1 div.sk-serial {display: flex;flex-direction: column;align-items: center;background-color: white;padding-right: 0.2em;padding-left: 0.2em;position: relative;}#sk-container-id-1 div.sk-item {position: relative;z-index: 1;}#sk-container-id-1 div.sk-parallel {display: flex;align-items: stretch;justify-content: center;background-color: white;position: relative;}#sk-container-id-1 div.sk-item::before, #sk-container-id-1 div.sk-parallel-item::before {content: \"\";position: absolute;border-left: 1px solid gray;box-sizing: border-box;top: 0;bottom: 0;left: 50%;z-index: -1;}#sk-container-id-1 div.sk-parallel-item {display: flex;flex-direction: column;z-index: 1;position: relative;background-color: white;}#sk-container-id-1 div.sk-parallel-item:first-child::after {align-self: flex-end;width: 50%;}#sk-container-id-1 div.sk-parallel-item:last-child::after {align-self: flex-start;width: 50%;}#sk-container-id-1 div.sk-parallel-item:only-child::after {width: 0;}#sk-container-id-1 div.sk-dashed-wrapped {border: 1px dashed gray;margin: 0 0.4em 0.5em 0.4em;box-sizing: border-box;padding-bottom: 0.4em;background-color: white;}#sk-container-id-1 div.sk-label label {font-family: monospace;font-weight: bold;display: inline-block;line-height: 1.2em;}#sk-container-id-1 div.sk-label-container {text-align: center;}#sk-container-id-1 div.sk-container {/* jupyter's `normalize.less` sets `[hidden] { display: none; }` but bootstrap.min.css set `[hidden] { display: none !important; }` so we also need the `!important` here to be able to override the default hidden behavior on the sphinx rendered scikit-learn.org. See: https://github.com/scikit-learn/scikit-learn/issues/21755 */display: inline-block !important;position: relative;}#sk-container-id-1 div.sk-text-repr-fallback {display: none;}</style><div id=\"sk-container-id-1\" class=\"sk-top-container\"><div class=\"sk-text-repr-fallback\"><pre>DecisionTreeRegressor(criterion=&#x27;absolute_error&#x27;, min_samples_split=8,\n",
              "                      random_state=0)</pre><b>In a Jupyter environment, please rerun this cell to show the HTML representation or trust the notebook. <br />On GitHub, the HTML representation is unable to render, please try loading this page with nbviewer.org.</b></div><div class=\"sk-container\" hidden><div class=\"sk-item\"><div class=\"sk-estimator sk-toggleable\"><input class=\"sk-toggleable__control sk-hidden--visually\" id=\"sk-estimator-id-1\" type=\"checkbox\" checked><label for=\"sk-estimator-id-1\" class=\"sk-toggleable__label sk-toggleable__label-arrow\">DecisionTreeRegressor</label><div class=\"sk-toggleable__content\"><pre>DecisionTreeRegressor(criterion=&#x27;absolute_error&#x27;, min_samples_split=8,\n",
              "                      random_state=0)</pre></div></div></div></div></div>"
            ]
          },
          "metadata": {},
          "execution_count": 62
        }
      ]
    },
    {
      "cell_type": "markdown",
      "source": [
        "train on entire train set"
      ],
      "metadata": {
        "id": "vGIm1XLdDe_A"
      }
    },
    {
      "cell_type": "code",
      "source": [
        "best_model.fit(df_x_train_skills_copy_encode,df_y_train_skills['Salary'])"
      ],
      "metadata": {
        "colab": {
          "base_uri": "https://localhost:8080/",
          "height": 92
        },
        "id": "OS4dcsSPDhM6",
        "outputId": "18ed4979-f88d-437e-f172-4f4ff913add9"
      },
      "execution_count": 63,
      "outputs": [
        {
          "output_type": "execute_result",
          "data": {
            "text/plain": [
              "DecisionTreeRegressor(criterion='absolute_error', min_samples_split=8,\n",
              "                      random_state=0)"
            ],
            "text/html": [
              "<style>#sk-container-id-2 {color: black;background-color: white;}#sk-container-id-2 pre{padding: 0;}#sk-container-id-2 div.sk-toggleable {background-color: white;}#sk-container-id-2 label.sk-toggleable__label {cursor: pointer;display: block;width: 100%;margin-bottom: 0;padding: 0.3em;box-sizing: border-box;text-align: center;}#sk-container-id-2 label.sk-toggleable__label-arrow:before {content: \"▸\";float: left;margin-right: 0.25em;color: #696969;}#sk-container-id-2 label.sk-toggleable__label-arrow:hover:before {color: black;}#sk-container-id-2 div.sk-estimator:hover label.sk-toggleable__label-arrow:before {color: black;}#sk-container-id-2 div.sk-toggleable__content {max-height: 0;max-width: 0;overflow: hidden;text-align: left;background-color: #f0f8ff;}#sk-container-id-2 div.sk-toggleable__content pre {margin: 0.2em;color: black;border-radius: 0.25em;background-color: #f0f8ff;}#sk-container-id-2 input.sk-toggleable__control:checked~div.sk-toggleable__content {max-height: 200px;max-width: 100%;overflow: auto;}#sk-container-id-2 input.sk-toggleable__control:checked~label.sk-toggleable__label-arrow:before {content: \"▾\";}#sk-container-id-2 div.sk-estimator input.sk-toggleable__control:checked~label.sk-toggleable__label {background-color: #d4ebff;}#sk-container-id-2 div.sk-label input.sk-toggleable__control:checked~label.sk-toggleable__label {background-color: #d4ebff;}#sk-container-id-2 input.sk-hidden--visually {border: 0;clip: rect(1px 1px 1px 1px);clip: rect(1px, 1px, 1px, 1px);height: 1px;margin: -1px;overflow: hidden;padding: 0;position: absolute;width: 1px;}#sk-container-id-2 div.sk-estimator {font-family: monospace;background-color: #f0f8ff;border: 1px dotted black;border-radius: 0.25em;box-sizing: border-box;margin-bottom: 0.5em;}#sk-container-id-2 div.sk-estimator:hover {background-color: #d4ebff;}#sk-container-id-2 div.sk-parallel-item::after {content: \"\";width: 100%;border-bottom: 1px solid gray;flex-grow: 1;}#sk-container-id-2 div.sk-label:hover label.sk-toggleable__label {background-color: #d4ebff;}#sk-container-id-2 div.sk-serial::before {content: \"\";position: absolute;border-left: 1px solid gray;box-sizing: border-box;top: 0;bottom: 0;left: 50%;z-index: 0;}#sk-container-id-2 div.sk-serial {display: flex;flex-direction: column;align-items: center;background-color: white;padding-right: 0.2em;padding-left: 0.2em;position: relative;}#sk-container-id-2 div.sk-item {position: relative;z-index: 1;}#sk-container-id-2 div.sk-parallel {display: flex;align-items: stretch;justify-content: center;background-color: white;position: relative;}#sk-container-id-2 div.sk-item::before, #sk-container-id-2 div.sk-parallel-item::before {content: \"\";position: absolute;border-left: 1px solid gray;box-sizing: border-box;top: 0;bottom: 0;left: 50%;z-index: -1;}#sk-container-id-2 div.sk-parallel-item {display: flex;flex-direction: column;z-index: 1;position: relative;background-color: white;}#sk-container-id-2 div.sk-parallel-item:first-child::after {align-self: flex-end;width: 50%;}#sk-container-id-2 div.sk-parallel-item:last-child::after {align-self: flex-start;width: 50%;}#sk-container-id-2 div.sk-parallel-item:only-child::after {width: 0;}#sk-container-id-2 div.sk-dashed-wrapped {border: 1px dashed gray;margin: 0 0.4em 0.5em 0.4em;box-sizing: border-box;padding-bottom: 0.4em;background-color: white;}#sk-container-id-2 div.sk-label label {font-family: monospace;font-weight: bold;display: inline-block;line-height: 1.2em;}#sk-container-id-2 div.sk-label-container {text-align: center;}#sk-container-id-2 div.sk-container {/* jupyter's `normalize.less` sets `[hidden] { display: none; }` but bootstrap.min.css set `[hidden] { display: none !important; }` so we also need the `!important` here to be able to override the default hidden behavior on the sphinx rendered scikit-learn.org. See: https://github.com/scikit-learn/scikit-learn/issues/21755 */display: inline-block !important;position: relative;}#sk-container-id-2 div.sk-text-repr-fallback {display: none;}</style><div id=\"sk-container-id-2\" class=\"sk-top-container\"><div class=\"sk-text-repr-fallback\"><pre>DecisionTreeRegressor(criterion=&#x27;absolute_error&#x27;, min_samples_split=8,\n",
              "                      random_state=0)</pre><b>In a Jupyter environment, please rerun this cell to show the HTML representation or trust the notebook. <br />On GitHub, the HTML representation is unable to render, please try loading this page with nbviewer.org.</b></div><div class=\"sk-container\" hidden><div class=\"sk-item\"><div class=\"sk-estimator sk-toggleable\"><input class=\"sk-toggleable__control sk-hidden--visually\" id=\"sk-estimator-id-2\" type=\"checkbox\" checked><label for=\"sk-estimator-id-2\" class=\"sk-toggleable__label sk-toggleable__label-arrow\">DecisionTreeRegressor</label><div class=\"sk-toggleable__content\"><pre>DecisionTreeRegressor(criterion=&#x27;absolute_error&#x27;, min_samples_split=8,\n",
              "                      random_state=0)</pre></div></div></div></div></div>"
            ]
          },
          "metadata": {},
          "execution_count": 63
        }
      ]
    },
    {
      "cell_type": "markdown",
      "source": [
        "recheck on validation set"
      ],
      "metadata": {
        "id": "IJd9MdlRG_nH"
      }
    },
    {
      "cell_type": "code",
      "source": [
        "val_y_pred = best_model.predict(val_x)\n",
        "rmse_val = mean_squared_error(val_y, val_y_pred, squared=False)\n",
        "rmse_val"
      ],
      "metadata": {
        "colab": {
          "base_uri": "https://localhost:8080/"
        },
        "id": "Nm48KCnqG_PF",
        "outputId": "327c0258-666e-41e6-984e-4798795a4711"
      },
      "execution_count": 64,
      "outputs": [
        {
          "output_type": "execute_result",
          "data": {
            "text/plain": [
              "3506.310296924802"
            ]
          },
          "metadata": {},
          "execution_count": 64
        }
      ]
    },
    {
      "cell_type": "code",
      "source": [
        "data = {'actual': y_val_true,\n",
        "        'predicted': val_y_pred}\n",
        "df = pd.DataFrame(data)\n",
        "sns.scatterplot(data=df, x='actual', y='predicted')\n",
        "sns.lineplot(x=y_val_true, y=y_val_true,color='red', linestyle='dashed')\n",
        "plt.title('Actual vs Prediction on the val set');"
      ],
      "metadata": {
        "colab": {
          "base_uri": "https://localhost:8080/",
          "height": 472
        },
        "id": "Lq3Sry6ejOCs",
        "outputId": "18504eff-4c96-47ed-e4f2-50d317c16dff"
      },
      "execution_count": 65,
      "outputs": [
        {
          "output_type": "display_data",
          "data": {
            "text/plain": [
              "<Figure size 640x480 with 1 Axes>"
            ],
            "image/png": "[encoded data removed]"
          },
          "metadata": {}
        }
      ]
    },
    {
      "cell_type": "markdown",
      "source": [
        "## Predict on test"
      ],
      "metadata": {
        "id": "FOhPu3uPkIZS"
      }
    },
    {
      "cell_type": "code",
      "source": [
        "df_x_test_skills_copy_encode.drop('height', axis=1, inplace=True,errors='ignore')"
      ],
      "metadata": {
        "id": "4IJnXzlnksoQ"
      },
      "execution_count": 66,
      "outputs": []
    },
    {
      "cell_type": "code",
      "source": [
        "dict_test = {\"id\":[],'salary':[]}\n",
        "y_pred = best_model.predict(df_x_test_skills_copy_encode)\n",
        "dict_test[\"id\"] = list(df_x_test_skills_copy_encode.index)\n",
        "dict_test[\"salary\"] = y_pred\n",
        "df_test_result = pd.DataFrame(dict_test).set_index('id')\n",
        "df_test_result.index = df_test_result.index.astype(str)\n",
        "df_test_result[\"salary\"] = df_test_result[\"salary\"].astype(int)\n"
      ],
      "metadata": {
        "id": "05uz1SoWEsjL"
      },
      "execution_count": 67,
      "outputs": []
    },
    {
      "cell_type": "code",
      "source": [
        "df_test_result.head()"
      ],
      "metadata": {
        "colab": {
          "base_uri": "https://localhost:8080/",
          "height": 237
        },
        "id": "JTlgq0o-kvb5",
        "outputId": "7014844f-7b77-46ba-f166-d4a23aef50f7"
      },
      "execution_count": 68,
      "outputs": [
        {
          "output_type": "execute_result",
          "data": {
            "text/plain": [
              "      salary\n",
              "id          \n",
              "6480  140000\n",
              "5343   55000\n",
              "2576   80247\n",
              "6103  195000\n",
              "3290   75000"
            ],
            "text/html": [
              "\n",
              "  <div id=\"df-440092ee-8076-4b30-bc1a-aeeccc22cc02\" class=\"colab-df-container\">\n",
              "    <div>\n",
              "<style scoped>\n",
              "    .dataframe tbody tr th:only-of-type {\n",
              "        vertical-align: middle;\n",
              "    }\n",
              "\n",
              "    .dataframe tbody tr th {\n",
              "        vertical-align: top;\n",
              "    }\n",
              "\n",
              "    .dataframe thead th {\n",
              "        text-align: right;\n",
              "    }\n",
              "</style>\n",
              "<table border=\"1\" class=\"dataframe\">\n",
              "  <thead>\n",
              "    <tr style=\"text-align: right;\">\n",
              "      <th></th>\n",
              "      <th>salary</th>\n",
              "    </tr>\n",
              "    <tr>\n",
              "      <th>id</th>\n",
              "      <th></th>\n",
              "    </tr>\n",
              "  </thead>\n",
              "  <tbody>\n",
              "    <tr>\n",
              "      <th>6480</th>\n",
              "      <td>140000</td>\n",
              "    </tr>\n",
              "    <tr>\n",
              "      <th>5343</th>\n",
              "      <td>55000</td>\n",
              "    </tr>\n",
              "    <tr>\n",
              "      <th>2576</th>\n",
              "      <td>80247</td>\n",
              "    </tr>\n",
              "    <tr>\n",
              "      <th>6103</th>\n",
              "      <td>195000</td>\n",
              "    </tr>\n",
              "    <tr>\n",
              "      <th>3290</th>\n",
              "      <td>75000</td>\n",
              "    </tr>\n",
              "  </tbody>\n",
              "</table>\n",
              "</div>\n",
              "    <div class=\"colab-df-buttons\">\n",
              "\n",
              "  <div class=\"colab-df-container\">\n",
              "    <button class=\"colab-df-convert\" onclick=\"convertToInteractive('df-440092ee-8076-4b30-bc1a-aeeccc22cc02')\"\n",
              "            title=\"Convert this dataframe to an interactive table.\"\n",
              "            style=\"display:none;\">\n",
              "\n",
              "  <svg xmlns=\"http://www.w3.org/2000/svg\" height=\"24px\" viewBox=\"0 -960 960 960\">\n",
              "    <path d=\"M120-120v-720h720v720H120Zm60-500h600v-160H180v160Zm220 220h160v-160H400v160Zm0 220h160v-160H400v160ZM180-400h160v-160H180v160Zm440 0h160v-160H620v160ZM180-180h160v-160H180v160Zm440 0h160v-160H620v160Z\"/>\n",
              "  </svg>\n",
              "    </button>\n",
              "\n",
              "  <style>\n",
              "    .colab-df-container {\n",
              "      display:flex;\n",
              "      gap: 12px;\n",
              "    }\n",
              "\n",
              "    .colab-df-convert {\n",
              "      background-color: #E8F0FE;\n",
              "      border: none;\n",
              "      border-radius: 50%;\n",
              "      cursor: pointer;\n",
              "      display: none;\n",
              "      fill: #1967D2;\n",
              "      height: 32px;\n",
              "      padding: 0 0 0 0;\n",
              "      width: 32px;\n",
              "    }\n",
              "\n",
              "    .colab-df-convert:hover {\n",
              "      background-color: #E2EBFA;\n",
              "      box-shadow: 0px 1px 2px rgba(60, 64, 67, 0.3), 0px 1px 3px 1px rgba(60, 64, 67, 0.15);\n",
              "      fill: #174EA6;\n",
              "    }\n",
              "\n",
              "    .colab-df-buttons div {\n",
              "      margin-bottom: 4px;\n",
              "    }\n",
              "\n",
              "    [theme=dark] .colab-df-convert {\n",
              "      background-color: #3B4455;\n",
              "      fill: #D2E3FC;\n",
              "    }\n",
              "\n",
              "    [theme=dark] .colab-df-convert:hover {\n",
              "      background-color: #434B5C;\n",
              "      box-shadow: 0px 1px 3px 1px rgba(0, 0, 0, 0.15);\n",
              "      filter: drop-shadow(0px 1px 2px rgba(0, 0, 0, 0.3));\n",
              "      fill: #FFFFFF;\n",
              "    }\n",
              "  </style>\n",
              "\n",
              "    <script>\n",
              "      const buttonEl =\n",
              "        document.querySelector('#df-440092ee-8076-4b30-bc1a-aeeccc22cc02 button.colab-df-convert');\n",
              "      buttonEl.style.display =\n",
              "        google.colab.kernel.accessAllowed ? 'block' : 'none';\n",
              "\n",
              "      async function convertToInteractive(key) {\n",
              "        const element = document.querySelector('#df-440092ee-8076-4b30-bc1a-aeeccc22cc02');\n",
              "        const dataTable =\n",
              "          await google.colab.kernel.invokeFunction('convertToInteractive',\n",
              "                                                    [key], {});\n",
              "        if (!dataTable) return;\n",
              "\n",
              "        const docLinkHtml = 'Like what you see? Visit the ' +\n",
              "          '<a target=\"_blank\" href=https://colab.research.google.com/notebooks/data_table.ipynb>data table notebook</a>'\n",
              "          + ' to learn more about interactive tables.';\n",
              "        element.innerHTML = '';\n",
              "        dataTable['output_type'] = 'display_data';\n",
              "        await google.colab.output.renderOutput(dataTable, element);\n",
              "        const docLink = document.createElement('div');\n",
              "        docLink.innerHTML = docLinkHtml;\n",
              "        element.appendChild(docLink);\n",
              "      }\n",
              "    </script>\n",
              "  </div>\n",
              "\n",
              "\n",
              "<div id=\"df-7790a342-3cd0-4ddf-81f1-70ac4c55fa8b\">\n",
              "  <button class=\"colab-df-quickchart\" onclick=\"quickchart('df-7790a342-3cd0-4ddf-81f1-70ac4c55fa8b')\"\n",
              "            title=\"Suggest charts.\"\n",
              "            style=\"display:none;\">\n",
              "\n",
              "<svg xmlns=\"http://www.w3.org/2000/svg\" height=\"24px\"viewBox=\"0 0 24 24\"\n",
              "     width=\"24px\">\n",
              "    <g>\n",
              "        <path d=\"M19 3H5c-1.1 0-2 .9-2 2v14c0 1.1.9 2 2 2h14c1.1 0 2-.9 2-2V5c0-1.1-.9-2-2-2zM9 17H7v-7h2v7zm4 0h-2V7h2v10zm4 0h-2v-4h2v4z\"/>\n",
              "    </g>\n",
              "</svg>\n",
              "  </button>\n",
              "\n",
              "<style>\n",
              "  .colab-df-quickchart {\n",
              "    background-color: #E8F0FE;\n",
              "    border: none;\n",
              "    border-radius: 50%;\n",
              "    cursor: pointer;\n",
              "    display: none;\n",
              "    fill: #1967D2;\n",
              "    height: 32px;\n",
              "    padding: 0 0 0 0;\n",
              "    width: 32px;\n",
              "  }\n",
              "\n",
              "  .colab-df-quickchart:hover {\n",
              "    background-color: #E2EBFA;\n",
              "    box-shadow: 0px 1px 2px rgba(60, 64, 67, 0.3), 0px 1px 3px 1px rgba(60, 64, 67, 0.15);\n",
              "    fill: #174EA6;\n",
              "  }\n",
              "\n",
              "  [theme=dark] .colab-df-quickchart {\n",
              "    background-color: #3B4455;\n",
              "    fill: #D2E3FC;\n",
              "  }\n",
              "\n",
              "  [theme=dark] .colab-df-quickchart:hover {\n",
              "    background-color: #434B5C;\n",
              "    box-shadow: 0px 1px 3px 1px rgba(0, 0, 0, 0.15);\n",
              "    filter: drop-shadow(0px 1px 2px rgba(0, 0, 0, 0.3));\n",
              "    fill: #FFFFFF;\n",
              "  }\n",
              "</style>\n",
              "\n",
              "  <script>\n",
              "    async function quickchart(key) {\n",
              "      const charts = await google.colab.kernel.invokeFunction(\n",
              "          'suggestCharts', [key], {});\n",
              "    }\n",
              "    (() => {\n",
              "      let quickchartButtonEl =\n",
              "        document.querySelector('#df-7790a342-3cd0-4ddf-81f1-70ac4c55fa8b button');\n",
              "      quickchartButtonEl.style.display =\n",
              "        google.colab.kernel.accessAllowed ? 'block' : 'none';\n",
              "    })();\n",
              "  </script>\n",
              "</div>\n",
              "    </div>\n",
              "  </div>\n"
            ]
          },
          "metadata": {},
          "execution_count": 68
        }
      ]
    },
    {
      "cell_type": "code",
      "source": [
        "results_test_dict = df_test_result['salary'].to_dict() # CREATE FINAL DICT\n",
        "results_test_dict"
      ],
      "metadata": {
        "colab": {
          "base_uri": "https://localhost:8080/"
        },
        "id": "uoaN9efjkXHS",
        "outputId": "56bf6e32-b783-48d8-cefc-12955fc0f59d"
      },
      "execution_count": 69,
      "outputs": [
        {
          "output_type": "execute_result",
          "data": {
            "text/plain": [
              "{'6480': 140000,\n",
              " '5343': 55000,\n",
              " '2576': 80247,\n",
              " '6103': 195000,\n",
              " '3290': 75000,\n",
              " '2797': 182392,\n",
              " '6577': 55000,\n",
              " '4401': 26000,\n",
              " '693': 172500,\n",
              " '4700': 100000,\n",
              " '666': 110000,\n",
              " '694': 160000,\n",
              " '6329': 110000,\n",
              " '4129': 26000,\n",
              " '1083': 130000,\n",
              " '1606': 195000,\n",
              " '5977': 200000,\n",
              " '1231': 185000,\n",
              " '4239': 26000,\n",
              " '127': 112500,\n",
              " '5606': 70000,\n",
              " '6386': 170000,\n",
              " '5990': 185000,\n",
              " '5439': 100000,\n",
              " '850': 90000,\n",
              " '2891': 101300,\n",
              " '5483': 50000,\n",
              " '1329': 185000,\n",
              " '1763': 90000,\n",
              " '3332': 60000,\n",
              " '668': 195000,\n",
              " '2591': 146508,\n",
              " '2485': 126753,\n",
              " '2484': 146508,\n",
              " '1218': 120000,\n",
              " '1125': 195000,\n",
              " '5327': 57000,\n",
              " '5165': 25000,\n",
              " '2425': 174821,\n",
              " '4175': 75000,\n",
              " '3094': 103223,\n",
              " '400': 170000,\n",
              " '112': 175000,\n",
              " '6056': 90000,\n",
              " '1905': 170000,\n",
              " '5328': 60000,\n",
              " '2379': 76742,\n",
              " '3496': 33000,\n",
              " '912': 110000,\n",
              " '4103': 35000,\n",
              " '105': 162000,\n",
              " '241': 35000,\n",
              " '2042': 100000,\n",
              " '1043': 130000,\n",
              " '2418': 150000,\n",
              " '6110': 185000,\n",
              " '533': 150000,\n",
              " '1815': 115000,\n",
              " '2705': 80000,\n",
              " '6624': 40000,\n",
              " '5132': 110000,\n",
              " '6043': 170000,\n",
              " '1170': 120000,\n",
              " '5802': 160000,\n",
              " '5372': 150000,\n",
              " '2122': 140000,\n",
              " '4794': 135000,\n",
              " '4335': 71000,\n",
              " '5846': 120000,\n",
              " '5476': 160000,\n",
              " '3640': 105000,\n",
              " '4169': 146000,\n",
              " '4415': 119000,\n",
              " '1641': 70000,\n",
              " '1156': 185000,\n",
              " '2839': 107718,\n",
              " '3827': 160000,\n",
              " '5333': 170000,\n",
              " '4052': 150000,\n",
              " '490': 100000,\n",
              " '5371': 55000,\n",
              " '2570': 72389,\n",
              " '4158': 85000,\n",
              " '4962': 25000,\n",
              " '3078': 70216,\n",
              " '2525': 182392,\n",
              " '5117': 140000,\n",
              " '5178': 50000,\n",
              " '4087': 220000,\n",
              " '612': 130000,\n",
              " '3298': 60000,\n",
              " '3805': 110000,\n",
              " '436': 180000,\n",
              " '1423': 120288,\n",
              " '4260': 113000,\n",
              " '5970': 60000,\n",
              " '4798': 72000,\n",
              " '2033': 115000,\n",
              " '4615': 58000,\n",
              " '2177': 200000,\n",
              " '812': 150000,\n",
              " '6598': 55000,\n",
              " '643': 198000,\n",
              " '6576': 50000,\n",
              " '1188': 160000,\n",
              " '5681': 170000,\n",
              " '4227': 225000,\n",
              " '2894': 136986,\n",
              " '4760': 31000,\n",
              " '6060': 25000,\n",
              " '6234': 185000,\n",
              " '118': 52500,\n",
              " '872': 110000,\n",
              " '4475': 119000,\n",
              " '3596': 33000,\n",
              " '3927': 140000,\n",
              " '332': 190000,\n",
              " '3929': 31000,\n",
              " '889': 195000,\n",
              " '721': 180000,\n",
              " '3264': 60000,\n",
              " '3828': 60000,\n",
              " '4452': 57000,\n",
              " '5446': 65000,\n",
              " '4308': 151835,\n",
              " '3012': 180367,\n",
              " '1029': 110000,\n",
              " '4352': 36000,\n",
              " '958': 185000,\n",
              " '4277': 36000,\n",
              " '3358': 75000,\n",
              " '1751': 60000,\n",
              " '5254': 185000,\n",
              " '3334': 70000,\n",
              " '6629': 200000,\n",
              " '561': 180000,\n",
              " '2231': 65000,\n",
              " '715': 198000,\n",
              " '130': 170000,\n",
              " '3629': 32000,\n",
              " '5109': 25000,\n",
              " '5930': 160000,\n",
              " '2295': 100000,\n",
              " '2756': 80000,\n",
              " '4323': 152000,\n",
              " '2270': 210000,\n",
              " '4620': 70000,\n",
              " '4073': 35000,\n",
              " '2795': 150000,\n",
              " '3486': 65000,\n",
              " '988': 185000,\n",
              " '4402': 204000,\n",
              " '1897': 70000,\n",
              " '3142': 165000,\n",
              " '5003': 70000,\n",
              " '6526': 35000,\n",
              " '1395': 130000,\n",
              " '3338': 110000,\n",
              " '2801': 169453,\n",
              " '1054': 150000,\n",
              " '1094': 140000,\n",
              " '1088': 140000,\n",
              " '6011': 55000,\n",
              " '3645': 100000,\n",
              " '3178': 60000,\n",
              " '5992': 55000,\n",
              " '422': 155000,\n",
              " '5246': 100000,\n",
              " '4347': 92000,\n",
              " '1611': 125000,\n",
              " '6448': 95000,\n",
              " '623': 150000,\n",
              " '2099': 80000,\n",
              " '5219': 55000,\n",
              " '6085': 170000,\n",
              " '2565': 163978,\n",
              " '1646': 80000,\n",
              " '3362': 170000,\n",
              " '5198': 60000,\n",
              " '5524': 25000,\n",
              " '2444': 143084,\n",
              " '3821': 70000,\n",
              " '2215': 190000,\n",
              " '708': 185000,\n",
              " '1136': 190000,\n",
              " '4721': 50000,\n",
              " '3265': 120000,\n",
              " '3712': 180000,\n",
              " '1953': 105000,\n",
              " '6215': 55000,\n",
              " '830': 190000,\n",
              " '733': 198000,\n",
              " '2422': 55935,\n",
              " '4437': 57000,\n",
              " '4353': 152000,\n",
              " '593': 195000,\n",
              " '503': 115000,\n",
              " '2283': 180000,\n",
              " '3818': 75000,\n",
              " '1829': 115000,\n",
              " '4583': 95000,\n",
              " '1555': 80000,\n",
              " '608': 90000,\n",
              " '4168': 36000,\n",
              " '5731': 200000,\n",
              " '3698': 35000,\n",
              " '5354': 55000,\n",
              " '4631': 95000,\n",
              " '61': 52500,\n",
              " '2050': 115000,\n",
              " '403': 155000,\n",
              " '2351': 180000,\n",
              " '6693': 140000,\n",
              " '1213': 119224,\n",
              " '2864': 75000,\n",
              " '3578': 150000,\n",
              " '2141': 103223,\n",
              " '1949': 190000,\n",
              " '166': 130000,\n",
              " '5445': 55000,\n",
              " '1279': 195000,\n",
              " '207': 90000,\n",
              " '3967': 150000,\n",
              " '4287': 92000,\n",
              " '2523': 142360,\n",
              " '5816': 160000,\n",
              " '3481': 115000,\n",
              " '4212': 225000,\n",
              " '5455': 50000,\n",
              " '4834': 135000,\n",
              " '4761': 105000,\n",
              " '3613': 70000,\n",
              " '3734': 85000,\n",
              " '4101': 71000,\n",
              " '3700': 75000,\n",
              " '596': 100000,\n",
              " '3521': 32000,\n",
              " '2396': 188441,\n",
              " '3108': 137000,\n",
              " '5329': 160000,\n",
              " '3055': 163978,\n",
              " '928': 190000,\n",
              " '5904': 120000,\n",
              " '5590': 90000,\n",
              " '698': 140000,\n",
              " '4691': 50000,\n",
              " '1266': 170000,\n",
              " '3736': 50000,\n",
              " '1172': 195000,\n",
              " '182': 150000,\n",
              " '2662': 135000,\n",
              " '3510': 32000,\n",
              " '5256': 130000,\n",
              " '5275': 120000,\n",
              " '425': 115000,\n",
              " '1733': 190000,\n",
              " '4689': 26000,\n",
              " '3444': 40000,\n",
              " '4767': 65000,\n",
              " '3075': 146508,\n",
              " '5908': 55000,\n",
              " '5150': 50000,\n",
              " '4042': 220000,\n",
              " '365': 152168,\n",
              " '6169': 110000,\n",
              " '6205': 80000,\n",
              " '4599': 55000,\n",
              " '3253': 90000,\n",
              " '4580': 43000,\n",
              " '2920': 169453,\n",
              " '4526': 140000,\n",
              " '821': 122500,\n",
              " '3872': 160000,\n",
              " '2467': 183138,\n",
              " '3995': 85000,\n",
              " '4316': 182000,\n",
              " '2458': 167015,\n",
              " '3943': 75000,\n",
              " '474': 100000,\n",
              " '1680': 110000,\n",
              " '2287': 210000,\n",
              " '1368': 150000,\n",
              " '371': 175000,\n",
              " '1525': 150000,\n",
              " '3634': 33000,\n",
              " '3220': 80000,\n",
              " '4479': 150000,\n",
              " '3497': 150000,\n",
              " '6605': 35000,\n",
              " '6024': 70000,\n",
              " '6561': 170000,\n",
              " '5057': 25000,\n",
              " '4945': 30000,\n",
              " '3528': 45000,\n",
              " '4464': 150000,\n",
              " '1684': 55000,\n",
              " '3719': 85000,\n",
              " '3212': 60000,\n",
              " '3790': 110000,\n",
              " '461': 120000,\n",
              " '5341': 25000,\n",
              " '4445': 119000,\n",
              " '5741': 65000,\n",
              " '3164': 200000,\n",
              " '259': 35000,\n",
              " '151': 150000,\n",
              " '4856': 125000,\n",
              " '5671': 60000,\n",
              " '1102': 155000,\n",
              " '5222': 150000,\n",
              " '4143': 26000,\n",
              " '5336': 120000,\n",
              " '1242': 95000,\n",
              " '6259': 70000,\n",
              " '5448': 160000,\n",
              " '1603': 185000,\n",
              " '6475': 190000,\n",
              " '4548': 40000,\n",
              " '6678': 35000,\n",
              " '6370': 170000,\n",
              " '6377': 120000,\n",
              " '1917': 185000,\n",
              " '3975': 120000,\n",
              " '553': 198000,\n",
              " '1023': 130000,\n",
              " '6590': 137489,\n",
              " '1810': 160000,\n",
              " '2060': 170000,\n",
              " '6418': 35000,\n",
              " '5230': 55000,\n",
              " '5158': 180000,\n",
              " '355': 80000,\n",
              " '5752': 82500,\n",
              " '1811': 100000,\n",
              " '201': 45000,\n",
              " '4779': 145000,\n",
              " '4939': 120000,\n",
              " '2446': 140010,\n",
              " '264': 130000,\n",
              " '2958': 75000,\n",
              " '3775': 110000,\n",
              " '4671': 50000,\n",
              " '3189': 120000,\n",
              " '4654': 45000,\n",
              " '6306': 88552,\n",
              " '6505': 170000,\n",
              " '509': 150000,\n",
              " '3143': 140000,\n",
              " '1947': 135000,\n",
              " '5460': 100000,\n",
              " '2904': 126520,\n",
              " '3416': 65000,\n",
              " '4404': 150000,\n",
              " '1565': 55000,\n",
              " '5950': 55000,\n",
              " '3205': 60000,\n",
              " '660': 120000,\n",
              " '605': 185000,\n",
              " '2671': 200000,\n",
              " '832': 160000,\n",
              " '2638': 182768,\n",
              " '2873': 70397,\n",
              " '3149': 55000,\n",
              " '6273': 55000,\n",
              " '1258': 200000,\n",
              " '5733': 140000,\n",
              " '4906': 30000,\n",
              " '650': 120000,\n",
              " '1754': 105000,\n",
              " '479': 115000,\n",
              " '685': 100000,\n",
              " '1748': 105000,\n",
              " '4729': 26000,\n",
              " '5761': 65000,\n",
              " '6506': 50000,\n",
              " '3630': 70000,\n",
              " '9': 100000,\n",
              " '5489': 120000,\n",
              " '3841': 30000,\n",
              " '6662': 130000,\n",
              " '6121': 70000,\n",
              " '4252': 162000,\n",
              " '5974': 120000,\n",
              " '2914': 150000,\n",
              " '4627': 35000,\n",
              " '2621': 192756,\n",
              " '3750': 70000,\n",
              " '1315': 190000,\n",
              " '3458': 33000,\n",
              " '3617': 50000,\n",
              " '1569': 185000,\n",
              " '2838': 185722,\n",
              " '3615': 33000,\n",
              " '191': 170000,\n",
              " '142': 65000,\n",
              " '2008': 115000,\n",
              " '1065': 190000,\n",
              " '440': 140000,\n",
              " '4667': 70000,\n",
              " '1927': 80000,\n",
              " '2502': 55935,\n",
              " '3145': 105000,\n",
              " '168': 50000,\n",
              " '2912': 75656,\n",
              " '2326': 160000,\n",
              " '1864': 70000,\n",
              " '4085': 110000,\n",
              " '60': 184243,\n",
              " '6243': 55000,\n",
              " '4257': 225000,\n",
              " '5934': 180000,\n",
              " '5989': 25000,\n",
              " '6357': 75000,\n",
              " '1111': 110000,\n",
              " '2673': 60000,\n",
              " '3787': 140000,\n",
              " '4155': 113000,\n",
              " '2858': 132442,\n",
              " '1794': 195000,\n",
              " '5402': 170000,\n",
              " '618': 160000,\n",
              " '2201': 103223,\n",
              " '4897': 25000,\n",
              " '2248': 70000,\n",
              " '616': 90000,\n",
              " '2983': 101300,\n",
              " '1800': 100000,\n",
              " '3566': 140000,\n",
              " '4029': 140000,\n",
              " '1882': 195000,\n",
              " '1640': 195000,\n",
              " '3412': 70000,\n",
              " '2967': 70397,\n",
              " '498': 100000,\n",
              " '4466': 52000,\n",
              " '5705': 145000,\n",
              " '4900': 120000,\n",
              " '6277': 35000,\n",
              " '6179': 60000,\n",
              " '6193': 60000,\n",
              " '2481': 188441,\n",
              " '3490': 95000,\n",
              " '6669': 190000,\n",
              " '840': 110000,\n",
              " '3591': 32000,\n",
              " '3390': 25000,\n",
              " '4730': 100000,\n",
              " '1701': 80000,\n",
              " '4349': 125000,\n",
              " '1651': 145052,\n",
              " '1665': 55000,\n",
              " '6140': 65000,\n",
              " '4425': 104000,\n",
              " '2221': 100000,\n",
              " '5112': 120000,\n",
              " '3294': 170000,\n",
              " '538': 170000,\n",
              " '5726': 160000,\n",
              " '1356': 195000,\n",
              " '5721': 130000,\n",
              " '3871': 26000,\n",
              " '3683': 35000,\n",
              " '5185': 50000,\n",
              " '1013': 120000,\n",
              " '3801': 50000,\n",
              " '4337': 37000,\n",
              " '4598': 95000,\n",
              " '1918': 125000,\n",
              " '4362': 92000,\n",
              " '787': 170000,\n",
              " '1214': 210000,\n",
              " '1250': 170000,\n",
              " '5581': 185000,\n",
              " '13': 140010,\n",
              " '6382': 80000,\n",
              " '4961': 155000,\n",
              " '361': 90000,\n",
              " '3873': 60000,\n",
              " '1670': 145000,\n",
              " '3157': 210000,\n",
              " '336': 40000,\n",
              " '6051': 70000,\n",
              " '3104': 191239,\n",
              " '3008': 75000,\n",
              " '2367': 80000,\n",
              " '6700': 50000,\n",
              " '6566': 120000,\n",
              " '642': 190000,\n",
              " '3226': 140000,\n",
              " '3608': 45000,\n",
              " '6253': 120000,\n",
              " '4210': 117000,\n",
              " '3252': 170000,\n",
              " '5627': 80000,\n",
              " '4264': 90000,\n",
              " '1404': 195000,\n",
              " '1168': 180000,\n",
              " '5014': 30000,\n",
              " '2790': 52807,\n",
              " '1452': 195000,\n",
              " '5894': 170000,\n",
              " '2660': 60000,\n",
              " '2373': 140000,\n",
              " '622': 190000,\n",
              " '3133': 103223,\n",
              " '6611': 90000,\n",
              " '3576': 85000,\n",
              " '1479': 160000,\n",
              " '2937': 166958,\n",
              " '1270': 170000,\n",
              " '1855': 100000,\n",
              " '5903': 60000,\n",
              " '3423': 32000,\n",
              " '6092': 145000,\n",
              " '1240': 195000,\n",
              " '1435': 65000,\n",
              " '4046': 30000,\n",
              " '5303': 120000,\n",
              " '15': 137489,\n",
              " '1843': 160000,\n",
              " '4295': 30000,\n",
              " '4994': 110000,\n",
              " '3626': 140000,\n",
              " '1728': 185000,\n",
              " '4846': 125000,\n",
              " '854': 195000,\n",
              " '339': 60000,\n",
              " '2708': 120000,\n",
              " '3555': 130000,\n",
              " '4987': 155000,\n",
              " '2716': 75000,\n",
              " '4605': 35000,\n",
              " '3536': 140000,\n",
              " '4707': 70000,\n",
              " '3728': 35000,\n",
              " '43': 55000,\n",
              " '3461': 32000,\n",
              " '3704': 85000,\n",
              " '4941': 85000,\n",
              " '6439': 55000,\n",
              " '1469': 170000,\n",
              " '4892': 140000,\n",
              " '847': 180000,\n",
              " '5918': 120000,\n",
              " '2053': 190000,\n",
              " '3018': 163780,\n",
              " '5151': 120000,\n",
              " '387': 115000,\n",
              " '2540': 185000,\n",
              " '4518': 100000,\n",
              " '6128': 60000,\n",
              " '779': 160000,\n",
              " '5926': 80000,\n",
              " '1992': 185000,\n",
              " '1662': 195000,\n",
              " '1986': 130000,\n",
              " '1832': 160000,\n",
              " '3771': 40000,\n",
              " '6687': 70000,\n",
              " '5078': 140000,\n",
              " '3204': 180000,\n",
              " '5409': 130000,\n",
              " '2181': 185000,\n",
              " '4416': 26000,\n",
              " '3120': 191239,\n",
              " '6406': 100000,\n",
              " '4443': 36000,\n",
              " '3547': 120000,\n",
              " '1726': 139398,\n",
              " '6070': 90000,\n",
              " '3937': 150000,\n",
              " '5928': 55000,\n",
              " '3030': 122970,\n",
              " '808': 195000,\n",
              " '2759': 120000,\n",
              " '1128': 195000,\n",
              " '338': 150000,\n",
              " '167': 160000,\n",
              " '866': 130000,\n",
              " '4672': 55000,\n",
              " '5687': 25000,\n",
              " '6285': 80000,\n",
              " '2022': 130000,\n",
              " '784': 90000,\n",
              " '2698': 160000,\n",
              " '2412': 106492,\n",
              " '176': 160000,\n",
              " '5058': 160000,\n",
              " '6275': 50000,\n",
              " '4419': 150000,\n",
              " '2718': 100000,\n",
              " '5218': 100000,\n",
              " '446': 185000,\n",
              " '1236': 200000,\n",
              " '3439': 32000,\n",
              " '2874': 146075,\n",
              " '6134': 180000,\n",
              " '6027': 200000,\n",
              " '4915': 85000,\n",
              " '1946': 115000,\n",
              " '2615': 138662,\n",
              " '1526': 70000,\n",
              " '1107': 130000,\n",
              " '1084': 180000,\n",
              " '2408': 180857,\n",
              " '161': 180000,\n",
              " '6342': 45000,\n",
              " '5805': 25000,\n",
              " '5676': 55000,\n",
              " '4868': 72000,\n",
              " '4209': 26000,\n",
              " '2534': 69032,\n",
              " '6569': 140000,\n",
              " '5677': 140000,\n",
              " '2685': 55000,\n",
              " '237': 165000,\n",
              " '4342': 85000,\n",
              " '5558': 135000,\n",
              " '3102': 127045,\n",
              " '2323': 50000,\n",
              " '5210': 80000,\n",
              " '2539': 126520,\n",
              " '2631': 150000,\n",
              " '4054': 26000,\n",
              " '717': 195000,\n",
              " '5241': 50000,\n",
              " '1372': 95000,\n",
              " '3711': 65000,\n",
              " '1050': 170000,\n",
              " '2709': 70000,\n",
              " '3861': 50000,\n",
              " '5563': 160000,\n",
              " '3852': 180000,\n",
              " '680': 100000,\n",
              " '1082': 160000,\n",
              " '409': 100000,\n",
              " '2190': 140000,\n",
              " '3404': 65000,\n",
              " '6488': 55000,\n",
              " '4969': 170000,\n",
              " '878': 190000,\n",
              " '3267': 210000,\n",
              " '1553': 190000,\n",
              " '6375': 130000,\n",
              " '6108': 130000,\n",
              " '4859': 145000,\n",
              " '4547': 55000,\n",
              " '5892': 40000,\n",
              " '4925': 65000,\n",
              " '3402': 32000,\n",
              " '5785': 170000,\n",
              " '2768': 200000,\n",
              " '209': 40000,\n",
              " '4520': 70000,\n",
              " '4783': 58000,\n",
              " '4498': 219000,\n",
              " '4512': 58000,\n",
              " '6513': 140000,\n",
              " '6327': 75000,\n",
              " '4033': 80000,\n",
              " '1244': 195000,\n",
              " '4433': 60000,\n",
              " '1408': 195000,\n",
              " '4568': 75000,\n",
              " '378': 110000,\n",
              " '2602': 82944,\n",
              " '3673': 60000,\n",
              " '1737': 110000,\n",
              " '2243': 160000,\n",
              " '4328': 131000,\n",
              " '4931': 140000,\n",
              " '1980': 115000,\n",
              " '577': 185000,\n",
              " '6045': 120000,\n",
              " '6223': 170000,\n",
              " '2742': 120000,\n",
              " '6254': 25000,\n",
              " '4639': 26000,\n",
              " '351': 50000,\n",
              " '2308': 60000,\n",
              " '3073': 150000,\n",
              " '6199': 195000,\n",
              " '359': 169453,\n",
              " '4310': 26000,\n",
              " '3286': 45000,\n",
              " '4563': 58000,\n",
              " '6614': 75000,\n",
              " '6501': 80000,\n",
              " '3776': 65000,\n",
              " '2469': 185119,\n",
              " '2526': 140010,\n",
              " '6116': 25000,\n",
              " '3101': 110000,\n",
              " '2642': 150000,\n",
              " '672': 190000,\n",
              " '333': 60000,\n",
              " '4018': 30000,\n",
              " '229': 180000,\n",
              " '1017': 95000,\n",
              " '5523': 120000,\n",
              " '5007': 130000,\n",
              " '20': 80000,\n",
              " '3374': 160000,\n",
              " '367': 130000,\n",
              " '2794': 161621,\n",
              " '6432': 35000,\n",
              " '5153': 150000,\n",
              " '2106': 185000,\n",
              " '5287': 55000,\n",
              " '6210': 65000,\n",
              " '4040': 110000,\n",
              " '1954': 200000,\n",
              " '1146': 180000,\n",
              " '4998': 95000,\n",
              " '4405': 92000,\n",
              " '1506': 80000,\n",
              " '3913': 75000,\n",
              " '729': 160000,\n",
              " '4634': 45000,\n",
              " '2182': 90000,\n",
              " '1032': 160000,\n",
              " '2850': 120177,\n",
              " '117': 200000,\n",
              " '806': 110000,\n",
              " '4850': 31000,\n",
              " '5663': 140000,\n",
              " '3247': 160000,\n",
              " '5283': 65000,\n",
              " '589': 160000,\n",
              " '3454': 70000,\n",
              " '2996': 178684,\n",
              " '2712': 50000,\n",
              " '2675': 70000,\n",
              " '385': 130000,\n",
              " '6562': 50000,\n",
              " '6222': 90000,\n",
              " '5965': 140000,\n",
              " '2512': 91062,\n",
              " '1658': 165000,\n",
              " '6040': 185000,\n",
              " '424': 145000,\n",
              " '6368': 90000,\n",
              " '5910': 70000,\n",
              " '873': 185000,\n",
              " '4863': 57000,\n",
              " '298': 40000,\n",
              " '1957': 115000,\n",
              " '1797': 185000,\n",
              " '5847': 25000,\n",
              " '1120': 185000,\n",
              " '3355': 120000,\n",
              " '3311': 170000,\n",
              " '1828': 150000,\n",
              " '6246': 130000,\n",
              " '3829': 85000,\n",
              " '934': 195000,\n",
              " '437': 140000,\n",
              " '6270': 130000,\n",
              " '3419': 35000,\n",
              " '6240': 25000,\n",
              " '1027': 95000,\n",
              " '2532': 170000,\n",
              " '3931': 65000,\n",
              " '802': 190000,\n",
              " '4245': 113000,\n",
              " '65': 95000,\n",
              " '1143': 130000,\n",
              " '1211': 200000,\n",
              " '3914': 30000,\n",
              " '243': 160000,\n",
              " '846': 130000,\n",
              " '1650': 90000,\n",
              " '6635': 100000,\n",
              " '4222': 160000,\n",
              " '697': 170000,\n",
              " '5227': 150000,\n",
              " '6587': 120000,\n",
              " '5929': 90000,\n",
              " '920': 90000,\n",
              " '2600': 191267,\n",
              " '1941': 185000,\n",
              " '2692': 65000,\n",
              " '897': 180000,\n",
              " '2913': 161621,\n",
              " '5395': 55000,\n",
              " '3020': 92438,\n",
              " '5820': 190000,\n",
              " '4013': 65000,\n",
              " '467': 140000,\n",
              " '1791': 55000,\n",
              " '4815': 48000,\n",
              " '2158': 130000,\n",
              " '1683': 180000,\n",
              " '5034': 120000,\n",
              " '6622': 35000,\n",
              " '961': 95000,\n",
              " '3344': 55000,\n",
              " '4883': 155000,\n",
              " '941': 160000,\n",
              " '4694': 45000,\n",
              " '6109': 80000,\n",
              " '678': 190000,\n",
              " '5106': 95000,\n",
              " '5331': 120000,\n",
              " '1229': 140000,\n",
              " '682': 160000,\n",
              " '5133': 25000,\n",
              " '5200': 50000,\n",
              " '93': 180857,\n",
              " '1931': 65000,\n",
              " '1549': 195000,\n",
              " '2401': 188441,\n",
              " '1547': 155000,\n",
              " '5779': 200000,\n",
              " '2280': 170000,\n",
              " '5875': 25000,\n",
              " '5161': 25000,\n",
              " '1058': 140000,\n",
              " '5760': 152500,\n",
              " '5618': 90000,\n",
              " '22': 40000,\n",
              " '2780': 163780,\n",
              " '17': 185000,\n",
              " '1354': 140000,\n",
              " '2997': 140000,\n",
              " '3847': 140000,\n",
              " '120': 112500,\n",
              " '5936': 55000,\n",
              " '2741': 60000,\n",
              " '473': 185000,\n",
              " '293': 75000,\n",
              " '1135': 130000,\n",
              " '4668': 140000,\n",
              " '5506': 70000,\n",
              " '3271': 60000,\n",
              " '1709': 185000,\n",
              " '1820': 70000,\n",
              " '284': 95000,\n",
              " '1995': 82683,\n",
              " '2021': 185000,\n",
              " '5913': 170000,\n",
              " '3897': 140000,\n",
              " '5525': 190000,\n",
              " '737': 170000,\n",
              " '1180': 190000,\n",
              " '208': 169453,\n",
              " '1465': 170000,\n",
              " '4035': 75000,\n",
              " '5567': 180000,\n",
              " '3249': 200000,\n",
              " '3268': 140000,\n",
              " '1113': 130000,\n",
              " '1900': 161621,\n",
              " '5129': 50000,\n",
              " '5035': 105000,\n",
              " '6519': 170000,\n",
              " '5012': 170000,\n",
              " '4722': 55000,\n",
              " '2428': 152168,\n",
              " '3807': 180000,\n",
              " '3946': 65000,\n",
              " '3745': 75000,\n",
              " '3066': 122354,\n",
              " '1936': 105000,\n",
              " '2116': 80000,\n",
              " '5997': 170000,\n",
              " '1210': 70000,\n",
              " '1377': 195000,\n",
              " '3243': 140000,\n",
              " '1063': 130000,\n",
              " '1334': 140000,\n",
              " '2875': 150729,\n",
              " '4982': 170000,\n",
              " '2157': 185000,\n",
              " '4426': 25000,\n",
              " '6579': 35000,\n",
              " '5342': 100000,\n",
              " '798': 195000,\n",
              " '3372': 110000,\n",
              " '2180': 115000,\n",
              " '2089': 185000,\n",
              " '4381': 240000,\n",
              " '5887': 80000,\n",
              " '1108': 190000,\n",
              " '5264': 55000,\n",
              " '2898': 103223,\n",
              " '6288': 40000,\n",
              " '2025': 100000,\n",
              " '966': 190000,\n",
              " '1934': 185000,\n",
              " '4202': 168000,\n",
              " '5757': 122500,\n",
              " '1790': 180000,\n",
              " '1533': 160000,\n",
              " '811': 190000,\n",
              " '1126': 130000,\n",
              " '3580': 32000,\n",
              " '4177': 160000,\n",
              " '2563': 186794,\n",
              " '5880': 122500,\n",
              " '4476': 25000,\n",
              " '429': 140000,\n",
              " '5229': 120000,\n",
              " '4005': 120000,\n",
              " '2906': 190273,\n",
              " '1883': 150000,\n",
              " '1206': 55000,\n",
              " '6654': 55000,\n",
              " '5797': 130000,\n",
              " '719': 150000,\n",
              " '707': 100000,\n",
              " '2': 150000,\n",
              " '5762': 90000,\n",
              " '4216': 26000,\n",
              " '5594': 25000,\n",
              " '4345': 49000,\n",
              " '4115': 110000,\n",
              " '5555': 55000,\n",
              " '1759': 180000,\n",
              " '4285': 49000,\n",
              " '5338': 185000,\n",
              " '2449': 182392,\n",
              " '3919': 130000,\n",
              " '4951': 65000,\n",
              " '6595': 131000,\n",
              " '658': 195000,\n",
              " '2633': 170000,\n",
              " '5436': 65000,\n",
              " '3543': 135000,\n",
              " '6515': 80000,\n",
              " '1967': 140000,\n",
              " '5124': 60000,\n",
              " '5245': 25000,\n",
              " '6434': 100000,\n",
              " '412': 130000,\n",
              " '5620': 60000,\n",
              " '3795': 75000,\n",
              " '3138': 110000,\n",
              " '1537': 80000,\n",
              " '4764': 135000,\n",
              " '3783': 60000,\n",
              " '2393': 75072,\n",
              " '4238': 99000,\n",
              " '1064': 180000,\n",
              " '244': 65000,\n",
              " '37': 140000,\n",
              " '5603': 60000,\n",
              " '3526': 38000,\n",
              " '3258': 70000,\n",
              " '356': 190000,\n",
              " '3540': 70000,\n",
              " '842': 140000,\n",
              " '2115': 160000,\n",
              " '2253': 55000,\n",
              " '2497': 115920,\n",
              " '223': 125000,\n",
              " '1498': 150000,\n",
              " '3997': 150000,\n",
              " '2224': 185000,\n",
              " '5056': 155000,\n",
              " '3903': 35000,\n",
              " '5295': 160000,\n",
              " '6701': 55000,\n",
              " '1516': 80000,\n",
              " '5737': 170000,\n",
              " '684': 130000,\n",
              " '3906': 30000,\n",
              " '3198': 200000,\n",
              " '4985': 95000,\n",
              " '3115': 119918,\n",
              " '4447': 204000,\n",
              " '6026': 185000,\n",
              " '1040': 170000,\n",
              " '3624': 65000,\n",
              " '3182': 100000,\n",
              " '2278': 100000,\n",
              " '560': 130000,\n",
              " '2133': 80000,\n",
              " '4988': 25000,\n",
              " '1470': 55000,\n",
              " '1491': 195000,\n",
              " '4641': 50000,\n",
              " '575': 140000,\n",
              " '1625': 170000,\n",
              " '632': 190000,\n",
              " '4531': 95000,\n",
              " '4383': 151835,\n",
              " '6462': 47898,\n",
              " '2217': 185000,\n",
              " '491': 145000,\n",
              " '4084': 26000,\n",
              " '2687': 90000,\n",
              " '4755': 48000,\n",
              " '1488': 155000,\n",
              " '877': 180000,\n",
              " '4714': 45000,\n",
              " '6565': 35000,\n",
              " '768': 195000,\n",
              " '381': 170000,\n",
              " '2383': 140010,\n",
              " ...}"
            ]
          },
          "metadata": {},
          "execution_count": 69
        }
      ]
    },
    {
      "cell_type": "markdown",
      "source": [
        "## **Final result** dictionary\n",
        "{\"key\" : \"value\"}"
      ],
      "metadata": {
        "id": "woH9pLq_16rJ"
      }
    },
    {
      "cell_type": "code",
      "source": [
        "import json\n",
        "with open(\"/content/gdrive/MyDrive/Colab Notebooks/Naya DS course/project3_regression/results.json\", \"w\") as fp:\n",
        "    json.dump(results_test_dict, fp)  # encode dict into JSON\n",
        "print(\"Done writing dict into .json file\")"
      ],
      "metadata": {
        "colab": {
          "base_uri": "https://localhost:8080/"
        },
        "id": "SY61GIB_Ga4q",
        "outputId": "0ed3b075-bebf-472f-d09f-31ecedbe07f3"
      },
      "execution_count": 70,
      "outputs": [
        {
          "output_type": "stream",
          "name": "stdout",
          "text": [
            "Done writing dict into .json file\n"
          ]
        }
      ]
    }
  ]
}