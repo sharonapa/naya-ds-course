{
  "nbformat": 4,
  "nbformat_minor": 0,
  "metadata": {
    "colab": {
      "provenance": [],
      "include_colab_link": true
    },
    "kernelspec": {
      "name": "python3",
      "display_name": "Python 3"
    },
    "language_info": {
      "name": "python"
    }
  },
  "cells": [
    {
      "cell_type": "markdown",
      "metadata": {
        "id": "view-in-github",
        "colab_type": "text"
      },
      "source": [
        "<a href=\"https://colab.research.google.com/github/sharonapa/naya-ds-course/blob/main/reg_project.ipynb\" target=\"_parent\"><img src=\"https://colab.research.google.com/assets/colab-badge.svg\" alt=\"Open In Colab\"/></a>"
      ]
    },
    {
      "cell_type": "markdown",
      "source": [
        "# imports"
      ],
      "metadata": {
        "id": "_1xK3H9yyhup"
      }
    },
    {
      "cell_type": "code",
      "execution_count": 1,
      "metadata": {
        "id": "WG43nqDWltWs"
      },
      "outputs": [],
      "source": [
        "import sklearn as sk\n",
        "import pandas as pd\n",
        "from sklearn.metrics import mean_squared_error\n",
        "from sklearn.impute import SimpleImputer\n",
        "import seaborn as sns\n",
        "#k-nearest, regression-trees, linear regression\n",
        "from sklearn.neighbors import KNeighborsClassifier\n",
        "from sklearn.tree import DecisionTreeRegressor\n",
        "from sklearn.linear_model import LinearRegression\n",
        "from sklearn.model_selection import train_test_split\n",
        "import numpy as np\n",
        "from sklearn.preprocessing import OneHotEncoder\n",
        "from sklearn.preprocessing import MinMaxScaler"
      ]
    },
    {
      "cell_type": "code",
      "source": [
        "from google.colab import drive\n",
        "drive.mount('/content/gdrive')"
      ],
      "metadata": {
        "colab": {
          "base_uri": "https://localhost:8080/"
        },
        "id": "1Df_rYEuVmEU",
        "outputId": "35badbe2-1b61-46a6-c205-9e48b83d820a"
      },
      "execution_count": 2,
      "outputs": [
        {
          "output_type": "stream",
          "name": "stdout",
          "text": [
            "Drive already mounted at /content/gdrive; to attempt to forcibly remount, call drive.mount(\"/content/gdrive\", force_remount=True).\n"
          ]
        }
      ]
    },
    {
      "cell_type": "markdown",
      "source": [
        "# Read data"
      ],
      "metadata": {
        "id": "BVgtNVdUlidH"
      }
    },
    {
      "cell_type": "code",
      "source": [
        "X_TRAIN_PATH = '/content/gdrive/MyDrive/Colab Notebooks/data/X_train.csv'\n",
        "Y_TRAIN_PATH = '/content/gdrive/MyDrive/Colab Notebooks/data/y_train.csv'\n",
        "X_TEST_PATH = '/content/gdrive/MyDrive/Colab Notebooks/data/X_test.csv'"
      ],
      "metadata": {
        "id": "OBeBZ0KnVvam"
      },
      "execution_count": 3,
      "outputs": []
    },
    {
      "cell_type": "markdown",
      "source": [
        "TRAIN"
      ],
      "metadata": {
        "id": "yjE-nv_IiUlp"
      }
    },
    {
      "cell_type": "code",
      "source": [
        "df_x_train_skills = pd.read_csv(X_TRAIN_PATH)\n",
        "df_x_train_skills = df_x_train_skills[['Age', 'Gender', 'Education Level','Job Title', 'Years of Experience', 'Country', 'Race', 'height','weight', 'id', 'professionalism']]\n",
        "df_x_train_skills.set_index('id',drop=True,inplace=True)\n",
        "df_x_train_skills.head()"
      ],
      "metadata": {
        "colab": {
          "base_uri": "https://localhost:8080/",
          "height": 238
        },
        "id": "w_r2M1MRq_o0",
        "outputId": "6e5c1920-1689-48e4-d326-f821907b2aa6"
      },
      "execution_count": 4,
      "outputs": [
        {
          "output_type": "execute_result",
          "data": {
            "text/plain": [
              "       Age Gender  Education Level              Job Title  \\\n",
              "id                                                          \n",
              "2477  52.0      M  bachelor's|degr      back|end|develope   \n",
              "76    52.0      F         bachelor      operations|manage   \n",
              "64    27.0      M         bachelor       junior|accountan   \n",
              "924   32.0      M         bachelor            data|analys   \n",
              "242   39.0      F         bachelor  senior|product|manage   \n",
              "\n",
              "      Years of Experience   Country        Race    height     weight  \\\n",
              "id                                                                     \n",
              "2477                 24.0  australi       Asian  1.800316  95.021957   \n",
              "76                   23.0        us       White  2.451414  87.456039   \n",
              "64                    2.0  australi  Australian  1.917509  56.997108   \n",
              "924                  11.0         u       Welsh  2.160562  61.403169   \n",
              "242                  11.0      chin      Korean  1.794105  72.049210   \n",
              "\n",
              "      professionalism  \n",
              "id                     \n",
              "2477           1150.0  \n",
              "76             1100.0  \n",
              "64               26.0  \n",
              "924             279.0  \n",
              "242             380.0  "
            ],
            "text/html": [
              "\n",
              "\n",
              "  <div id=\"df-27906eab-bc00-443e-b683-e83d92fbda1a\">\n",
              "    <div class=\"colab-df-container\">\n",
              "      <div>\n",
              "<style scoped>\n",
              "    .dataframe tbody tr th:only-of-type {\n",
              "        vertical-align: middle;\n",
              "    }\n",
              "\n",
              "    .dataframe tbody tr th {\n",
              "        vertical-align: top;\n",
              "    }\n",
              "\n",
              "    .dataframe thead th {\n",
              "        text-align: right;\n",
              "    }\n",
              "</style>\n",
              "<table border=\"1\" class=\"dataframe\">\n",
              "  <thead>\n",
              "    <tr style=\"text-align: right;\">\n",
              "      <th></th>\n",
              "      <th>Age</th>\n",
              "      <th>Gender</th>\n",
              "      <th>Education Level</th>\n",
              "      <th>Job Title</th>\n",
              "      <th>Years of Experience</th>\n",
              "      <th>Country</th>\n",
              "      <th>Race</th>\n",
              "      <th>height</th>\n",
              "      <th>weight</th>\n",
              "      <th>professionalism</th>\n",
              "    </tr>\n",
              "    <tr>\n",
              "      <th>id</th>\n",
              "      <th></th>\n",
              "      <th></th>\n",
              "      <th></th>\n",
              "      <th></th>\n",
              "      <th></th>\n",
              "      <th></th>\n",
              "      <th></th>\n",
              "      <th></th>\n",
              "      <th></th>\n",
              "      <th></th>\n",
              "    </tr>\n",
              "  </thead>\n",
              "  <tbody>\n",
              "    <tr>\n",
              "      <th>2477</th>\n",
              "      <td>52.0</td>\n",
              "      <td>M</td>\n",
              "      <td>bachelor's|degr</td>\n",
              "      <td>back|end|develope</td>\n",
              "      <td>24.0</td>\n",
              "      <td>australi</td>\n",
              "      <td>Asian</td>\n",
              "      <td>1.800316</td>\n",
              "      <td>95.021957</td>\n",
              "      <td>1150.0</td>\n",
              "    </tr>\n",
              "    <tr>\n",
              "      <th>76</th>\n",
              "      <td>52.0</td>\n",
              "      <td>F</td>\n",
              "      <td>bachelor</td>\n",
              "      <td>operations|manage</td>\n",
              "      <td>23.0</td>\n",
              "      <td>us</td>\n",
              "      <td>White</td>\n",
              "      <td>2.451414</td>\n",
              "      <td>87.456039</td>\n",
              "      <td>1100.0</td>\n",
              "    </tr>\n",
              "    <tr>\n",
              "      <th>64</th>\n",
              "      <td>27.0</td>\n",
              "      <td>M</td>\n",
              "      <td>bachelor</td>\n",
              "      <td>junior|accountan</td>\n",
              "      <td>2.0</td>\n",
              "      <td>australi</td>\n",
              "      <td>Australian</td>\n",
              "      <td>1.917509</td>\n",
              "      <td>56.997108</td>\n",
              "      <td>26.0</td>\n",
              "    </tr>\n",
              "    <tr>\n",
              "      <th>924</th>\n",
              "      <td>32.0</td>\n",
              "      <td>M</td>\n",
              "      <td>bachelor</td>\n",
              "      <td>data|analys</td>\n",
              "      <td>11.0</td>\n",
              "      <td>u</td>\n",
              "      <td>Welsh</td>\n",
              "      <td>2.160562</td>\n",
              "      <td>61.403169</td>\n",
              "      <td>279.0</td>\n",
              "    </tr>\n",
              "    <tr>\n",
              "      <th>242</th>\n",
              "      <td>39.0</td>\n",
              "      <td>F</td>\n",
              "      <td>bachelor</td>\n",
              "      <td>senior|product|manage</td>\n",
              "      <td>11.0</td>\n",
              "      <td>chin</td>\n",
              "      <td>Korean</td>\n",
              "      <td>1.794105</td>\n",
              "      <td>72.049210</td>\n",
              "      <td>380.0</td>\n",
              "    </tr>\n",
              "  </tbody>\n",
              "</table>\n",
              "</div>\n",
              "      <button class=\"colab-df-convert\" onclick=\"convertToInteractive('df-27906eab-bc00-443e-b683-e83d92fbda1a')\"\n",
              "              title=\"Convert this dataframe to an interactive table.\"\n",
              "              style=\"display:none;\">\n",
              "\n",
              "  <svg xmlns=\"http://www.w3.org/2000/svg\" height=\"24px\"viewBox=\"0 0 24 24\"\n",
              "       width=\"24px\">\n",
              "    <path d=\"M0 0h24v24H0V0z\" fill=\"none\"/>\n",
              "    <path d=\"M18.56 5.44l.94 2.06.94-2.06 2.06-.94-2.06-.94-.94-2.06-.94 2.06-2.06.94zm-11 1L8.5 8.5l.94-2.06 2.06-.94-2.06-.94L8.5 2.5l-.94 2.06-2.06.94zm10 10l.94 2.06.94-2.06 2.06-.94-2.06-.94-.94-2.06-.94 2.06-2.06.94z\"/><path d=\"M17.41 7.96l-1.37-1.37c-.4-.4-.92-.59-1.43-.59-.52 0-1.04.2-1.43.59L10.3 9.45l-7.72 7.72c-.78.78-.78 2.05 0 2.83L4 21.41c.39.39.9.59 1.41.59.51 0 1.02-.2 1.41-.59l7.78-7.78 2.81-2.81c.8-.78.8-2.07 0-2.86zM5.41 20L4 18.59l7.72-7.72 1.47 1.35L5.41 20z\"/>\n",
              "  </svg>\n",
              "      </button>\n",
              "\n",
              "\n",
              "\n",
              "    <div id=\"df-2feb24fb-7b90-4671-b1cc-84c5d1dd34b7\">\n",
              "      <button class=\"colab-df-quickchart\" onclick=\"quickchart('df-2feb24fb-7b90-4671-b1cc-84c5d1dd34b7')\"\n",
              "              title=\"Suggest charts.\"\n",
              "              style=\"display:none;\">\n",
              "\n",
              "<svg xmlns=\"http://www.w3.org/2000/svg\" height=\"24px\"viewBox=\"0 0 24 24\"\n",
              "     width=\"24px\">\n",
              "    <g>\n",
              "        <path d=\"M19 3H5c-1.1 0-2 .9-2 2v14c0 1.1.9 2 2 2h14c1.1 0 2-.9 2-2V5c0-1.1-.9-2-2-2zM9 17H7v-7h2v7zm4 0h-2V7h2v10zm4 0h-2v-4h2v4z\"/>\n",
              "    </g>\n",
              "</svg>\n",
              "      </button>\n",
              "    </div>\n",
              "\n",
              "<style>\n",
              "  .colab-df-quickchart {\n",
              "    background-color: #E8F0FE;\n",
              "    border: none;\n",
              "    border-radius: 50%;\n",
              "    cursor: pointer;\n",
              "    display: none;\n",
              "    fill: #1967D2;\n",
              "    height: 32px;\n",
              "    padding: 0 0 0 0;\n",
              "    width: 32px;\n",
              "  }\n",
              "\n",
              "  .colab-df-quickchart:hover {\n",
              "    background-color: #E2EBFA;\n",
              "    box-shadow: 0px 1px 2px rgba(60, 64, 67, 0.3), 0px 1px 3px 1px rgba(60, 64, 67, 0.15);\n",
              "    fill: #174EA6;\n",
              "  }\n",
              "\n",
              "  [theme=dark] .colab-df-quickchart {\n",
              "    background-color: #3B4455;\n",
              "    fill: #D2E3FC;\n",
              "  }\n",
              "\n",
              "  [theme=dark] .colab-df-quickchart:hover {\n",
              "    background-color: #434B5C;\n",
              "    box-shadow: 0px 1px 3px 1px rgba(0, 0, 0, 0.15);\n",
              "    filter: drop-shadow(0px 1px 2px rgba(0, 0, 0, 0.3));\n",
              "    fill: #FFFFFF;\n",
              "  }\n",
              "</style>\n",
              "\n",
              "    <script>\n",
              "      async function quickchart(key) {\n",
              "        const containerElement = document.querySelector('#' + key);\n",
              "        const charts = await google.colab.kernel.invokeFunction(\n",
              "            'suggestCharts', [key], {});\n",
              "      }\n",
              "    </script>\n",
              "\n",
              "      <script>\n",
              "\n",
              "function displayQuickchartButton(domScope) {\n",
              "  let quickchartButtonEl =\n",
              "    domScope.querySelector('#df-2feb24fb-7b90-4671-b1cc-84c5d1dd34b7 button.colab-df-quickchart');\n",
              "  quickchartButtonEl.style.display =\n",
              "    google.colab.kernel.accessAllowed ? 'block' : 'none';\n",
              "}\n",
              "\n",
              "        displayQuickchartButton(document);\n",
              "      </script>\n",
              "      <style>\n",
              "    .colab-df-container {\n",
              "      display:flex;\n",
              "      flex-wrap:wrap;\n",
              "      gap: 12px;\n",
              "    }\n",
              "\n",
              "    .colab-df-convert {\n",
              "      background-color: #E8F0FE;\n",
              "      border: none;\n",
              "      border-radius: 50%;\n",
              "      cursor: pointer;\n",
              "      display: none;\n",
              "      fill: #1967D2;\n",
              "      height: 32px;\n",
              "      padding: 0 0 0 0;\n",
              "      width: 32px;\n",
              "    }\n",
              "\n",
              "    .colab-df-convert:hover {\n",
              "      background-color: #E2EBFA;\n",
              "      box-shadow: 0px 1px 2px rgba(60, 64, 67, 0.3), 0px 1px 3px 1px rgba(60, 64, 67, 0.15);\n",
              "      fill: #174EA6;\n",
              "    }\n",
              "\n",
              "    [theme=dark] .colab-df-convert {\n",
              "      background-color: #3B4455;\n",
              "      fill: #D2E3FC;\n",
              "    }\n",
              "\n",
              "    [theme=dark] .colab-df-convert:hover {\n",
              "      background-color: #434B5C;\n",
              "      box-shadow: 0px 1px 3px 1px rgba(0, 0, 0, 0.15);\n",
              "      filter: drop-shadow(0px 1px 2px rgba(0, 0, 0, 0.3));\n",
              "      fill: #FFFFFF;\n",
              "    }\n",
              "  </style>\n",
              "\n",
              "      <script>\n",
              "        const buttonEl =\n",
              "          document.querySelector('#df-27906eab-bc00-443e-b683-e83d92fbda1a button.colab-df-convert');\n",
              "        buttonEl.style.display =\n",
              "          google.colab.kernel.accessAllowed ? 'block' : 'none';\n",
              "\n",
              "        async function convertToInteractive(key) {\n",
              "          const element = document.querySelector('#df-27906eab-bc00-443e-b683-e83d92fbda1a');\n",
              "          const dataTable =\n",
              "            await google.colab.kernel.invokeFunction('convertToInteractive',\n",
              "                                                     [key], {});\n",
              "          if (!dataTable) return;\n",
              "\n",
              "          const docLinkHtml = 'Like what you see? Visit the ' +\n",
              "            '<a target=\"_blank\" href=https://colab.research.google.com/notebooks/data_table.ipynb>data table notebook</a>'\n",
              "            + ' to learn more about interactive tables.';\n",
              "          element.innerHTML = '';\n",
              "          dataTable['output_type'] = 'display_data';\n",
              "          await google.colab.output.renderOutput(dataTable, element);\n",
              "          const docLink = document.createElement('div');\n",
              "          docLink.innerHTML = docLinkHtml;\n",
              "          element.appendChild(docLink);\n",
              "        }\n",
              "      </script>\n",
              "    </div>\n",
              "  </div>\n"
            ]
          },
          "metadata": {},
          "execution_count": 4
        }
      ]
    },
    {
      "cell_type": "code",
      "source": [
        "df_x_train_skills.info()"
      ],
      "metadata": {
        "colab": {
          "base_uri": "https://localhost:8080/"
        },
        "id": "k0NTSyYN1Ulm",
        "outputId": "966785f0-6a61-4b8f-890b-94f0770a5c44"
      },
      "execution_count": 5,
      "outputs": [
        {
          "output_type": "stream",
          "name": "stdout",
          "text": [
            "<class 'pandas.core.frame.DataFrame'>\n",
            "Int64Index: 5363 entries, 2477 to 3572\n",
            "Data columns (total 10 columns):\n",
            " #   Column               Non-Null Count  Dtype  \n",
            "---  ------               --------------  -----  \n",
            " 0   Age                  5359 non-null   float64\n",
            " 1   Gender               5359 non-null   object \n",
            " 2   Education Level      5360 non-null   object \n",
            " 3   Job Title            5361 non-null   object \n",
            " 4   Years of Experience  5360 non-null   float64\n",
            " 5   Country              5363 non-null   object \n",
            " 6   Race                 5363 non-null   object \n",
            " 7   height               5363 non-null   float64\n",
            " 8   weight               5361 non-null   float64\n",
            " 9   professionalism      5360 non-null   float64\n",
            "dtypes: float64(5), object(5)\n",
            "memory usage: 460.9+ KB\n"
          ]
        }
      ]
    },
    {
      "cell_type": "code",
      "source": [
        "df_y_train_skills = pd.read_csv(Y_TRAIN_PATH,index_col=[0])\n",
        "df_y_train_skills.head()"
      ],
      "metadata": {
        "colab": {
          "base_uri": "https://localhost:8080/",
          "height": 206
        },
        "id": "yb4FKmKevIg_",
        "outputId": "f46459d3-d3ba-4499-f3a6-aa5a6b4decfd"
      },
      "execution_count": 6,
      "outputs": [
        {
          "output_type": "execute_result",
          "data": {
            "text/plain": [
              "        Salary\n",
              "2477  175966.0\n",
              "76    160000.0\n",
              "64     35000.0\n",
              "924   195000.0\n",
              "242   120000.0"
            ],
            "text/html": [
              "\n",
              "\n",
              "  <div id=\"df-b01764e1-1cda-41b2-8355-d7c5905c936d\">\n",
              "    <div class=\"colab-df-container\">\n",
              "      <div>\n",
              "<style scoped>\n",
              "    .dataframe tbody tr th:only-of-type {\n",
              "        vertical-align: middle;\n",
              "    }\n",
              "\n",
              "    .dataframe tbody tr th {\n",
              "        vertical-align: top;\n",
              "    }\n",
              "\n",
              "    .dataframe thead th {\n",
              "        text-align: right;\n",
              "    }\n",
              "</style>\n",
              "<table border=\"1\" class=\"dataframe\">\n",
              "  <thead>\n",
              "    <tr style=\"text-align: right;\">\n",
              "      <th></th>\n",
              "      <th>Salary</th>\n",
              "    </tr>\n",
              "  </thead>\n",
              "  <tbody>\n",
              "    <tr>\n",
              "      <th>2477</th>\n",
              "      <td>175966.0</td>\n",
              "    </tr>\n",
              "    <tr>\n",
              "      <th>76</th>\n",
              "      <td>160000.0</td>\n",
              "    </tr>\n",
              "    <tr>\n",
              "      <th>64</th>\n",
              "      <td>35000.0</td>\n",
              "    </tr>\n",
              "    <tr>\n",
              "      <th>924</th>\n",
              "      <td>195000.0</td>\n",
              "    </tr>\n",
              "    <tr>\n",
              "      <th>242</th>\n",
              "      <td>120000.0</td>\n",
              "    </tr>\n",
              "  </tbody>\n",
              "</table>\n",
              "</div>\n",
              "      <button class=\"colab-df-convert\" onclick=\"convertToInteractive('df-b01764e1-1cda-41b2-8355-d7c5905c936d')\"\n",
              "              title=\"Convert this dataframe to an interactive table.\"\n",
              "              style=\"display:none;\">\n",
              "\n",
              "  <svg xmlns=\"http://www.w3.org/2000/svg\" height=\"24px\"viewBox=\"0 0 24 24\"\n",
              "       width=\"24px\">\n",
              "    <path d=\"M0 0h24v24H0V0z\" fill=\"none\"/>\n",
              "    <path d=\"M18.56 5.44l.94 2.06.94-2.06 2.06-.94-2.06-.94-.94-2.06-.94 2.06-2.06.94zm-11 1L8.5 8.5l.94-2.06 2.06-.94-2.06-.94L8.5 2.5l-.94 2.06-2.06.94zm10 10l.94 2.06.94-2.06 2.06-.94-2.06-.94-.94-2.06-.94 2.06-2.06.94z\"/><path d=\"M17.41 7.96l-1.37-1.37c-.4-.4-.92-.59-1.43-.59-.52 0-1.04.2-1.43.59L10.3 9.45l-7.72 7.72c-.78.78-.78 2.05 0 2.83L4 21.41c.39.39.9.59 1.41.59.51 0 1.02-.2 1.41-.59l7.78-7.78 2.81-2.81c.8-.78.8-2.07 0-2.86zM5.41 20L4 18.59l7.72-7.72 1.47 1.35L5.41 20z\"/>\n",
              "  </svg>\n",
              "      </button>\n",
              "\n",
              "\n",
              "\n",
              "    <div id=\"df-5ff425f2-8265-4bc6-8281-683ba77325ed\">\n",
              "      <button class=\"colab-df-quickchart\" onclick=\"quickchart('df-5ff425f2-8265-4bc6-8281-683ba77325ed')\"\n",
              "              title=\"Suggest charts.\"\n",
              "              style=\"display:none;\">\n",
              "\n",
              "<svg xmlns=\"http://www.w3.org/2000/svg\" height=\"24px\"viewBox=\"0 0 24 24\"\n",
              "     width=\"24px\">\n",
              "    <g>\n",
              "        <path d=\"M19 3H5c-1.1 0-2 .9-2 2v14c0 1.1.9 2 2 2h14c1.1 0 2-.9 2-2V5c0-1.1-.9-2-2-2zM9 17H7v-7h2v7zm4 0h-2V7h2v10zm4 0h-2v-4h2v4z\"/>\n",
              "    </g>\n",
              "</svg>\n",
              "      </button>\n",
              "    </div>\n",
              "\n",
              "<style>\n",
              "  .colab-df-quickchart {\n",
              "    background-color: #E8F0FE;\n",
              "    border: none;\n",
              "    border-radius: 50%;\n",
              "    cursor: pointer;\n",
              "    display: none;\n",
              "    fill: #1967D2;\n",
              "    height: 32px;\n",
              "    padding: 0 0 0 0;\n",
              "    width: 32px;\n",
              "  }\n",
              "\n",
              "  .colab-df-quickchart:hover {\n",
              "    background-color: #E2EBFA;\n",
              "    box-shadow: 0px 1px 2px rgba(60, 64, 67, 0.3), 0px 1px 3px 1px rgba(60, 64, 67, 0.15);\n",
              "    fill: #174EA6;\n",
              "  }\n",
              "\n",
              "  [theme=dark] .colab-df-quickchart {\n",
              "    background-color: #3B4455;\n",
              "    fill: #D2E3FC;\n",
              "  }\n",
              "\n",
              "  [theme=dark] .colab-df-quickchart:hover {\n",
              "    background-color: #434B5C;\n",
              "    box-shadow: 0px 1px 3px 1px rgba(0, 0, 0, 0.15);\n",
              "    filter: drop-shadow(0px 1px 2px rgba(0, 0, 0, 0.3));\n",
              "    fill: #FFFFFF;\n",
              "  }\n",
              "</style>\n",
              "\n",
              "    <script>\n",
              "      async function quickchart(key) {\n",
              "        const containerElement = document.querySelector('#' + key);\n",
              "        const charts = await google.colab.kernel.invokeFunction(\n",
              "            'suggestCharts', [key], {});\n",
              "      }\n",
              "    </script>\n",
              "\n",
              "      <script>\n",
              "\n",
              "function displayQuickchartButton(domScope) {\n",
              "  let quickchartButtonEl =\n",
              "    domScope.querySelector('#df-5ff425f2-8265-4bc6-8281-683ba77325ed button.colab-df-quickchart');\n",
              "  quickchartButtonEl.style.display =\n",
              "    google.colab.kernel.accessAllowed ? 'block' : 'none';\n",
              "}\n",
              "\n",
              "        displayQuickchartButton(document);\n",
              "      </script>\n",
              "      <style>\n",
              "    .colab-df-container {\n",
              "      display:flex;\n",
              "      flex-wrap:wrap;\n",
              "      gap: 12px;\n",
              "    }\n",
              "\n",
              "    .colab-df-convert {\n",
              "      background-color: #E8F0FE;\n",
              "      border: none;\n",
              "      border-radius: 50%;\n",
              "      cursor: pointer;\n",
              "      display: none;\n",
              "      fill: #1967D2;\n",
              "      height: 32px;\n",
              "      padding: 0 0 0 0;\n",
              "      width: 32px;\n",
              "    }\n",
              "\n",
              "    .colab-df-convert:hover {\n",
              "      background-color: #E2EBFA;\n",
              "      box-shadow: 0px 1px 2px rgba(60, 64, 67, 0.3), 0px 1px 3px 1px rgba(60, 64, 67, 0.15);\n",
              "      fill: #174EA6;\n",
              "    }\n",
              "\n",
              "    [theme=dark] .colab-df-convert {\n",
              "      background-color: #3B4455;\n",
              "      fill: #D2E3FC;\n",
              "    }\n",
              "\n",
              "    [theme=dark] .colab-df-convert:hover {\n",
              "      background-color: #434B5C;\n",
              "      box-shadow: 0px 1px 3px 1px rgba(0, 0, 0, 0.15);\n",
              "      filter: drop-shadow(0px 1px 2px rgba(0, 0, 0, 0.3));\n",
              "      fill: #FFFFFF;\n",
              "    }\n",
              "  </style>\n",
              "\n",
              "      <script>\n",
              "        const buttonEl =\n",
              "          document.querySelector('#df-b01764e1-1cda-41b2-8355-d7c5905c936d button.colab-df-convert');\n",
              "        buttonEl.style.display =\n",
              "          google.colab.kernel.accessAllowed ? 'block' : 'none';\n",
              "\n",
              "        async function convertToInteractive(key) {\n",
              "          const element = document.querySelector('#df-b01764e1-1cda-41b2-8355-d7c5905c936d');\n",
              "          const dataTable =\n",
              "            await google.colab.kernel.invokeFunction('convertToInteractive',\n",
              "                                                     [key], {});\n",
              "          if (!dataTable) return;\n",
              "\n",
              "          const docLinkHtml = 'Like what you see? Visit the ' +\n",
              "            '<a target=\"_blank\" href=https://colab.research.google.com/notebooks/data_table.ipynb>data table notebook</a>'\n",
              "            + ' to learn more about interactive tables.';\n",
              "          element.innerHTML = '';\n",
              "          dataTable['output_type'] = 'display_data';\n",
              "          await google.colab.output.renderOutput(dataTable, element);\n",
              "          const docLink = document.createElement('div');\n",
              "          docLink.innerHTML = docLinkHtml;\n",
              "          element.appendChild(docLink);\n",
              "        }\n",
              "      </script>\n",
              "    </div>\n",
              "  </div>\n"
            ]
          },
          "metadata": {},
          "execution_count": 6
        }
      ]
    },
    {
      "cell_type": "markdown",
      "source": [
        "Check for nan"
      ],
      "metadata": {
        "id": "-40sM53L01cw"
      }
    },
    {
      "cell_type": "code",
      "source": [
        "df_y_train_skills.info()"
      ],
      "metadata": {
        "colab": {
          "base_uri": "https://localhost:8080/"
        },
        "id": "bnTovHanwjhM",
        "outputId": "939b2801-46d0-4c8c-993b-dd8d2251a842"
      },
      "execution_count": 7,
      "outputs": [
        {
          "output_type": "stream",
          "name": "stdout",
          "text": [
            "<class 'pandas.core.frame.DataFrame'>\n",
            "Int64Index: 5363 entries, 2477 to 3572\n",
            "Data columns (total 1 columns):\n",
            " #   Column  Non-Null Count  Dtype  \n",
            "---  ------  --------------  -----  \n",
            " 0   Salary  5358 non-null   float64\n",
            "dtypes: float64(1)\n",
            "memory usage: 83.8 KB\n"
          ]
        }
      ]
    },
    {
      "cell_type": "code",
      "source": [
        "df_y_train_skills.hist()"
      ],
      "metadata": {
        "colab": {
          "base_uri": "https://localhost:8080/",
          "height": 469
        },
        "id": "wuZaydV70OLf",
        "outputId": "392e0b5c-c1e2-46ea-f774-28ce4cd6ea58"
      },
      "execution_count": 8,
      "outputs": [
        {
          "output_type": "execute_result",
          "data": {
            "text/plain": [
              "array([[<Axes: title={'center': 'Salary'}>]], dtype=object)"
            ]
          },
          "metadata": {},
          "execution_count": 8
        },
        {
          "output_type": "display_data",
          "data": {
            "text/plain": [
              "<Figure size 640x480 with 1 Axes>"
            ],
            "image/png": "[encoded data removed]"
          },
          "metadata": {}
        }
      ]
    },
    {
      "cell_type": "markdown",
      "source": [
        "TEST"
      ],
      "metadata": {
        "id": "ybx8aoEFpNpQ"
      }
    },
    {
      "cell_type": "code",
      "source": [
        "df_x_test_skills = pd.read_csv(X_TEST_PATH)\n",
        "df_x_test_skills = df_x_test_skills[['Age', 'Gender', 'Education Level','Job Title', 'Years of Experience', 'Country', 'Race', 'height','weight', 'id', 'professionalism']]\n",
        "df_x_test_skills.set_index('id',drop=True,inplace=True)\n",
        "df_x_test_skills.info()"
      ],
      "metadata": {
        "colab": {
          "base_uri": "https://localhost:8080/"
        },
        "id": "qqerwLiOzfQA",
        "outputId": "191f44c1-2f37-4c41-96be-f4f334e468ac"
      },
      "execution_count": 9,
      "outputs": [
        {
          "output_type": "stream",
          "name": "stdout",
          "text": [
            "<class 'pandas.core.frame.DataFrame'>\n",
            "Int64Index: 1341 entries, 6480 to 2506\n",
            "Data columns (total 10 columns):\n",
            " #   Column               Non-Null Count  Dtype  \n",
            "---  ------               --------------  -----  \n",
            " 0   Age                  1341 non-null   float64\n",
            " 1   Gender               1341 non-null   object \n",
            " 2   Education Level      1341 non-null   object \n",
            " 3   Job Title            1341 non-null   object \n",
            " 4   Years of Experience  1341 non-null   float64\n",
            " 5   Country              1341 non-null   object \n",
            " 6   Race                 1341 non-null   object \n",
            " 7   height               1341 non-null   float64\n",
            " 8   weight               1341 non-null   float64\n",
            " 9   professionalism      1341 non-null   float64\n",
            "dtypes: float64(5), object(5)\n",
            "memory usage: 115.2+ KB\n"
          ]
        }
      ]
    },
    {
      "cell_type": "markdown",
      "source": [
        "# IMPUTE"
      ],
      "metadata": {
        "id": "JaMkcfHWlfbq"
      }
    },
    {
      "cell_type": "code",
      "source": [
        "def impute_missing_values(df_train, df_test , remove_row_missing_cat_data):\n",
        "  imputer_dict = {}\n",
        "  if remove_row_missing_cat_data:\n",
        "    for col in df_train.columns:\n",
        "        if df_train[col].dtype != 'object': #number\n",
        "          imp = SimpleImputer(strategy='mean')\n",
        "          df_train[col] = imp.fit_transform(df_train[col].values.reshape(-1, 1))\n",
        "          df_test[col] = imp.transform(df_test[col].values.reshape(-1, 1))\n",
        "          imputer_dict[col] = imp\n",
        "        else: #cat col\n",
        "            df_train.dropna(subset=[col], inplace=True) #remove rows with miss in categorical col\n",
        "            df_test\n",
        "  else:\n",
        "    for col in df_train.columns:\n",
        "        if df_train[col].dtype == 'object':\n",
        "          imp = SimpleImputer(strategy='most_frequent')\n",
        "\n",
        "        else:\n",
        "          imp = SimpleImputer(strategy='mean')\n",
        "        df_train[col] = imp.fit_transform(df_train[col].values.reshape(-1, 1))\n",
        "        df_test[col] = imp.transform(df_test[col].values.reshape(-1, 1))\n",
        "        imputer_dict[col] = imp\n",
        "  return df_train , df_test,imputer_dict"
      ],
      "metadata": {
        "id": "8fYG_P6ghdPb"
      },
      "execution_count": 10,
      "outputs": []
    },
    {
      "cell_type": "markdown",
      "source": [
        "# One hot encode\n",
        "encode on train , use on test, ignore unknown category"
      ],
      "metadata": {
        "id": "Q67nlO8Gktq1"
      }
    },
    {
      "cell_type": "code",
      "source": [
        "def one_hot_encode(df_train, df_test):\n",
        "\n",
        "  cat_col = list(df_train.select_dtypes(include=['object']).columns)\n",
        "  encoder = OneHotEncoder(handle_unknown='ignore')\n",
        "\n",
        "  encoded_data = encoder.fit_transform(df_train[cat_col])\n",
        "  encoded_df = pd.DataFrame(encoded_data.toarray(), columns=encoder.get_feature_names_out(cat_col),index=df_train.index)\n",
        "  df_train.drop(cat_col,axis = 1, inplace=True) #drop the original cat col\n",
        "  final_df_train = pd.concat([df_train, encoded_df], axis=1)\n",
        "\n",
        "  encoded_test_data = encoder.transform(df_test[cat_col])\n",
        "  encoded_test_df = pd.DataFrame(encoded_test_data.toarray(), columns=encoder.get_feature_names_out(cat_col),index=df_test.index)\n",
        "  df_test.drop(cat_col,axis = 1, inplace=True) #drop the original cat col\n",
        "  final_df_test = pd.concat([df_test, encoded_test_df], axis=1)\n",
        "\n",
        "\n",
        "  return final_df_train ,final_df_test"
      ],
      "metadata": {
        "id": "_-X_H8S4kvbD"
      },
      "execution_count": 11,
      "outputs": []
    },
    {
      "cell_type": "code",
      "source": [
        "def scale_data(df_train, df_test):\n",
        "    scaler = MinMaxScaler()\n",
        "    scaled_data = scaler.fit_transform(df_x_train_skills_copy_encode)\n",
        "    train_scaled_df = pd.DataFrame(scaled_data, columns=df_x_train_skills_copy_encode.columns)\n",
        "    test_scaled_data = scaler.transform(df_x_test_skills_copy_encode)\n",
        "    test_scaled_df = pd.DataFrame(test_scaled_data, columns=df_x_test_skills_copy_encode.columns)\n",
        "    return train_scaled_df,test_scaled_df"
      ],
      "metadata": {
        "id": "QFRn0wKw87nU"
      },
      "execution_count": 12,
      "outputs": []
    },
    {
      "cell_type": "code",
      "source": [
        "\n",
        "#df_x_train_skills_copy_encode,df_x_test_skills_copy_encode\n",
        "\n"
      ],
      "metadata": {
        "id": "Da9u6pux9I80"
      },
      "execution_count": 13,
      "outputs": []
    },
    {
      "cell_type": "code",
      "source": [
        "test_scaled_df"
      ],
      "metadata": {
        "colab": {
          "base_uri": "https://localhost:8080/",
          "height": 175
        },
        "id": "JZO03tKG-WrF",
        "outputId": "b2e87d1f-4453-4b45-a0bf-bffd798f8c8e"
      },
      "execution_count": 14,
      "outputs": [
        {
          "output_type": "error",
          "ename": "NameError",
          "evalue": "ignored",
          "traceback": [
            "\u001b[0;31m---------------------------------------------------------------------------\u001b[0m",
            "\u001b[0;31mNameError\u001b[0m                                 Traceback (most recent call last)",
            "\u001b[0;32m<ipython-input-14-24ce9ae5fab5>\u001b[0m in \u001b[0;36m<cell line: 1>\u001b[0;34m()\u001b[0m\n\u001b[0;32m----> 1\u001b[0;31m \u001b[0mtest_scaled_df\u001b[0m\u001b[0;34m\u001b[0m\u001b[0;34m\u001b[0m\u001b[0m\n\u001b[0m",
            "\u001b[0;31mNameError\u001b[0m: name 'test_scaled_df' is not defined"
          ]
        }
      ]
    },
    {
      "cell_type": "markdown",
      "source": [
        "# PREPROCESS\n",
        "- remove train Nan\n",
        "- impute\n",
        "- encode\n",
        "- scale"
      ],
      "metadata": {
        "id": "l5qNePoC2zap"
      }
    },
    {
      "cell_type": "markdown",
      "source": [],
      "metadata": {
        "id": "Br8epjsw0LxB"
      }
    },
    {
      "cell_type": "code",
      "source": [
        "#remove nan values  from train\n",
        "na_filter = df_y_train_skills['Salary'].notna()\n",
        "df_y_train_skills = df_y_train_skills[na_filter]\n",
        "df_x_train_skills = df_x_train_skills[na_filter]\n",
        "\n",
        "\n",
        "#IMPUTE\n",
        "df_x_train_skills_copy = df_x_train_skills.copy()\n",
        "df_x_test_skills_copy = df_x_test_skills.copy()\n",
        "df_x_train_skills_copy,df_x_test_skills_copy, imputer_dict = impute_missing_values(df_x_train_skills_copy,df_x_test_skills_copy,False)\n",
        "\n",
        "#ENCODE\n",
        "df_x_train_skills_copy_encode,df_x_test_skills_copy_encode = one_hot_encode(df_x_train_skills_copy,df_x_test_skills_copy)\n",
        "#df_x_test_skills_copy_encode = one_hot_encode()\n",
        "\n",
        "#scale\n",
        "df_x_train_skills_copy_encode,df_x_test_skills_copy_encode = scale_data(df_x_train_skills_copy_encode, df_x_test_skills_copy_encode)"
      ],
      "metadata": {
        "id": "Wum1iskZ0NZj"
      },
      "execution_count": 15,
      "outputs": []
    },
    {
      "cell_type": "code",
      "source": [
        "df_x_train_skills_copy_encode.info()"
      ],
      "metadata": {
        "colab": {
          "base_uri": "https://localhost:8080/"
        },
        "id": "1nBiK0J8qBLM",
        "outputId": "89519408-204b-4dc2-d609-3b885209a19c"
      },
      "execution_count": 16,
      "outputs": [
        {
          "output_type": "stream",
          "name": "stdout",
          "text": [
            "<class 'pandas.core.frame.DataFrame'>\n",
            "RangeIndex: 5358 entries, 0 to 5357\n",
            "Columns: 205 entries, Age to Race_White\n",
            "dtypes: float64(205)\n",
            "memory usage: 8.4 MB\n"
          ]
        }
      ]
    },
    {
      "cell_type": "code",
      "source": [
        "df_x_test_skills_copy_encode.info()"
      ],
      "metadata": {
        "colab": {
          "base_uri": "https://localhost:8080/"
        },
        "id": "fZx_EehHKaxb",
        "outputId": "d62290d6-ee0e-49b1-d230-925160dbc871"
      },
      "execution_count": 14,
      "outputs": [
        {
          "output_type": "stream",
          "name": "stdout",
          "text": [
            "<class 'pandas.core.frame.DataFrame'>\n",
            "Int64Index: 1341 entries, 6480 to 2506\n",
            "Columns: 205 entries, Age to Race_White\n",
            "dtypes: float64(205)\n",
            "memory usage: 2.1 MB\n"
          ]
        }
      ]
    },
    {
      "cell_type": "markdown",
      "source": [
        "# TRAIN"
      ],
      "metadata": {
        "id": "_rslYA2cjWJD"
      }
    },
    {
      "cell_type": "code",
      "source": [
        "def knn_train(df_x_train, series_y_train,v_n_neighbors):\n",
        "  knn = KNeighborsClassifier(n_neighbors=v_n_neighbors)\n",
        "  knn.fit(df_x_train, series_y_train)\n",
        "  return knn"
      ],
      "metadata": {
        "id": "NlpLMD0XuZlE"
      },
      "execution_count": 17,
      "outputs": []
    },
    {
      "cell_type": "code",
      "source": [
        "def decision_tree_train(df_x_train,series_y_train,c,s):\n",
        "  decision_tree = DecisionTreeRegressor(random_state=0,criterion=c,min_samples_split=s)\n",
        "  decision_tree.fit(df_x_train,series_y_train)\n",
        "  return decision_tree"
      ],
      "metadata": {
        "id": "xngwoFekuiBH"
      },
      "execution_count": 18,
      "outputs": []
    },
    {
      "cell_type": "code",
      "source": [
        "def lin_reg_train(df_x_train,series_y_train,f):\n",
        "  lin_reg_model = LinearRegression(fit_intercept=f)\n",
        "  lin_reg_model.fit(df_x_train,series_y_train)\n",
        "  return lin_reg_model"
      ],
      "metadata": {
        "id": "LrInelaEurwS"
      },
      "execution_count": 19,
      "outputs": []
    },
    {
      "cell_type": "markdown",
      "source": [
        "# run train and validate\n",
        "- took 10% from train for validation of the models\n",
        "- did my own simple grid search"
      ],
      "metadata": {
        "id": "UNOM5NP59FrI"
      }
    },
    {
      "cell_type": "code",
      "source": [
        "train_x, val_x,train_y, val_y = train_test_split(df_x_train_skills_copy_encode,df_y_train_skills, test_size=0.1)"
      ],
      "metadata": {
        "id": "nso4mBz6_3sC"
      },
      "execution_count": 32,
      "outputs": []
    },
    {
      "cell_type": "markdown",
      "source": [
        "save results here"
      ],
      "metadata": {
        "id": "o6wOyMqwHTCL"
      }
    },
    {
      "cell_type": "code",
      "source": [
        "results_dict = {\"model\":[],\n",
        "                \"model_name\":[],\n",
        "                \"model_config\":[],\n",
        "                \"rmse_val\":[]}"
      ],
      "metadata": {
        "id": "SRg9o_QEHSFt"
      },
      "execution_count": 36,
      "outputs": []
    },
    {
      "cell_type": "markdown",
      "source": [
        "## knn search space on K"
      ],
      "metadata": {
        "id": "sOtQUPm5HVsz"
      }
    },
    {
      "cell_type": "code",
      "source": [
        "knn_values = range(3,11,2)\n",
        "rmse_val_arr = []\n",
        "for knn_val in knn_values:\n",
        "  knn_model = knn_train(train_x, train_y['Salary'],v_n_neighbors=knn_val)\n",
        "  knn_model_name = f'knn_{knn_val}'\n",
        "\n",
        "  y_pred = knn_model.predict(val_x)\n",
        "  y_true = val_y['Salary']\n",
        "  rmse_val = mean_squared_error(y_true, y_pred, squared=False)\n",
        "  rmse_val_arr.append(rmse_val)\n",
        "\n",
        "  #save results\n",
        "  results_dict['model'].append(knn_model)\n",
        "  results_dict['model_name'].append('KNN')\n",
        "  results_dict['model_config'].append(knn_model_name)\n",
        "\n",
        "results_dict['rmse_val']+=rmse_val_arr\n",
        "#results_dict['rmse_test']+=list(np.zeros_like(rmse_val_arr,dtype=np.int32))\n",
        "results_dict"
      ],
      "metadata": {
        "colab": {
          "base_uri": "https://localhost:8080/"
        },
        "id": "JNlDBjmi58aG",
        "outputId": "0d180a8e-40f6-4da8-fb0a-498fa4194206"
      },
      "execution_count": 35,
      "outputs": [
        {
          "output_type": "execute_result",
          "data": {
            "text/plain": [
              "{'model': [KNeighborsClassifier(n_neighbors=3),\n",
              "  KNeighborsClassifier(),\n",
              "  KNeighborsClassifier(n_neighbors=7),\n",
              "  KNeighborsClassifier(n_neighbors=9),\n",
              "  KNeighborsClassifier(n_neighbors=3),\n",
              "  KNeighborsClassifier(),\n",
              "  KNeighborsClassifier(n_neighbors=7),\n",
              "  KNeighborsClassifier(n_neighbors=9)],\n",
              " 'model_name': ['KNN', 'KNN', 'KNN', 'KNN', 'KNN', 'KNN', 'KNN', 'KNN'],\n",
              " 'model_config': ['knn_3',\n",
              "  'knn_5',\n",
              "  'knn_7',\n",
              "  'knn_9',\n",
              "  'knn_3',\n",
              "  'knn_5',\n",
              "  'knn_7',\n",
              "  'knn_9'],\n",
              " 'rmse_val': [33603.59612771455,\n",
              "  34863.354026266905,\n",
              "  34020.887623245624,\n",
              "  33275.11913698017,\n",
              "  33603.59612771455,\n",
              "  34863.354026266905,\n",
              "  34020.887623245624,\n",
              "  33275.11913698017]}"
            ]
          },
          "metadata": {},
          "execution_count": 35
        }
      ]
    },
    {
      "cell_type": "markdown",
      "source": [
        "## DecisionTreeRegressor"
      ],
      "metadata": {
        "id": "K2m9W9wR22tE"
      }
    },
    {
      "cell_type": "code",
      "source": [
        "criterions = ['squared_error', 'friedman_mse', 'absolute_error', 'poisson']\n",
        "min_samples_splitint = range(2,10,2)\n",
        "rmse_val_arr = []\n",
        "\n",
        "for c in criterions:\n",
        "    for s in min_samples_splitint:\n",
        "        tree_model = decision_tree_train(train_x, train_y['Salary'],c, s)\n",
        "        tree_model_name = f'dt_{c}_{s}'\n",
        "\n",
        "        y_pred = tree_model.predict(val_x)\n",
        "        y_true = val_y['Salary']\n",
        "        rmse_val = mean_squared_error(y_true, y_pred, squared=False)\n",
        "        rmse_val_arr.append(rmse_val)\n",
        "\n",
        "        #save results\n",
        "        results_dict['model'].append(tree_model)\n",
        "        results_dict['model_name'].append('DecisionTree')\n",
        "        results_dict['model_config'].append(tree_model_name)\n",
        "        #results_dict['rmse_val'].append(rmse_val)\n",
        "\n",
        "results_dict['rmse_val']+=rmse_val_arr\n",
        "#results_dict['rmse_test']+=list(np.zeros_like(rmse_val_arr,dtype=np.int32))\n"
      ],
      "metadata": {
        "id": "XLLoE1Dc27ZB"
      },
      "execution_count": 37,
      "outputs": []
    },
    {
      "cell_type": "markdown",
      "source": [
        "## Linear reg"
      ],
      "metadata": {
        "id": "wbae0iEkE_ya"
      }
    },
    {
      "cell_type": "code",
      "source": [
        "rmse_val_arr = []\n",
        "fit_intercept = [True,False]\n",
        "normalize = [True,False]\n",
        "\n",
        "for f in fit_intercept:\n",
        "    linreg_model = lin_reg_train(train_x, train_y['Salary'],f)\n",
        "    linreg_model_name = f'linreg_{c}_{s}'\n",
        "\n",
        "    y_pred = tree_model.predict(val_x)\n",
        "    y_true = val_y['Salary']\n",
        "    rmse_val = mean_squared_error(y_true, y_pred, squared=False)\n",
        "    rmse_val_arr.append(rmse_val)\n",
        "\n",
        "    #save results\n",
        "    results_dict['model'].append(linreg_model)\n",
        "    results_dict['model_name'].append('LinReg')\n",
        "    results_dict['model_config'].append(linreg_model_name)\n",
        "    #results_dict['rmse_val'].append(rmse_val)\n",
        "\n",
        "results_dict['rmse_val']+=rmse_val_arr\n",
        "#results_dict['rmse_test']+=list(np.zeros_like(rmse_val_arr,dtype=np.int32))\n"
      ],
      "metadata": {
        "id": "oZ3oyC_aFHY0"
      },
      "execution_count": 38,
      "outputs": []
    },
    {
      "cell_type": "markdown",
      "source": [
        "## validation results\n",
        "in order to check our models on 10% of the data"
      ],
      "metadata": {
        "id": "dAdHPa5Y4HFN"
      }
    },
    {
      "cell_type": "code",
      "source": [
        "df_results = pd.DataFrame(results_dict)\n",
        "df_results.sort_values(by='rmse_val', ascending=True)"
      ],
      "metadata": {
        "id": "FizlAh0H-Bpd",
        "colab": {
          "base_uri": "https://localhost:8080/",
          "height": 614
        },
        "outputId": "4706b4a0-b2ed-488a-fc41-e494dd12ee40"
      },
      "execution_count": 39,
      "outputs": [
        {
          "output_type": "execute_result",
          "data": {
            "text/plain": [
              "                                                model    model_name  \\\n",
              "3   DecisionTreeRegressor(min_samples_split=8, ran...  DecisionTree   \n",
              "7   DecisionTreeRegressor(criterion='friedman_mse'...  DecisionTree   \n",
              "2   DecisionTreeRegressor(min_samples_split=6, ran...  DecisionTree   \n",
              "6   DecisionTreeRegressor(criterion='friedman_mse'...  DecisionTree   \n",
              "0               DecisionTreeRegressor(random_state=0)  DecisionTree   \n",
              "4   DecisionTreeRegressor(criterion='friedman_mse'...  DecisionTree   \n",
              "1   DecisionTreeRegressor(min_samples_split=4, ran...  DecisionTree   \n",
              "5   DecisionTreeRegressor(criterion='friedman_mse'...  DecisionTree   \n",
              "9   DecisionTreeRegressor(criterion='absolute_erro...  DecisionTree   \n",
              "12  DecisionTreeRegressor(criterion='poisson', ran...  DecisionTree   \n",
              "14  DecisionTreeRegressor(criterion='poisson', min...  DecisionTree   \n",
              "15  DecisionTreeRegressor(criterion='poisson', min...  DecisionTree   \n",
              "17              LinearRegression(fit_intercept=False)        LinReg   \n",
              "16                                 LinearRegression()        LinReg   \n",
              "10  DecisionTreeRegressor(criterion='absolute_erro...  DecisionTree   \n",
              "11  DecisionTreeRegressor(criterion='absolute_erro...  DecisionTree   \n",
              "8   DecisionTreeRegressor(criterion='absolute_erro...  DecisionTree   \n",
              "13  DecisionTreeRegressor(criterion='poisson', min...  DecisionTree   \n",
              "\n",
              "           model_config      rmse_val  \n",
              "3    dt_squared_error_8  12030.556478  \n",
              "7     dt_friedman_mse_8  12030.556478  \n",
              "2    dt_squared_error_6  12272.666221  \n",
              "6     dt_friedman_mse_6  12272.666221  \n",
              "0    dt_squared_error_2  12406.648839  \n",
              "4     dt_friedman_mse_2  12406.648839  \n",
              "1    dt_squared_error_4  12708.503583  \n",
              "5     dt_friedman_mse_4  12708.503583  \n",
              "9   dt_absolute_error_4  13461.418225  \n",
              "12         dt_poisson_2  13534.204911  \n",
              "14         dt_poisson_6  13666.167332  \n",
              "15         dt_poisson_8  13784.644107  \n",
              "17     linreg_poisson_8  13784.644107  \n",
              "16     linreg_poisson_8  13784.644107  \n",
              "10  dt_absolute_error_6  14341.857446  \n",
              "11  dt_absolute_error_8  14406.929728  \n",
              "8   dt_absolute_error_2  14475.140833  \n",
              "13         dt_poisson_4  14905.516754  "
            ],
            "text/html": [
              "\n",
              "\n",
              "  <div id=\"df-59ea030a-eab5-4cc0-b629-6a9f68c2ed26\">\n",
              "    <div class=\"colab-df-container\">\n",
              "      <div>\n",
              "<style scoped>\n",
              "    .dataframe tbody tr th:only-of-type {\n",
              "        vertical-align: middle;\n",
              "    }\n",
              "\n",
              "    .dataframe tbody tr th {\n",
              "        vertical-align: top;\n",
              "    }\n",
              "\n",
              "    .dataframe thead th {\n",
              "        text-align: right;\n",
              "    }\n",
              "</style>\n",
              "<table border=\"1\" class=\"dataframe\">\n",
              "  <thead>\n",
              "    <tr style=\"text-align: right;\">\n",
              "      <th></th>\n",
              "      <th>model</th>\n",
              "      <th>model_name</th>\n",
              "      <th>model_config</th>\n",
              "      <th>rmse_val</th>\n",
              "    </tr>\n",
              "  </thead>\n",
              "  <tbody>\n",
              "    <tr>\n",
              "      <th>3</th>\n",
              "      <td>DecisionTreeRegressor(min_samples_split=8, ran...</td>\n",
              "      <td>DecisionTree</td>\n",
              "      <td>dt_squared_error_8</td>\n",
              "      <td>12030.556478</td>\n",
              "    </tr>\n",
              "    <tr>\n",
              "      <th>7</th>\n",
              "      <td>DecisionTreeRegressor(criterion='friedman_mse'...</td>\n",
              "      <td>DecisionTree</td>\n",
              "      <td>dt_friedman_mse_8</td>\n",
              "      <td>12030.556478</td>\n",
              "    </tr>\n",
              "    <tr>\n",
              "      <th>2</th>\n",
              "      <td>DecisionTreeRegressor(min_samples_split=6, ran...</td>\n",
              "      <td>DecisionTree</td>\n",
              "      <td>dt_squared_error_6</td>\n",
              "      <td>12272.666221</td>\n",
              "    </tr>\n",
              "    <tr>\n",
              "      <th>6</th>\n",
              "      <td>DecisionTreeRegressor(criterion='friedman_mse'...</td>\n",
              "      <td>DecisionTree</td>\n",
              "      <td>dt_friedman_mse_6</td>\n",
              "      <td>12272.666221</td>\n",
              "    </tr>\n",
              "    <tr>\n",
              "      <th>0</th>\n",
              "      <td>DecisionTreeRegressor(random_state=0)</td>\n",
              "      <td>DecisionTree</td>\n",
              "      <td>dt_squared_error_2</td>\n",
              "      <td>12406.648839</td>\n",
              "    </tr>\n",
              "    <tr>\n",
              "      <th>4</th>\n",
              "      <td>DecisionTreeRegressor(criterion='friedman_mse'...</td>\n",
              "      <td>DecisionTree</td>\n",
              "      <td>dt_friedman_mse_2</td>\n",
              "      <td>12406.648839</td>\n",
              "    </tr>\n",
              "    <tr>\n",
              "      <th>1</th>\n",
              "      <td>DecisionTreeRegressor(min_samples_split=4, ran...</td>\n",
              "      <td>DecisionTree</td>\n",
              "      <td>dt_squared_error_4</td>\n",
              "      <td>12708.503583</td>\n",
              "    </tr>\n",
              "    <tr>\n",
              "      <th>5</th>\n",
              "      <td>DecisionTreeRegressor(criterion='friedman_mse'...</td>\n",
              "      <td>DecisionTree</td>\n",
              "      <td>dt_friedman_mse_4</td>\n",
              "      <td>12708.503583</td>\n",
              "    </tr>\n",
              "    <tr>\n",
              "      <th>9</th>\n",
              "      <td>DecisionTreeRegressor(criterion='absolute_erro...</td>\n",
              "      <td>DecisionTree</td>\n",
              "      <td>dt_absolute_error_4</td>\n",
              "      <td>13461.418225</td>\n",
              "    </tr>\n",
              "    <tr>\n",
              "      <th>12</th>\n",
              "      <td>DecisionTreeRegressor(criterion='poisson', ran...</td>\n",
              "      <td>DecisionTree</td>\n",
              "      <td>dt_poisson_2</td>\n",
              "      <td>13534.204911</td>\n",
              "    </tr>\n",
              "    <tr>\n",
              "      <th>14</th>\n",
              "      <td>DecisionTreeRegressor(criterion='poisson', min...</td>\n",
              "      <td>DecisionTree</td>\n",
              "      <td>dt_poisson_6</td>\n",
              "      <td>13666.167332</td>\n",
              "    </tr>\n",
              "    <tr>\n",
              "      <th>15</th>\n",
              "      <td>DecisionTreeRegressor(criterion='poisson', min...</td>\n",
              "      <td>DecisionTree</td>\n",
              "      <td>dt_poisson_8</td>\n",
              "      <td>13784.644107</td>\n",
              "    </tr>\n",
              "    <tr>\n",
              "      <th>17</th>\n",
              "      <td>LinearRegression(fit_intercept=False)</td>\n",
              "      <td>LinReg</td>\n",
              "      <td>linreg_poisson_8</td>\n",
              "      <td>13784.644107</td>\n",
              "    </tr>\n",
              "    <tr>\n",
              "      <th>16</th>\n",
              "      <td>LinearRegression()</td>\n",
              "      <td>LinReg</td>\n",
              "      <td>linreg_poisson_8</td>\n",
              "      <td>13784.644107</td>\n",
              "    </tr>\n",
              "    <tr>\n",
              "      <th>10</th>\n",
              "      <td>DecisionTreeRegressor(criterion='absolute_erro...</td>\n",
              "      <td>DecisionTree</td>\n",
              "      <td>dt_absolute_error_6</td>\n",
              "      <td>14341.857446</td>\n",
              "    </tr>\n",
              "    <tr>\n",
              "      <th>11</th>\n",
              "      <td>DecisionTreeRegressor(criterion='absolute_erro...</td>\n",
              "      <td>DecisionTree</td>\n",
              "      <td>dt_absolute_error_8</td>\n",
              "      <td>14406.929728</td>\n",
              "    </tr>\n",
              "    <tr>\n",
              "      <th>8</th>\n",
              "      <td>DecisionTreeRegressor(criterion='absolute_erro...</td>\n",
              "      <td>DecisionTree</td>\n",
              "      <td>dt_absolute_error_2</td>\n",
              "      <td>14475.140833</td>\n",
              "    </tr>\n",
              "    <tr>\n",
              "      <th>13</th>\n",
              "      <td>DecisionTreeRegressor(criterion='poisson', min...</td>\n",
              "      <td>DecisionTree</td>\n",
              "      <td>dt_poisson_4</td>\n",
              "      <td>14905.516754</td>\n",
              "    </tr>\n",
              "  </tbody>\n",
              "</table>\n",
              "</div>\n",
              "      <button class=\"colab-df-convert\" onclick=\"convertToInteractive('df-59ea030a-eab5-4cc0-b629-6a9f68c2ed26')\"\n",
              "              title=\"Convert this dataframe to an interactive table.\"\n",
              "              style=\"display:none;\">\n",
              "\n",
              "  <svg xmlns=\"http://www.w3.org/2000/svg\" height=\"24px\"viewBox=\"0 0 24 24\"\n",
              "       width=\"24px\">\n",
              "    <path d=\"M0 0h24v24H0V0z\" fill=\"none\"/>\n",
              "    <path d=\"M18.56 5.44l.94 2.06.94-2.06 2.06-.94-2.06-.94-.94-2.06-.94 2.06-2.06.94zm-11 1L8.5 8.5l.94-2.06 2.06-.94-2.06-.94L8.5 2.5l-.94 2.06-2.06.94zm10 10l.94 2.06.94-2.06 2.06-.94-2.06-.94-.94-2.06-.94 2.06-2.06.94z\"/><path d=\"M17.41 7.96l-1.37-1.37c-.4-.4-.92-.59-1.43-.59-.52 0-1.04.2-1.43.59L10.3 9.45l-7.72 7.72c-.78.78-.78 2.05 0 2.83L4 21.41c.39.39.9.59 1.41.59.51 0 1.02-.2 1.41-.59l7.78-7.78 2.81-2.81c.8-.78.8-2.07 0-2.86zM5.41 20L4 18.59l7.72-7.72 1.47 1.35L5.41 20z\"/>\n",
              "  </svg>\n",
              "      </button>\n",
              "\n",
              "\n",
              "\n",
              "    <div id=\"df-a90361a3-f1d9-4f73-8bf6-15237198c64a\">\n",
              "      <button class=\"colab-df-quickchart\" onclick=\"quickchart('df-a90361a3-f1d9-4f73-8bf6-15237198c64a')\"\n",
              "              title=\"Suggest charts.\"\n",
              "              style=\"display:none;\">\n",
              "\n",
              "<svg xmlns=\"http://www.w3.org/2000/svg\" height=\"24px\"viewBox=\"0 0 24 24\"\n",
              "     width=\"24px\">\n",
              "    <g>\n",
              "        <path d=\"M19 3H5c-1.1 0-2 .9-2 2v14c0 1.1.9 2 2 2h14c1.1 0 2-.9 2-2V5c0-1.1-.9-2-2-2zM9 17H7v-7h2v7zm4 0h-2V7h2v10zm4 0h-2v-4h2v4z\"/>\n",
              "    </g>\n",
              "</svg>\n",
              "      </button>\n",
              "    </div>\n",
              "\n",
              "<style>\n",
              "  .colab-df-quickchart {\n",
              "    background-color: #E8F0FE;\n",
              "    border: none;\n",
              "    border-radius: 50%;\n",
              "    cursor: pointer;\n",
              "    display: none;\n",
              "    fill: #1967D2;\n",
              "    height: 32px;\n",
              "    padding: 0 0 0 0;\n",
              "    width: 32px;\n",
              "  }\n",
              "\n",
              "  .colab-df-quickchart:hover {\n",
              "    background-color: #E2EBFA;\n",
              "    box-shadow: 0px 1px 2px rgba(60, 64, 67, 0.3), 0px 1px 3px 1px rgba(60, 64, 67, 0.15);\n",
              "    fill: #174EA6;\n",
              "  }\n",
              "\n",
              "  [theme=dark] .colab-df-quickchart {\n",
              "    background-color: #3B4455;\n",
              "    fill: #D2E3FC;\n",
              "  }\n",
              "\n",
              "  [theme=dark] .colab-df-quickchart:hover {\n",
              "    background-color: #434B5C;\n",
              "    box-shadow: 0px 1px 3px 1px rgba(0, 0, 0, 0.15);\n",
              "    filter: drop-shadow(0px 1px 2px rgba(0, 0, 0, 0.3));\n",
              "    fill: #FFFFFF;\n",
              "  }\n",
              "</style>\n",
              "\n",
              "    <script>\n",
              "      async function quickchart(key) {\n",
              "        const containerElement = document.querySelector('#' + key);\n",
              "        const charts = await google.colab.kernel.invokeFunction(\n",
              "            'suggestCharts', [key], {});\n",
              "      }\n",
              "    </script>\n",
              "\n",
              "      <script>\n",
              "\n",
              "function displayQuickchartButton(domScope) {\n",
              "  let quickchartButtonEl =\n",
              "    domScope.querySelector('#df-a90361a3-f1d9-4f73-8bf6-15237198c64a button.colab-df-quickchart');\n",
              "  quickchartButtonEl.style.display =\n",
              "    google.colab.kernel.accessAllowed ? 'block' : 'none';\n",
              "}\n",
              "\n",
              "        displayQuickchartButton(document);\n",
              "      </script>\n",
              "      <style>\n",
              "    .colab-df-container {\n",
              "      display:flex;\n",
              "      flex-wrap:wrap;\n",
              "      gap: 12px;\n",
              "    }\n",
              "\n",
              "    .colab-df-convert {\n",
              "      background-color: #E8F0FE;\n",
              "      border: none;\n",
              "      border-radius: 50%;\n",
              "      cursor: pointer;\n",
              "      display: none;\n",
              "      fill: #1967D2;\n",
              "      height: 32px;\n",
              "      padding: 0 0 0 0;\n",
              "      width: 32px;\n",
              "    }\n",
              "\n",
              "    .colab-df-convert:hover {\n",
              "      background-color: #E2EBFA;\n",
              "      box-shadow: 0px 1px 2px rgba(60, 64, 67, 0.3), 0px 1px 3px 1px rgba(60, 64, 67, 0.15);\n",
              "      fill: #174EA6;\n",
              "    }\n",
              "\n",
              "    [theme=dark] .colab-df-convert {\n",
              "      background-color: #3B4455;\n",
              "      fill: #D2E3FC;\n",
              "    }\n",
              "\n",
              "    [theme=dark] .colab-df-convert:hover {\n",
              "      background-color: #434B5C;\n",
              "      box-shadow: 0px 1px 3px 1px rgba(0, 0, 0, 0.15);\n",
              "      filter: drop-shadow(0px 1px 2px rgba(0, 0, 0, 0.3));\n",
              "      fill: #FFFFFF;\n",
              "    }\n",
              "  </style>\n",
              "\n",
              "      <script>\n",
              "        const buttonEl =\n",
              "          document.querySelector('#df-59ea030a-eab5-4cc0-b629-6a9f68c2ed26 button.colab-df-convert');\n",
              "        buttonEl.style.display =\n",
              "          google.colab.kernel.accessAllowed ? 'block' : 'none';\n",
              "\n",
              "        async function convertToInteractive(key) {\n",
              "          const element = document.querySelector('#df-59ea030a-eab5-4cc0-b629-6a9f68c2ed26');\n",
              "          const dataTable =\n",
              "            await google.colab.kernel.invokeFunction('convertToInteractive',\n",
              "                                                     [key], {});\n",
              "          if (!dataTable) return;\n",
              "\n",
              "          const docLinkHtml = 'Like what you see? Visit the ' +\n",
              "            '<a target=\"_blank\" href=https://colab.research.google.com/notebooks/data_table.ipynb>data table notebook</a>'\n",
              "            + ' to learn more about interactive tables.';\n",
              "          element.innerHTML = '';\n",
              "          dataTable['output_type'] = 'display_data';\n",
              "          await google.colab.output.renderOutput(dataTable, element);\n",
              "          const docLink = document.createElement('div');\n",
              "          docLink.innerHTML = docLinkHtml;\n",
              "          element.appendChild(docLink);\n",
              "        }\n",
              "      </script>\n",
              "    </div>\n",
              "  </div>\n"
            ]
          },
          "metadata": {},
          "execution_count": 39
        }
      ]
    },
    {
      "cell_type": "markdown",
      "source": [
        "plot each type of model"
      ],
      "metadata": {
        "id": "o0_ZelP78Atc"
      }
    },
    {
      "cell_type": "code",
      "source": [
        "import matplotlib.pyplot as plt\n",
        "\n",
        "g = sns.FacetGrid(df_results, col=\"model_name\", height=4,col_wrap=2)\n",
        "g.map(plt.barh, \"model_config\", \"rmse_val\")\n"
      ],
      "metadata": {
        "colab": {
          "base_uri": "https://localhost:8080/",
          "height": 824
        },
        "id": "LKkMVTjNAYHm",
        "outputId": "e9b12a77-b0d9-420d-b112-e98911f0134a"
      },
      "execution_count": 30,
      "outputs": [
        {
          "output_type": "execute_result",
          "data": {
            "text/plain": [
              "<seaborn.axisgrid.FacetGrid at 0x7de3c4cdbd90>"
            ]
          },
          "metadata": {},
          "execution_count": 30
        },
        {
          "output_type": "display_data",
          "data": {
            "text/plain": [
              "<Figure size 800x800 with 3 Axes>"
            ],
            "image/png": "[encoded data removed]"
          },
          "metadata": {}
        }
      ]
    },
    {
      "cell_type": "markdown",
      "source": [
        "top 10 best models\n"
      ],
      "metadata": {
        "id": "8hUqDljQCRM8"
      }
    },
    {
      "cell_type": "code",
      "source": [
        "min_rmse = df_results['rmse_val'].min()\n",
        "best_model = df_results.loc[(df_results['rmse_val'] == min_rmse), 'model'].iloc[0]\n",
        "print(f'bset model was: {best_model} with params:')\n",
        "print(best_model.get_params())"
      ],
      "metadata": {
        "colab": {
          "base_uri": "https://localhost:8080/"
        },
        "id": "lr5YVrttCzcm",
        "outputId": "d5adeb1a-70e3-4f6a-9046-2c9a1909532d"
      },
      "execution_count": 65,
      "outputs": [
        {
          "output_type": "stream",
          "name": "stdout",
          "text": [
            "bset model was: DecisionTreeRegressor(min_samples_split=8, random_state=0) with params:\n",
            "{'ccp_alpha': 0.0, 'criterion': 'squared_error', 'max_depth': None, 'max_features': None, 'max_leaf_nodes': None, 'min_impurity_decrease': 0.0, 'min_samples_leaf': 1, 'min_samples_split': 8, 'min_weight_fraction_leaf': 0.0, 'random_state': 0, 'splitter': 'best'}\n"
          ]
        }
      ]
    },
    {
      "cell_type": "code",
      "source": [
        "sns.barplot(data= df_results.sort_values(by='rmse_val', ascending=True)[:10] , y='model_config',x='rmse_val',orient = 'h');"
      ],
      "metadata": {
        "colab": {
          "base_uri": "https://localhost:8080/",
          "height": 467
        },
        "id": "zD4WZupIBX4R",
        "outputId": "4ed28be0-37f2-447f-b1d2-1a77473a345d"
      },
      "execution_count": 46,
      "outputs": [
        {
          "output_type": "execute_result",
          "data": {
            "text/plain": [
              "<Axes: xlabel='rmse_val', ylabel='model_config'>"
            ]
          },
          "metadata": {},
          "execution_count": 46
        },
        {
          "output_type": "display_data",
          "data": {
            "text/plain": [
              "<Figure size 640x480 with 1 Axes>"
            ],
            "image/png": "[encoded data removed]"
          },
          "metadata": {}
        }
      ]
    },
    {
      "cell_type": "markdown",
      "source": [
        "# Run on test set\n",
        "1. take the best model (had lowest rmse value on validation)\n",
        "2. train it on all train set\n",
        "3. write test dic"
      ],
      "metadata": {
        "id": "Wxylm7z24GNI"
      }
    },
    {
      "cell_type": "code",
      "source": [
        "min_rmse = df_results['rmse_val'].min()\n",
        "best_model = df_results.loc[(df_results['rmse_val'] == min_rmse), 'model'].iloc[0]\n",
        "best_model"
      ],
      "metadata": {
        "colab": {
          "base_uri": "https://localhost:8080/",
          "height": 75
        },
        "id": "69CMuKfrEC3r",
        "outputId": "d70ab26d-83ef-462d-c26b-28dd28888f21"
      },
      "execution_count": 27,
      "outputs": [
        {
          "output_type": "execute_result",
          "data": {
            "text/plain": [
              "DecisionTreeRegressor(min_samples_split=8, random_state=0)"
            ],
            "text/html": [
              "<style>#sk-container-id-1 {color: black;background-color: white;}#sk-container-id-1 pre{padding: 0;}#sk-container-id-1 div.sk-toggleable {background-color: white;}#sk-container-id-1 label.sk-toggleable__label {cursor: pointer;display: block;width: 100%;margin-bottom: 0;padding: 0.3em;box-sizing: border-box;text-align: center;}#sk-container-id-1 label.sk-toggleable__label-arrow:before {content: \"▸\";float: left;margin-right: 0.25em;color: #696969;}#sk-container-id-1 label.sk-toggleable__label-arrow:hover:before {color: black;}#sk-container-id-1 div.sk-estimator:hover label.sk-toggleable__label-arrow:before {color: black;}#sk-container-id-1 div.sk-toggleable__content {max-height: 0;max-width: 0;overflow: hidden;text-align: left;background-color: #f0f8ff;}#sk-container-id-1 div.sk-toggleable__content pre {margin: 0.2em;color: black;border-radius: 0.25em;background-color: #f0f8ff;}#sk-container-id-1 input.sk-toggleable__control:checked~div.sk-toggleable__content {max-height: 200px;max-width: 100%;overflow: auto;}#sk-container-id-1 input.sk-toggleable__control:checked~label.sk-toggleable__label-arrow:before {content: \"▾\";}#sk-container-id-1 div.sk-estimator input.sk-toggleable__control:checked~label.sk-toggleable__label {background-color: #d4ebff;}#sk-container-id-1 div.sk-label input.sk-toggleable__control:checked~label.sk-toggleable__label {background-color: #d4ebff;}#sk-container-id-1 input.sk-hidden--visually {border: 0;clip: rect(1px 1px 1px 1px);clip: rect(1px, 1px, 1px, 1px);height: 1px;margin: -1px;overflow: hidden;padding: 0;position: absolute;width: 1px;}#sk-container-id-1 div.sk-estimator {font-family: monospace;background-color: #f0f8ff;border: 1px dotted black;border-radius: 0.25em;box-sizing: border-box;margin-bottom: 0.5em;}#sk-container-id-1 div.sk-estimator:hover {background-color: #d4ebff;}#sk-container-id-1 div.sk-parallel-item::after {content: \"\";width: 100%;border-bottom: 1px solid gray;flex-grow: 1;}#sk-container-id-1 div.sk-label:hover label.sk-toggleable__label {background-color: #d4ebff;}#sk-container-id-1 div.sk-serial::before {content: \"\";position: absolute;border-left: 1px solid gray;box-sizing: border-box;top: 0;bottom: 0;left: 50%;z-index: 0;}#sk-container-id-1 div.sk-serial {display: flex;flex-direction: column;align-items: center;background-color: white;padding-right: 0.2em;padding-left: 0.2em;position: relative;}#sk-container-id-1 div.sk-item {position: relative;z-index: 1;}#sk-container-id-1 div.sk-parallel {display: flex;align-items: stretch;justify-content: center;background-color: white;position: relative;}#sk-container-id-1 div.sk-item::before, #sk-container-id-1 div.sk-parallel-item::before {content: \"\";position: absolute;border-left: 1px solid gray;box-sizing: border-box;top: 0;bottom: 0;left: 50%;z-index: -1;}#sk-container-id-1 div.sk-parallel-item {display: flex;flex-direction: column;z-index: 1;position: relative;background-color: white;}#sk-container-id-1 div.sk-parallel-item:first-child::after {align-self: flex-end;width: 50%;}#sk-container-id-1 div.sk-parallel-item:last-child::after {align-self: flex-start;width: 50%;}#sk-container-id-1 div.sk-parallel-item:only-child::after {width: 0;}#sk-container-id-1 div.sk-dashed-wrapped {border: 1px dashed gray;margin: 0 0.4em 0.5em 0.4em;box-sizing: border-box;padding-bottom: 0.4em;background-color: white;}#sk-container-id-1 div.sk-label label {font-family: monospace;font-weight: bold;display: inline-block;line-height: 1.2em;}#sk-container-id-1 div.sk-label-container {text-align: center;}#sk-container-id-1 div.sk-container {/* jupyter's `normalize.less` sets `[hidden] { display: none; }` but bootstrap.min.css set `[hidden] { display: none !important; }` so we also need the `!important` here to be able to override the default hidden behavior on the sphinx rendered scikit-learn.org. See: https://github.com/scikit-learn/scikit-learn/issues/21755 */display: inline-block !important;position: relative;}#sk-container-id-1 div.sk-text-repr-fallback {display: none;}</style><div id=\"sk-container-id-1\" class=\"sk-top-container\"><div class=\"sk-text-repr-fallback\"><pre>DecisionTreeRegressor(min_samples_split=8, random_state=0)</pre><b>In a Jupyter environment, please rerun this cell to show the HTML representation or trust the notebook. <br />On GitHub, the HTML representation is unable to render, please try loading this page with nbviewer.org.</b></div><div class=\"sk-container\" hidden><div class=\"sk-item\"><div class=\"sk-estimator sk-toggleable\"><input class=\"sk-toggleable__control sk-hidden--visually\" id=\"sk-estimator-id-1\" type=\"checkbox\" checked><label for=\"sk-estimator-id-1\" class=\"sk-toggleable__label sk-toggleable__label-arrow\">DecisionTreeRegressor</label><div class=\"sk-toggleable__content\"><pre>DecisionTreeRegressor(min_samples_split=8, random_state=0)</pre></div></div></div></div></div>"
            ]
          },
          "metadata": {},
          "execution_count": 27
        }
      ]
    },
    {
      "cell_type": "markdown",
      "source": [
        "train on entire train set"
      ],
      "metadata": {
        "id": "vGIm1XLdDe_A"
      }
    },
    {
      "cell_type": "code",
      "source": [
        "best_model.fit(df_x_train_skills_copy_encode,df_y_train_skills['Salary'])"
      ],
      "metadata": {
        "colab": {
          "base_uri": "https://localhost:8080/",
          "height": 75
        },
        "id": "OS4dcsSPDhM6",
        "outputId": "77c583ad-6c82-4156-b0f1-03ca2d33114d"
      },
      "execution_count": 71,
      "outputs": [
        {
          "output_type": "execute_result",
          "data": {
            "text/plain": [
              "DecisionTreeRegressor(min_samples_split=8, random_state=0)"
            ],
            "text/html": [
              "<style>#sk-container-id-25 {color: black;background-color: white;}#sk-container-id-25 pre{padding: 0;}#sk-container-id-25 div.sk-toggleable {background-color: white;}#sk-container-id-25 label.sk-toggleable__label {cursor: pointer;display: block;width: 100%;margin-bottom: 0;padding: 0.3em;box-sizing: border-box;text-align: center;}#sk-container-id-25 label.sk-toggleable__label-arrow:before {content: \"▸\";float: left;margin-right: 0.25em;color: #696969;}#sk-container-id-25 label.sk-toggleable__label-arrow:hover:before {color: black;}#sk-container-id-25 div.sk-estimator:hover label.sk-toggleable__label-arrow:before {color: black;}#sk-container-id-25 div.sk-toggleable__content {max-height: 0;max-width: 0;overflow: hidden;text-align: left;background-color: #f0f8ff;}#sk-container-id-25 div.sk-toggleable__content pre {margin: 0.2em;color: black;border-radius: 0.25em;background-color: #f0f8ff;}#sk-container-id-25 input.sk-toggleable__control:checked~div.sk-toggleable__content {max-height: 200px;max-width: 100%;overflow: auto;}#sk-container-id-25 input.sk-toggleable__control:checked~label.sk-toggleable__label-arrow:before {content: \"▾\";}#sk-container-id-25 div.sk-estimator input.sk-toggleable__control:checked~label.sk-toggleable__label {background-color: #d4ebff;}#sk-container-id-25 div.sk-label input.sk-toggleable__control:checked~label.sk-toggleable__label {background-color: #d4ebff;}#sk-container-id-25 input.sk-hidden--visually {border: 0;clip: rect(1px 1px 1px 1px);clip: rect(1px, 1px, 1px, 1px);height: 1px;margin: -1px;overflow: hidden;padding: 0;position: absolute;width: 1px;}#sk-container-id-25 div.sk-estimator {font-family: monospace;background-color: #f0f8ff;border: 1px dotted black;border-radius: 0.25em;box-sizing: border-box;margin-bottom: 0.5em;}#sk-container-id-25 div.sk-estimator:hover {background-color: #d4ebff;}#sk-container-id-25 div.sk-parallel-item::after {content: \"\";width: 100%;border-bottom: 1px solid gray;flex-grow: 1;}#sk-container-id-25 div.sk-label:hover label.sk-toggleable__label {background-color: #d4ebff;}#sk-container-id-25 div.sk-serial::before {content: \"\";position: absolute;border-left: 1px solid gray;box-sizing: border-box;top: 0;bottom: 0;left: 50%;z-index: 0;}#sk-container-id-25 div.sk-serial {display: flex;flex-direction: column;align-items: center;background-color: white;padding-right: 0.2em;padding-left: 0.2em;position: relative;}#sk-container-id-25 div.sk-item {position: relative;z-index: 1;}#sk-container-id-25 div.sk-parallel {display: flex;align-items: stretch;justify-content: center;background-color: white;position: relative;}#sk-container-id-25 div.sk-item::before, #sk-container-id-25 div.sk-parallel-item::before {content: \"\";position: absolute;border-left: 1px solid gray;box-sizing: border-box;top: 0;bottom: 0;left: 50%;z-index: -1;}#sk-container-id-25 div.sk-parallel-item {display: flex;flex-direction: column;z-index: 1;position: relative;background-color: white;}#sk-container-id-25 div.sk-parallel-item:first-child::after {align-self: flex-end;width: 50%;}#sk-container-id-25 div.sk-parallel-item:last-child::after {align-self: flex-start;width: 50%;}#sk-container-id-25 div.sk-parallel-item:only-child::after {width: 0;}#sk-container-id-25 div.sk-dashed-wrapped {border: 1px dashed gray;margin: 0 0.4em 0.5em 0.4em;box-sizing: border-box;padding-bottom: 0.4em;background-color: white;}#sk-container-id-25 div.sk-label label {font-family: monospace;font-weight: bold;display: inline-block;line-height: 1.2em;}#sk-container-id-25 div.sk-label-container {text-align: center;}#sk-container-id-25 div.sk-container {/* jupyter's `normalize.less` sets `[hidden] { display: none; }` but bootstrap.min.css set `[hidden] { display: none !important; }` so we also need the `!important` here to be able to override the default hidden behavior on the sphinx rendered scikit-learn.org. See: https://github.com/scikit-learn/scikit-learn/issues/21755 */display: inline-block !important;position: relative;}#sk-container-id-25 div.sk-text-repr-fallback {display: none;}</style><div id=\"sk-container-id-25\" class=\"sk-top-container\"><div class=\"sk-text-repr-fallback\"><pre>DecisionTreeRegressor(min_samples_split=8, random_state=0)</pre><b>In a Jupyter environment, please rerun this cell to show the HTML representation or trust the notebook. <br />On GitHub, the HTML representation is unable to render, please try loading this page with nbviewer.org.</b></div><div class=\"sk-container\" hidden><div class=\"sk-item\"><div class=\"sk-estimator sk-toggleable\"><input class=\"sk-toggleable__control sk-hidden--visually\" id=\"sk-estimator-id-25\" type=\"checkbox\" checked><label for=\"sk-estimator-id-25\" class=\"sk-toggleable__label sk-toggleable__label-arrow\">DecisionTreeRegressor</label><div class=\"sk-toggleable__content\"><pre>DecisionTreeRegressor(min_samples_split=8, random_state=0)</pre></div></div></div></div></div>"
            ]
          },
          "metadata": {},
          "execution_count": 71
        }
      ]
    },
    {
      "cell_type": "markdown",
      "source": [
        "recheck on validation set"
      ],
      "metadata": {
        "id": "IJd9MdlRG_nH"
      }
    },
    {
      "cell_type": "code",
      "source": [
        "val_y_pred = best_model.predict(val_x)\n",
        "rmse_val = mean_squared_error(val_y, val_y_pred, squared=False)\n",
        "rmse_val"
      ],
      "metadata": {
        "colab": {
          "base_uri": "https://localhost:8080/"
        },
        "id": "Nm48KCnqG_PF",
        "outputId": "fead3abe-0a7e-4b30-bbaa-ef3961cedf61"
      },
      "execution_count": 72,
      "outputs": [
        {
          "output_type": "execute_result",
          "data": {
            "text/plain": [
              "2702.6041467765644"
            ]
          },
          "metadata": {},
          "execution_count": 72
        }
      ]
    },
    {
      "cell_type": "markdown",
      "source": [
        "predict on test"
      ],
      "metadata": {
        "id": "7tGFWbikHLoW"
      }
    },
    {
      "cell_type": "code",
      "source": [
        "dict_test = {\"id\":[],'salary':[]}\n",
        "y_pred = best_model.predict(df_x_test_skills_copy_encode)"
      ],
      "metadata": {
        "id": "Gqk9vmDY8p8f"
      },
      "execution_count": 73,
      "outputs": []
    },
    {
      "cell_type": "code",
      "source": [
        "dict_test[\"id\"] = list(df_x_test_skills_copy_encode.index)\n",
        "dict_test[\"salary\"] = y_pred\n",
        "pd.DataFrame(dict_test)"
      ],
      "metadata": {
        "colab": {
          "base_uri": "https://localhost:8080/",
          "height": 424
        },
        "id": "yAhF-jTbzf39",
        "outputId": "a24511b3-b1b7-4287-faeb-8ce9c7ff16ef"
      },
      "execution_count": 74,
      "outputs": [
        {
          "output_type": "execute_result",
          "data": {
            "text/plain": [
              "        id         salary\n",
              "0        0  150666.666667\n",
              "1        1   55000.000000\n",
              "2        2   80247.000000\n",
              "3        3  195000.000000\n",
              "4        4   72500.000000\n",
              "...    ...            ...\n",
              "1336  1336  180000.000000\n",
              "1337  1337  156666.666667\n",
              "1338  1338  120000.000000\n",
              "1339  1339  135000.000000\n",
              "1340  1340  150000.000000\n",
              "\n",
              "[1341 rows x 2 columns]"
            ],
            "text/html": [
              "\n",
              "\n",
              "  <div id=\"df-40c029df-cf49-43ab-a684-27d7e1325e0d\">\n",
              "    <div class=\"colab-df-container\">\n",
              "      <div>\n",
              "<style scoped>\n",
              "    .dataframe tbody tr th:only-of-type {\n",
              "        vertical-align: middle;\n",
              "    }\n",
              "\n",
              "    .dataframe tbody tr th {\n",
              "        vertical-align: top;\n",
              "    }\n",
              "\n",
              "    .dataframe thead th {\n",
              "        text-align: right;\n",
              "    }\n",
              "</style>\n",
              "<table border=\"1\" class=\"dataframe\">\n",
              "  <thead>\n",
              "    <tr style=\"text-align: right;\">\n",
              "      <th></th>\n",
              "      <th>id</th>\n",
              "      <th>salary</th>\n",
              "    </tr>\n",
              "  </thead>\n",
              "  <tbody>\n",
              "    <tr>\n",
              "      <th>0</th>\n",
              "      <td>0</td>\n",
              "      <td>150666.666667</td>\n",
              "    </tr>\n",
              "    <tr>\n",
              "      <th>1</th>\n",
              "      <td>1</td>\n",
              "      <td>55000.000000</td>\n",
              "    </tr>\n",
              "    <tr>\n",
              "      <th>2</th>\n",
              "      <td>2</td>\n",
              "      <td>80247.000000</td>\n",
              "    </tr>\n",
              "    <tr>\n",
              "      <th>3</th>\n",
              "      <td>3</td>\n",
              "      <td>195000.000000</td>\n",
              "    </tr>\n",
              "    <tr>\n",
              "      <th>4</th>\n",
              "      <td>4</td>\n",
              "      <td>72500.000000</td>\n",
              "    </tr>\n",
              "    <tr>\n",
              "      <th>...</th>\n",
              "      <td>...</td>\n",
              "      <td>...</td>\n",
              "    </tr>\n",
              "    <tr>\n",
              "      <th>1336</th>\n",
              "      <td>1336</td>\n",
              "      <td>180000.000000</td>\n",
              "    </tr>\n",
              "    <tr>\n",
              "      <th>1337</th>\n",
              "      <td>1337</td>\n",
              "      <td>156666.666667</td>\n",
              "    </tr>\n",
              "    <tr>\n",
              "      <th>1338</th>\n",
              "      <td>1338</td>\n",
              "      <td>120000.000000</td>\n",
              "    </tr>\n",
              "    <tr>\n",
              "      <th>1339</th>\n",
              "      <td>1339</td>\n",
              "      <td>135000.000000</td>\n",
              "    </tr>\n",
              "    <tr>\n",
              "      <th>1340</th>\n",
              "      <td>1340</td>\n",
              "      <td>150000.000000</td>\n",
              "    </tr>\n",
              "  </tbody>\n",
              "</table>\n",
              "<p>1341 rows × 2 columns</p>\n",
              "</div>\n",
              "      <button class=\"colab-df-convert\" onclick=\"convertToInteractive('df-40c029df-cf49-43ab-a684-27d7e1325e0d')\"\n",
              "              title=\"Convert this dataframe to an interactive table.\"\n",
              "              style=\"display:none;\">\n",
              "\n",
              "  <svg xmlns=\"http://www.w3.org/2000/svg\" height=\"24px\"viewBox=\"0 0 24 24\"\n",
              "       width=\"24px\">\n",
              "    <path d=\"M0 0h24v24H0V0z\" fill=\"none\"/>\n",
              "    <path d=\"M18.56 5.44l.94 2.06.94-2.06 2.06-.94-2.06-.94-.94-2.06-.94 2.06-2.06.94zm-11 1L8.5 8.5l.94-2.06 2.06-.94-2.06-.94L8.5 2.5l-.94 2.06-2.06.94zm10 10l.94 2.06.94-2.06 2.06-.94-2.06-.94-.94-2.06-.94 2.06-2.06.94z\"/><path d=\"M17.41 7.96l-1.37-1.37c-.4-.4-.92-.59-1.43-.59-.52 0-1.04.2-1.43.59L10.3 9.45l-7.72 7.72c-.78.78-.78 2.05 0 2.83L4 21.41c.39.39.9.59 1.41.59.51 0 1.02-.2 1.41-.59l7.78-7.78 2.81-2.81c.8-.78.8-2.07 0-2.86zM5.41 20L4 18.59l7.72-7.72 1.47 1.35L5.41 20z\"/>\n",
              "  </svg>\n",
              "      </button>\n",
              "\n",
              "\n",
              "\n",
              "    <div id=\"df-513e7dcb-2bef-40d1-972c-ae716431974f\">\n",
              "      <button class=\"colab-df-quickchart\" onclick=\"quickchart('df-513e7dcb-2bef-40d1-972c-ae716431974f')\"\n",
              "              title=\"Suggest charts.\"\n",
              "              style=\"display:none;\">\n",
              "\n",
              "<svg xmlns=\"http://www.w3.org/2000/svg\" height=\"24px\"viewBox=\"0 0 24 24\"\n",
              "     width=\"24px\">\n",
              "    <g>\n",
              "        <path d=\"M19 3H5c-1.1 0-2 .9-2 2v14c0 1.1.9 2 2 2h14c1.1 0 2-.9 2-2V5c0-1.1-.9-2-2-2zM9 17H7v-7h2v7zm4 0h-2V7h2v10zm4 0h-2v-4h2v4z\"/>\n",
              "    </g>\n",
              "</svg>\n",
              "      </button>\n",
              "    </div>\n",
              "\n",
              "<style>\n",
              "  .colab-df-quickchart {\n",
              "    background-color: #E8F0FE;\n",
              "    border: none;\n",
              "    border-radius: 50%;\n",
              "    cursor: pointer;\n",
              "    display: none;\n",
              "    fill: #1967D2;\n",
              "    height: 32px;\n",
              "    padding: 0 0 0 0;\n",
              "    width: 32px;\n",
              "  }\n",
              "\n",
              "  .colab-df-quickchart:hover {\n",
              "    background-color: #E2EBFA;\n",
              "    box-shadow: 0px 1px 2px rgba(60, 64, 67, 0.3), 0px 1px 3px 1px rgba(60, 64, 67, 0.15);\n",
              "    fill: #174EA6;\n",
              "  }\n",
              "\n",
              "  [theme=dark] .colab-df-quickchart {\n",
              "    background-color: #3B4455;\n",
              "    fill: #D2E3FC;\n",
              "  }\n",
              "\n",
              "  [theme=dark] .colab-df-quickchart:hover {\n",
              "    background-color: #434B5C;\n",
              "    box-shadow: 0px 1px 3px 1px rgba(0, 0, 0, 0.15);\n",
              "    filter: drop-shadow(0px 1px 2px rgba(0, 0, 0, 0.3));\n",
              "    fill: #FFFFFF;\n",
              "  }\n",
              "</style>\n",
              "\n",
              "    <script>\n",
              "      async function quickchart(key) {\n",
              "        const containerElement = document.querySelector('#' + key);\n",
              "        const charts = await google.colab.kernel.invokeFunction(\n",
              "            'suggestCharts', [key], {});\n",
              "      }\n",
              "    </script>\n",
              "\n",
              "      <script>\n",
              "\n",
              "function displayQuickchartButton(domScope) {\n",
              "  let quickchartButtonEl =\n",
              "    domScope.querySelector('#df-513e7dcb-2bef-40d1-972c-ae716431974f button.colab-df-quickchart');\n",
              "  quickchartButtonEl.style.display =\n",
              "    google.colab.kernel.accessAllowed ? 'block' : 'none';\n",
              "}\n",
              "\n",
              "        displayQuickchartButton(document);\n",
              "      </script>\n",
              "      <style>\n",
              "    .colab-df-container {\n",
              "      display:flex;\n",
              "      flex-wrap:wrap;\n",
              "      gap: 12px;\n",
              "    }\n",
              "\n",
              "    .colab-df-convert {\n",
              "      background-color: #E8F0FE;\n",
              "      border: none;\n",
              "      border-radius: 50%;\n",
              "      cursor: pointer;\n",
              "      display: none;\n",
              "      fill: #1967D2;\n",
              "      height: 32px;\n",
              "      padding: 0 0 0 0;\n",
              "      width: 32px;\n",
              "    }\n",
              "\n",
              "    .colab-df-convert:hover {\n",
              "      background-color: #E2EBFA;\n",
              "      box-shadow: 0px 1px 2px rgba(60, 64, 67, 0.3), 0px 1px 3px 1px rgba(60, 64, 67, 0.15);\n",
              "      fill: #174EA6;\n",
              "    }\n",
              "\n",
              "    [theme=dark] .colab-df-convert {\n",
              "      background-color: #3B4455;\n",
              "      fill: #D2E3FC;\n",
              "    }\n",
              "\n",
              "    [theme=dark] .colab-df-convert:hover {\n",
              "      background-color: #434B5C;\n",
              "      box-shadow: 0px 1px 3px 1px rgba(0, 0, 0, 0.15);\n",
              "      filter: drop-shadow(0px 1px 2px rgba(0, 0, 0, 0.3));\n",
              "      fill: #FFFFFF;\n",
              "    }\n",
              "  </style>\n",
              "\n",
              "      <script>\n",
              "        const buttonEl =\n",
              "          document.querySelector('#df-40c029df-cf49-43ab-a684-27d7e1325e0d button.colab-df-convert');\n",
              "        buttonEl.style.display =\n",
              "          google.colab.kernel.accessAllowed ? 'block' : 'none';\n",
              "\n",
              "        async function convertToInteractive(key) {\n",
              "          const element = document.querySelector('#df-40c029df-cf49-43ab-a684-27d7e1325e0d');\n",
              "          const dataTable =\n",
              "            await google.colab.kernel.invokeFunction('convertToInteractive',\n",
              "                                                     [key], {});\n",
              "          if (!dataTable) return;\n",
              "\n",
              "          const docLinkHtml = 'Like what you see? Visit the ' +\n",
              "            '<a target=\"_blank\" href=https://colab.research.google.com/notebooks/data_table.ipynb>data table notebook</a>'\n",
              "            + ' to learn more about interactive tables.';\n",
              "          element.innerHTML = '';\n",
              "          dataTable['output_type'] = 'display_data';\n",
              "          await google.colab.output.renderOutput(dataTable, element);\n",
              "          const docLink = document.createElement('div');\n",
              "          docLink.innerHTML = docLinkHtml;\n",
              "          element.appendChild(docLink);\n",
              "        }\n",
              "      </script>\n",
              "    </div>\n",
              "  </div>\n"
            ]
          },
          "metadata": {},
          "execution_count": 74
        }
      ]
    },
    {
      "cell_type": "code",
      "source": [
        "df_x_test_skills_copy_encode"
      ],
      "metadata": {
        "colab": {
          "base_uri": "https://localhost:8080/",
          "height": 505
        },
        "id": "d91ETAS2E6Ha",
        "outputId": "02083e6e-6f47-4b2b-f5ea-1e9da6dd3ac2"
      },
      "execution_count": 75,
      "outputs": [
        {
          "output_type": "execute_result",
          "data": {
            "text/plain": [
              "           Age  Years of Experience    height    weight  professionalism  \\\n",
              "0     0.595238             0.126050  0.318130  0.400002         0.330882   \n",
              "1     0.166667             0.025210  0.062578  0.247494         0.039706   \n",
              "2     0.166667             0.033613  0.559311  0.177761         0.052941   \n",
              "3     0.428571             0.117647  0.983016  0.407232         0.260784   \n",
              "4     0.166667             0.042017  0.139552  0.157415         0.054902   \n",
              "...        ...                  ...       ...       ...              ...   \n",
              "1336  0.523810             0.117647  0.962007  0.398502         0.288235   \n",
              "1337  0.500000             0.126050  0.708280  0.377725         0.301471   \n",
              "1338  0.452381             0.092437  0.254923  0.368173         0.210294   \n",
              "1339  0.357143             0.075630  0.828214  0.308738         0.141176   \n",
              "1340  0.452381             0.134454  0.569126  0.391205         0.313725   \n",
              "\n",
              "      Gender_F  Gender_M  Gender_O  Education Level_bachelor  \\\n",
              "0          0.0       1.0       0.0                       0.0   \n",
              "1          1.0       0.0       0.0                       0.0   \n",
              "2          0.0       1.0       0.0                       0.0   \n",
              "3          0.0       1.0       0.0                       0.0   \n",
              "4          0.0       1.0       0.0                       0.0   \n",
              "...        ...       ...       ...                       ...   \n",
              "1336       0.0       1.0       0.0                       0.0   \n",
              "1337       0.0       1.0       0.0                       0.0   \n",
              "1338       1.0       0.0       0.0                       0.0   \n",
              "1339       0.0       1.0       0.0                       0.0   \n",
              "1340       1.0       0.0       0.0                       0.0   \n",
              "\n",
              "      Education Level_bachelor's|degr  ...  Race_Asian  Race_Australian  \\\n",
              "0                                 0.0  ...         0.0              0.0   \n",
              "1                                 1.0  ...         0.0              0.0   \n",
              "2                                 0.0  ...         0.0              0.0   \n",
              "3                                 0.0  ...         1.0              0.0   \n",
              "4                                 1.0  ...         0.0              0.0   \n",
              "...                               ...  ...         ...              ...   \n",
              "1336                              0.0  ...         0.0              0.0   \n",
              "1337                              0.0  ...         0.0              0.0   \n",
              "1338                              0.0  ...         0.0              0.0   \n",
              "1339                              1.0  ...         0.0              0.0   \n",
              "1340                              0.0  ...         0.0              0.0   \n",
              "\n",
              "      Race_Black  Race_Chinese  Race_Hispanic  Race_Korean  Race_Mixed  \\\n",
              "0            0.0           0.0            1.0          0.0         0.0   \n",
              "1            0.0           0.0            0.0          0.0         0.0   \n",
              "2            0.0           0.0            0.0          0.0         0.0   \n",
              "3            0.0           0.0            0.0          0.0         0.0   \n",
              "4            0.0           0.0            0.0          0.0         0.0   \n",
              "...          ...           ...            ...          ...         ...   \n",
              "1336         0.0           0.0            1.0          0.0         0.0   \n",
              "1337         0.0           0.0            0.0          0.0         0.0   \n",
              "1338         0.0           0.0            0.0          1.0         0.0   \n",
              "1339         0.0           0.0            0.0          0.0         0.0   \n",
              "1340         0.0           0.0            0.0          1.0         0.0   \n",
              "\n",
              "      Race_NayaCollegegeek  Race_Welsh  Race_White  \n",
              "0                      0.0         0.0         0.0  \n",
              "1                      0.0         0.0         0.0  \n",
              "2                      0.0         0.0         0.0  \n",
              "3                      0.0         0.0         0.0  \n",
              "4                      0.0         0.0         0.0  \n",
              "...                    ...         ...         ...  \n",
              "1336                   0.0         0.0         0.0  \n",
              "1337                   0.0         0.0         1.0  \n",
              "1338                   0.0         0.0         0.0  \n",
              "1339                   0.0         0.0         1.0  \n",
              "1340                   0.0         0.0         0.0  \n",
              "\n",
              "[1341 rows x 205 columns]"
            ],
            "text/html": [
              "\n",
              "\n",
              "  <div id=\"df-92ff73e4-c507-4f76-9744-644a0015e099\">\n",
              "    <div class=\"colab-df-container\">\n",
              "      <div>\n",
              "<style scoped>\n",
              "    .dataframe tbody tr th:only-of-type {\n",
              "        vertical-align: middle;\n",
              "    }\n",
              "\n",
              "    .dataframe tbody tr th {\n",
              "        vertical-align: top;\n",
              "    }\n",
              "\n",
              "    .dataframe thead th {\n",
              "        text-align: right;\n",
              "    }\n",
              "</style>\n",
              "<table border=\"1\" class=\"dataframe\">\n",
              "  <thead>\n",
              "    <tr style=\"text-align: right;\">\n",
              "      <th></th>\n",
              "      <th>Age</th>\n",
              "      <th>Years of Experience</th>\n",
              "      <th>height</th>\n",
              "      <th>weight</th>\n",
              "      <th>professionalism</th>\n",
              "      <th>Gender_F</th>\n",
              "      <th>Gender_M</th>\n",
              "      <th>Gender_O</th>\n",
              "      <th>Education Level_bachelor</th>\n",
              "      <th>Education Level_bachelor's|degr</th>\n",
              "      <th>...</th>\n",
              "      <th>Race_Asian</th>\n",
              "      <th>Race_Australian</th>\n",
              "      <th>Race_Black</th>\n",
              "      <th>Race_Chinese</th>\n",
              "      <th>Race_Hispanic</th>\n",
              "      <th>Race_Korean</th>\n",
              "      <th>Race_Mixed</th>\n",
              "      <th>Race_NayaCollegegeek</th>\n",
              "      <th>Race_Welsh</th>\n",
              "      <th>Race_White</th>\n",
              "    </tr>\n",
              "  </thead>\n",
              "  <tbody>\n",
              "    <tr>\n",
              "      <th>0</th>\n",
              "      <td>0.595238</td>\n",
              "      <td>0.126050</td>\n",
              "      <td>0.318130</td>\n",
              "      <td>0.400002</td>\n",
              "      <td>0.330882</td>\n",
              "      <td>0.0</td>\n",
              "      <td>1.0</td>\n",
              "      <td>0.0</td>\n",
              "      <td>0.0</td>\n",
              "      <td>0.0</td>\n",
              "      <td>...</td>\n",
              "      <td>0.0</td>\n",
              "      <td>0.0</td>\n",
              "      <td>0.0</td>\n",
              "      <td>0.0</td>\n",
              "      <td>1.0</td>\n",
              "      <td>0.0</td>\n",
              "      <td>0.0</td>\n",
              "      <td>0.0</td>\n",
              "      <td>0.0</td>\n",
              "      <td>0.0</td>\n",
              "    </tr>\n",
              "    <tr>\n",
              "      <th>1</th>\n",
              "      <td>0.166667</td>\n",
              "      <td>0.025210</td>\n",
              "      <td>0.062578</td>\n",
              "      <td>0.247494</td>\n",
              "      <td>0.039706</td>\n",
              "      <td>1.0</td>\n",
              "      <td>0.0</td>\n",
              "      <td>0.0</td>\n",
              "      <td>0.0</td>\n",
              "      <td>1.0</td>\n",
              "      <td>...</td>\n",
              "      <td>0.0</td>\n",
              "      <td>0.0</td>\n",
              "      <td>0.0</td>\n",
              "      <td>0.0</td>\n",
              "      <td>0.0</td>\n",
              "      <td>0.0</td>\n",
              "      <td>0.0</td>\n",
              "      <td>0.0</td>\n",
              "      <td>0.0</td>\n",
              "      <td>0.0</td>\n",
              "    </tr>\n",
              "    <tr>\n",
              "      <th>2</th>\n",
              "      <td>0.166667</td>\n",
              "      <td>0.033613</td>\n",
              "      <td>0.559311</td>\n",
              "      <td>0.177761</td>\n",
              "      <td>0.052941</td>\n",
              "      <td>0.0</td>\n",
              "      <td>1.0</td>\n",
              "      <td>0.0</td>\n",
              "      <td>0.0</td>\n",
              "      <td>0.0</td>\n",
              "      <td>...</td>\n",
              "      <td>0.0</td>\n",
              "      <td>0.0</td>\n",
              "      <td>0.0</td>\n",
              "      <td>0.0</td>\n",
              "      <td>0.0</td>\n",
              "      <td>0.0</td>\n",
              "      <td>0.0</td>\n",
              "      <td>0.0</td>\n",
              "      <td>0.0</td>\n",
              "      <td>0.0</td>\n",
              "    </tr>\n",
              "    <tr>\n",
              "      <th>3</th>\n",
              "      <td>0.428571</td>\n",
              "      <td>0.117647</td>\n",
              "      <td>0.983016</td>\n",
              "      <td>0.407232</td>\n",
              "      <td>0.260784</td>\n",
              "      <td>0.0</td>\n",
              "      <td>1.0</td>\n",
              "      <td>0.0</td>\n",
              "      <td>0.0</td>\n",
              "      <td>0.0</td>\n",
              "      <td>...</td>\n",
              "      <td>1.0</td>\n",
              "      <td>0.0</td>\n",
              "      <td>0.0</td>\n",
              "      <td>0.0</td>\n",
              "      <td>0.0</td>\n",
              "      <td>0.0</td>\n",
              "      <td>0.0</td>\n",
              "      <td>0.0</td>\n",
              "      <td>0.0</td>\n",
              "      <td>0.0</td>\n",
              "    </tr>\n",
              "    <tr>\n",
              "      <th>4</th>\n",
              "      <td>0.166667</td>\n",
              "      <td>0.042017</td>\n",
              "      <td>0.139552</td>\n",
              "      <td>0.157415</td>\n",
              "      <td>0.054902</td>\n",
              "      <td>0.0</td>\n",
              "      <td>1.0</td>\n",
              "      <td>0.0</td>\n",
              "      <td>0.0</td>\n",
              "      <td>1.0</td>\n",
              "      <td>...</td>\n",
              "      <td>0.0</td>\n",
              "      <td>0.0</td>\n",
              "      <td>0.0</td>\n",
              "      <td>0.0</td>\n",
              "      <td>0.0</td>\n",
              "      <td>0.0</td>\n",
              "      <td>0.0</td>\n",
              "      <td>0.0</td>\n",
              "      <td>0.0</td>\n",
              "      <td>0.0</td>\n",
              "    </tr>\n",
              "    <tr>\n",
              "      <th>...</th>\n",
              "      <td>...</td>\n",
              "      <td>...</td>\n",
              "      <td>...</td>\n",
              "      <td>...</td>\n",
              "      <td>...</td>\n",
              "      <td>...</td>\n",
              "      <td>...</td>\n",
              "      <td>...</td>\n",
              "      <td>...</td>\n",
              "      <td>...</td>\n",
              "      <td>...</td>\n",
              "      <td>...</td>\n",
              "      <td>...</td>\n",
              "      <td>...</td>\n",
              "      <td>...</td>\n",
              "      <td>...</td>\n",
              "      <td>...</td>\n",
              "      <td>...</td>\n",
              "      <td>...</td>\n",
              "      <td>...</td>\n",
              "      <td>...</td>\n",
              "    </tr>\n",
              "    <tr>\n",
              "      <th>1336</th>\n",
              "      <td>0.523810</td>\n",
              "      <td>0.117647</td>\n",
              "      <td>0.962007</td>\n",
              "      <td>0.398502</td>\n",
              "      <td>0.288235</td>\n",
              "      <td>0.0</td>\n",
              "      <td>1.0</td>\n",
              "      <td>0.0</td>\n",
              "      <td>0.0</td>\n",
              "      <td>0.0</td>\n",
              "      <td>...</td>\n",
              "      <td>0.0</td>\n",
              "      <td>0.0</td>\n",
              "      <td>0.0</td>\n",
              "      <td>0.0</td>\n",
              "      <td>1.0</td>\n",
              "      <td>0.0</td>\n",
              "      <td>0.0</td>\n",
              "      <td>0.0</td>\n",
              "      <td>0.0</td>\n",
              "      <td>0.0</td>\n",
              "    </tr>\n",
              "    <tr>\n",
              "      <th>1337</th>\n",
              "      <td>0.500000</td>\n",
              "      <td>0.126050</td>\n",
              "      <td>0.708280</td>\n",
              "      <td>0.377725</td>\n",
              "      <td>0.301471</td>\n",
              "      <td>0.0</td>\n",
              "      <td>1.0</td>\n",
              "      <td>0.0</td>\n",
              "      <td>0.0</td>\n",
              "      <td>0.0</td>\n",
              "      <td>...</td>\n",
              "      <td>0.0</td>\n",
              "      <td>0.0</td>\n",
              "      <td>0.0</td>\n",
              "      <td>0.0</td>\n",
              "      <td>0.0</td>\n",
              "      <td>0.0</td>\n",
              "      <td>0.0</td>\n",
              "      <td>0.0</td>\n",
              "      <td>0.0</td>\n",
              "      <td>1.0</td>\n",
              "    </tr>\n",
              "    <tr>\n",
              "      <th>1338</th>\n",
              "      <td>0.452381</td>\n",
              "      <td>0.092437</td>\n",
              "      <td>0.254923</td>\n",
              "      <td>0.368173</td>\n",
              "      <td>0.210294</td>\n",
              "      <td>1.0</td>\n",
              "      <td>0.0</td>\n",
              "      <td>0.0</td>\n",
              "      <td>0.0</td>\n",
              "      <td>0.0</td>\n",
              "      <td>...</td>\n",
              "      <td>0.0</td>\n",
              "      <td>0.0</td>\n",
              "      <td>0.0</td>\n",
              "      <td>0.0</td>\n",
              "      <td>0.0</td>\n",
              "      <td>1.0</td>\n",
              "      <td>0.0</td>\n",
              "      <td>0.0</td>\n",
              "      <td>0.0</td>\n",
              "      <td>0.0</td>\n",
              "    </tr>\n",
              "    <tr>\n",
              "      <th>1339</th>\n",
              "      <td>0.357143</td>\n",
              "      <td>0.075630</td>\n",
              "      <td>0.828214</td>\n",
              "      <td>0.308738</td>\n",
              "      <td>0.141176</td>\n",
              "      <td>0.0</td>\n",
              "      <td>1.0</td>\n",
              "      <td>0.0</td>\n",
              "      <td>0.0</td>\n",
              "      <td>1.0</td>\n",
              "      <td>...</td>\n",
              "      <td>0.0</td>\n",
              "      <td>0.0</td>\n",
              "      <td>0.0</td>\n",
              "      <td>0.0</td>\n",
              "      <td>0.0</td>\n",
              "      <td>0.0</td>\n",
              "      <td>0.0</td>\n",
              "      <td>0.0</td>\n",
              "      <td>0.0</td>\n",
              "      <td>1.0</td>\n",
              "    </tr>\n",
              "    <tr>\n",
              "      <th>1340</th>\n",
              "      <td>0.452381</td>\n",
              "      <td>0.134454</td>\n",
              "      <td>0.569126</td>\n",
              "      <td>0.391205</td>\n",
              "      <td>0.313725</td>\n",
              "      <td>1.0</td>\n",
              "      <td>0.0</td>\n",
              "      <td>0.0</td>\n",
              "      <td>0.0</td>\n",
              "      <td>0.0</td>\n",
              "      <td>...</td>\n",
              "      <td>0.0</td>\n",
              "      <td>0.0</td>\n",
              "      <td>0.0</td>\n",
              "      <td>0.0</td>\n",
              "      <td>0.0</td>\n",
              "      <td>1.0</td>\n",
              "      <td>0.0</td>\n",
              "      <td>0.0</td>\n",
              "      <td>0.0</td>\n",
              "      <td>0.0</td>\n",
              "    </tr>\n",
              "  </tbody>\n",
              "</table>\n",
              "<p>1341 rows × 205 columns</p>\n",
              "</div>\n",
              "      <button class=\"colab-df-convert\" onclick=\"convertToInteractive('df-92ff73e4-c507-4f76-9744-644a0015e099')\"\n",
              "              title=\"Convert this dataframe to an interactive table.\"\n",
              "              style=\"display:none;\">\n",
              "\n",
              "  <svg xmlns=\"http://www.w3.org/2000/svg\" height=\"24px\"viewBox=\"0 0 24 24\"\n",
              "       width=\"24px\">\n",
              "    <path d=\"M0 0h24v24H0V0z\" fill=\"none\"/>\n",
              "    <path d=\"M18.56 5.44l.94 2.06.94-2.06 2.06-.94-2.06-.94-.94-2.06-.94 2.06-2.06.94zm-11 1L8.5 8.5l.94-2.06 2.06-.94-2.06-.94L8.5 2.5l-.94 2.06-2.06.94zm10 10l.94 2.06.94-2.06 2.06-.94-2.06-.94-.94-2.06-.94 2.06-2.06.94z\"/><path d=\"M17.41 7.96l-1.37-1.37c-.4-.4-.92-.59-1.43-.59-.52 0-1.04.2-1.43.59L10.3 9.45l-7.72 7.72c-.78.78-.78 2.05 0 2.83L4 21.41c.39.39.9.59 1.41.59.51 0 1.02-.2 1.41-.59l7.78-7.78 2.81-2.81c.8-.78.8-2.07 0-2.86zM5.41 20L4 18.59l7.72-7.72 1.47 1.35L5.41 20z\"/>\n",
              "  </svg>\n",
              "      </button>\n",
              "\n",
              "\n",
              "\n",
              "    <div id=\"df-4eddeaf5-d514-4978-b97a-9e89d3a033d1\">\n",
              "      <button class=\"colab-df-quickchart\" onclick=\"quickchart('df-4eddeaf5-d514-4978-b97a-9e89d3a033d1')\"\n",
              "              title=\"Suggest charts.\"\n",
              "              style=\"display:none;\">\n",
              "\n",
              "<svg xmlns=\"http://www.w3.org/2000/svg\" height=\"24px\"viewBox=\"0 0 24 24\"\n",
              "     width=\"24px\">\n",
              "    <g>\n",
              "        <path d=\"M19 3H5c-1.1 0-2 .9-2 2v14c0 1.1.9 2 2 2h14c1.1 0 2-.9 2-2V5c0-1.1-.9-2-2-2zM9 17H7v-7h2v7zm4 0h-2V7h2v10zm4 0h-2v-4h2v4z\"/>\n",
              "    </g>\n",
              "</svg>\n",
              "      </button>\n",
              "    </div>\n",
              "\n",
              "<style>\n",
              "  .colab-df-quickchart {\n",
              "    background-color: #E8F0FE;\n",
              "    border: none;\n",
              "    border-radius: 50%;\n",
              "    cursor: pointer;\n",
              "    display: none;\n",
              "    fill: #1967D2;\n",
              "    height: 32px;\n",
              "    padding: 0 0 0 0;\n",
              "    width: 32px;\n",
              "  }\n",
              "\n",
              "  .colab-df-quickchart:hover {\n",
              "    background-color: #E2EBFA;\n",
              "    box-shadow: 0px 1px 2px rgba(60, 64, 67, 0.3), 0px 1px 3px 1px rgba(60, 64, 67, 0.15);\n",
              "    fill: #174EA6;\n",
              "  }\n",
              "\n",
              "  [theme=dark] .colab-df-quickchart {\n",
              "    background-color: #3B4455;\n",
              "    fill: #D2E3FC;\n",
              "  }\n",
              "\n",
              "  [theme=dark] .colab-df-quickchart:hover {\n",
              "    background-color: #434B5C;\n",
              "    box-shadow: 0px 1px 3px 1px rgba(0, 0, 0, 0.15);\n",
              "    filter: drop-shadow(0px 1px 2px rgba(0, 0, 0, 0.3));\n",
              "    fill: #FFFFFF;\n",
              "  }\n",
              "</style>\n",
              "\n",
              "    <script>\n",
              "      async function quickchart(key) {\n",
              "        const containerElement = document.querySelector('#' + key);\n",
              "        const charts = await google.colab.kernel.invokeFunction(\n",
              "            'suggestCharts', [key], {});\n",
              "      }\n",
              "    </script>\n",
              "\n",
              "      <script>\n",
              "\n",
              "function displayQuickchartButton(domScope) {\n",
              "  let quickchartButtonEl =\n",
              "    domScope.querySelector('#df-4eddeaf5-d514-4978-b97a-9e89d3a033d1 button.colab-df-quickchart');\n",
              "  quickchartButtonEl.style.display =\n",
              "    google.colab.kernel.accessAllowed ? 'block' : 'none';\n",
              "}\n",
              "\n",
              "        displayQuickchartButton(document);\n",
              "      </script>\n",
              "      <style>\n",
              "    .colab-df-container {\n",
              "      display:flex;\n",
              "      flex-wrap:wrap;\n",
              "      gap: 12px;\n",
              "    }\n",
              "\n",
              "    .colab-df-convert {\n",
              "      background-color: #E8F0FE;\n",
              "      border: none;\n",
              "      border-radius: 50%;\n",
              "      cursor: pointer;\n",
              "      display: none;\n",
              "      fill: #1967D2;\n",
              "      height: 32px;\n",
              "      padding: 0 0 0 0;\n",
              "      width: 32px;\n",
              "    }\n",
              "\n",
              "    .colab-df-convert:hover {\n",
              "      background-color: #E2EBFA;\n",
              "      box-shadow: 0px 1px 2px rgba(60, 64, 67, 0.3), 0px 1px 3px 1px rgba(60, 64, 67, 0.15);\n",
              "      fill: #174EA6;\n",
              "    }\n",
              "\n",
              "    [theme=dark] .colab-df-convert {\n",
              "      background-color: #3B4455;\n",
              "      fill: #D2E3FC;\n",
              "    }\n",
              "\n",
              "    [theme=dark] .colab-df-convert:hover {\n",
              "      background-color: #434B5C;\n",
              "      box-shadow: 0px 1px 3px 1px rgba(0, 0, 0, 0.15);\n",
              "      filter: drop-shadow(0px 1px 2px rgba(0, 0, 0, 0.3));\n",
              "      fill: #FFFFFF;\n",
              "    }\n",
              "  </style>\n",
              "\n",
              "      <script>\n",
              "        const buttonEl =\n",
              "          document.querySelector('#df-92ff73e4-c507-4f76-9744-644a0015e099 button.colab-df-convert');\n",
              "        buttonEl.style.display =\n",
              "          google.colab.kernel.accessAllowed ? 'block' : 'none';\n",
              "\n",
              "        async function convertToInteractive(key) {\n",
              "          const element = document.querySelector('#df-92ff73e4-c507-4f76-9744-644a0015e099');\n",
              "          const dataTable =\n",
              "            await google.colab.kernel.invokeFunction('convertToInteractive',\n",
              "                                                     [key], {});\n",
              "          if (!dataTable) return;\n",
              "\n",
              "          const docLinkHtml = 'Like what you see? Visit the ' +\n",
              "            '<a target=\"_blank\" href=https://colab.research.google.com/notebooks/data_table.ipynb>data table notebook</a>'\n",
              "            + ' to learn more about interactive tables.';\n",
              "          element.innerHTML = '';\n",
              "          dataTable['output_type'] = 'display_data';\n",
              "          await google.colab.output.renderOutput(dataTable, element);\n",
              "          const docLink = document.createElement('div');\n",
              "          docLink.innerHTML = docLinkHtml;\n",
              "          element.appendChild(docLink);\n",
              "        }\n",
              "      </script>\n",
              "    </div>\n",
              "  </div>\n"
            ]
          },
          "metadata": {},
          "execution_count": 75
        }
      ]
    },
    {
      "cell_type": "code",
      "source": [
        "dict_test = {\"id\":[],'salary':[]}\n",
        "y_pred = best_model.predict(df_x_test_skills_copy_encode)\n",
        "dict_test[\"id\"] = list(df_x_test_skills_copy_encode.index)\n",
        "dict_test[\"salary\"] = y_pred\n",
        "pd.DataFrame(dict_test)"
      ],
      "metadata": {
        "colab": {
          "base_uri": "https://localhost:8080/",
          "height": 424
        },
        "id": "05uz1SoWEsjL",
        "outputId": "3b9e7ca2-98b1-4a25-9f54-11bbf26093ef"
      },
      "execution_count": 77,
      "outputs": [
        {
          "output_type": "execute_result",
          "data": {
            "text/plain": [
              "        id         salary\n",
              "0        0  150666.666667\n",
              "1        1   55000.000000\n",
              "2        2   80247.000000\n",
              "3        3  195000.000000\n",
              "4        4   72500.000000\n",
              "...    ...            ...\n",
              "1336  1336  180000.000000\n",
              "1337  1337  156666.666667\n",
              "1338  1338  120000.000000\n",
              "1339  1339  135000.000000\n",
              "1340  1340  150000.000000\n",
              "\n",
              "[1341 rows x 2 columns]"
            ],
            "text/html": [
              "\n",
              "\n",
              "  <div id=\"df-5e886845-68a4-430f-985f-cfe272c600bb\">\n",
              "    <div class=\"colab-df-container\">\n",
              "      <div>\n",
              "<style scoped>\n",
              "    .dataframe tbody tr th:only-of-type {\n",
              "        vertical-align: middle;\n",
              "    }\n",
              "\n",
              "    .dataframe tbody tr th {\n",
              "        vertical-align: top;\n",
              "    }\n",
              "\n",
              "    .dataframe thead th {\n",
              "        text-align: right;\n",
              "    }\n",
              "</style>\n",
              "<table border=\"1\" class=\"dataframe\">\n",
              "  <thead>\n",
              "    <tr style=\"text-align: right;\">\n",
              "      <th></th>\n",
              "      <th>id</th>\n",
              "      <th>salary</th>\n",
              "    </tr>\n",
              "  </thead>\n",
              "  <tbody>\n",
              "    <tr>\n",
              "      <th>0</th>\n",
              "      <td>0</td>\n",
              "      <td>150666.666667</td>\n",
              "    </tr>\n",
              "    <tr>\n",
              "      <th>1</th>\n",
              "      <td>1</td>\n",
              "      <td>55000.000000</td>\n",
              "    </tr>\n",
              "    <tr>\n",
              "      <th>2</th>\n",
              "      <td>2</td>\n",
              "      <td>80247.000000</td>\n",
              "    </tr>\n",
              "    <tr>\n",
              "      <th>3</th>\n",
              "      <td>3</td>\n",
              "      <td>195000.000000</td>\n",
              "    </tr>\n",
              "    <tr>\n",
              "      <th>4</th>\n",
              "      <td>4</td>\n",
              "      <td>72500.000000</td>\n",
              "    </tr>\n",
              "    <tr>\n",
              "      <th>...</th>\n",
              "      <td>...</td>\n",
              "      <td>...</td>\n",
              "    </tr>\n",
              "    <tr>\n",
              "      <th>1336</th>\n",
              "      <td>1336</td>\n",
              "      <td>180000.000000</td>\n",
              "    </tr>\n",
              "    <tr>\n",
              "      <th>1337</th>\n",
              "      <td>1337</td>\n",
              "      <td>156666.666667</td>\n",
              "    </tr>\n",
              "    <tr>\n",
              "      <th>1338</th>\n",
              "      <td>1338</td>\n",
              "      <td>120000.000000</td>\n",
              "    </tr>\n",
              "    <tr>\n",
              "      <th>1339</th>\n",
              "      <td>1339</td>\n",
              "      <td>135000.000000</td>\n",
              "    </tr>\n",
              "    <tr>\n",
              "      <th>1340</th>\n",
              "      <td>1340</td>\n",
              "      <td>150000.000000</td>\n",
              "    </tr>\n",
              "  </tbody>\n",
              "</table>\n",
              "<p>1341 rows × 2 columns</p>\n",
              "</div>\n",
              "      <button class=\"colab-df-convert\" onclick=\"convertToInteractive('df-5e886845-68a4-430f-985f-cfe272c600bb')\"\n",
              "              title=\"Convert this dataframe to an interactive table.\"\n",
              "              style=\"display:none;\">\n",
              "\n",
              "  <svg xmlns=\"http://www.w3.org/2000/svg\" height=\"24px\"viewBox=\"0 0 24 24\"\n",
              "       width=\"24px\">\n",
              "    <path d=\"M0 0h24v24H0V0z\" fill=\"none\"/>\n",
              "    <path d=\"M18.56 5.44l.94 2.06.94-2.06 2.06-.94-2.06-.94-.94-2.06-.94 2.06-2.06.94zm-11 1L8.5 8.5l.94-2.06 2.06-.94-2.06-.94L8.5 2.5l-.94 2.06-2.06.94zm10 10l.94 2.06.94-2.06 2.06-.94-2.06-.94-.94-2.06-.94 2.06-2.06.94z\"/><path d=\"M17.41 7.96l-1.37-1.37c-.4-.4-.92-.59-1.43-.59-.52 0-1.04.2-1.43.59L10.3 9.45l-7.72 7.72c-.78.78-.78 2.05 0 2.83L4 21.41c.39.39.9.59 1.41.59.51 0 1.02-.2 1.41-.59l7.78-7.78 2.81-2.81c.8-.78.8-2.07 0-2.86zM5.41 20L4 18.59l7.72-7.72 1.47 1.35L5.41 20z\"/>\n",
              "  </svg>\n",
              "      </button>\n",
              "\n",
              "\n",
              "\n",
              "    <div id=\"df-6de76c59-60fa-47c7-bc9c-e408b08f2911\">\n",
              "      <button class=\"colab-df-quickchart\" onclick=\"quickchart('df-6de76c59-60fa-47c7-bc9c-e408b08f2911')\"\n",
              "              title=\"Suggest charts.\"\n",
              "              style=\"display:none;\">\n",
              "\n",
              "<svg xmlns=\"http://www.w3.org/2000/svg\" height=\"24px\"viewBox=\"0 0 24 24\"\n",
              "     width=\"24px\">\n",
              "    <g>\n",
              "        <path d=\"M19 3H5c-1.1 0-2 .9-2 2v14c0 1.1.9 2 2 2h14c1.1 0 2-.9 2-2V5c0-1.1-.9-2-2-2zM9 17H7v-7h2v7zm4 0h-2V7h2v10zm4 0h-2v-4h2v4z\"/>\n",
              "    </g>\n",
              "</svg>\n",
              "      </button>\n",
              "    </div>\n",
              "\n",
              "<style>\n",
              "  .colab-df-quickchart {\n",
              "    background-color: #E8F0FE;\n",
              "    border: none;\n",
              "    border-radius: 50%;\n",
              "    cursor: pointer;\n",
              "    display: none;\n",
              "    fill: #1967D2;\n",
              "    height: 32px;\n",
              "    padding: 0 0 0 0;\n",
              "    width: 32px;\n",
              "  }\n",
              "\n",
              "  .colab-df-quickchart:hover {\n",
              "    background-color: #E2EBFA;\n",
              "    box-shadow: 0px 1px 2px rgba(60, 64, 67, 0.3), 0px 1px 3px 1px rgba(60, 64, 67, 0.15);\n",
              "    fill: #174EA6;\n",
              "  }\n",
              "\n",
              "  [theme=dark] .colab-df-quickchart {\n",
              "    background-color: #3B4455;\n",
              "    fill: #D2E3FC;\n",
              "  }\n",
              "\n",
              "  [theme=dark] .colab-df-quickchart:hover {\n",
              "    background-color: #434B5C;\n",
              "    box-shadow: 0px 1px 3px 1px rgba(0, 0, 0, 0.15);\n",
              "    filter: drop-shadow(0px 1px 2px rgba(0, 0, 0, 0.3));\n",
              "    fill: #FFFFFF;\n",
              "  }\n",
              "</style>\n",
              "\n",
              "    <script>\n",
              "      async function quickchart(key) {\n",
              "        const containerElement = document.querySelector('#' + key);\n",
              "        const charts = await google.colab.kernel.invokeFunction(\n",
              "            'suggestCharts', [key], {});\n",
              "      }\n",
              "    </script>\n",
              "\n",
              "      <script>\n",
              "\n",
              "function displayQuickchartButton(domScope) {\n",
              "  let quickchartButtonEl =\n",
              "    domScope.querySelector('#df-6de76c59-60fa-47c7-bc9c-e408b08f2911 button.colab-df-quickchart');\n",
              "  quickchartButtonEl.style.display =\n",
              "    google.colab.kernel.accessAllowed ? 'block' : 'none';\n",
              "}\n",
              "\n",
              "        displayQuickchartButton(document);\n",
              "      </script>\n",
              "      <style>\n",
              "    .colab-df-container {\n",
              "      display:flex;\n",
              "      flex-wrap:wrap;\n",
              "      gap: 12px;\n",
              "    }\n",
              "\n",
              "    .colab-df-convert {\n",
              "      background-color: #E8F0FE;\n",
              "      border: none;\n",
              "      border-radius: 50%;\n",
              "      cursor: pointer;\n",
              "      display: none;\n",
              "      fill: #1967D2;\n",
              "      height: 32px;\n",
              "      padding: 0 0 0 0;\n",
              "      width: 32px;\n",
              "    }\n",
              "\n",
              "    .colab-df-convert:hover {\n",
              "      background-color: #E2EBFA;\n",
              "      box-shadow: 0px 1px 2px rgba(60, 64, 67, 0.3), 0px 1px 3px 1px rgba(60, 64, 67, 0.15);\n",
              "      fill: #174EA6;\n",
              "    }\n",
              "\n",
              "    [theme=dark] .colab-df-convert {\n",
              "      background-color: #3B4455;\n",
              "      fill: #D2E3FC;\n",
              "    }\n",
              "\n",
              "    [theme=dark] .colab-df-convert:hover {\n",
              "      background-color: #434B5C;\n",
              "      box-shadow: 0px 1px 3px 1px rgba(0, 0, 0, 0.15);\n",
              "      filter: drop-shadow(0px 1px 2px rgba(0, 0, 0, 0.3));\n",
              "      fill: #FFFFFF;\n",
              "    }\n",
              "  </style>\n",
              "\n",
              "      <script>\n",
              "        const buttonEl =\n",
              "          document.querySelector('#df-5e886845-68a4-430f-985f-cfe272c600bb button.colab-df-convert');\n",
              "        buttonEl.style.display =\n",
              "          google.colab.kernel.accessAllowed ? 'block' : 'none';\n",
              "\n",
              "        async function convertToInteractive(key) {\n",
              "          const element = document.querySelector('#df-5e886845-68a4-430f-985f-cfe272c600bb');\n",
              "          const dataTable =\n",
              "            await google.colab.kernel.invokeFunction('convertToInteractive',\n",
              "                                                     [key], {});\n",
              "          if (!dataTable) return;\n",
              "\n",
              "          const docLinkHtml = 'Like what you see? Visit the ' +\n",
              "            '<a target=\"_blank\" href=https://colab.research.google.com/notebooks/data_table.ipynb>data table notebook</a>'\n",
              "            + ' to learn more about interactive tables.';\n",
              "          element.innerHTML = '';\n",
              "          dataTable['output_type'] = 'display_data';\n",
              "          await google.colab.output.renderOutput(dataTable, element);\n",
              "          const docLink = document.createElement('div');\n",
              "          docLink.innerHTML = docLinkHtml;\n",
              "          element.appendChild(docLink);\n",
              "        }\n",
              "      </script>\n",
              "    </div>\n",
              "  </div>\n"
            ]
          },
          "metadata": {},
          "execution_count": 77
        }
      ]
    },
    {
      "cell_type": "markdown",
      "source": [
        "# **Final result** dictionary"
      ],
      "metadata": {
        "id": "woH9pLq_16rJ"
      }
    },
    {
      "cell_type": "code",
      "source": [
        "#{\"1\":\"SALARY\"..}\n",
        "x_test_ids = list(df_x_test_skills_copy_encode.index)\n",
        "dict_test = {x_test_id: y_test_pred for x_test_id,y_test_pred in zip(x_test_ids,y_pred.tolist())}"
      ],
      "metadata": {
        "id": "q1Enn54r00lw"
      },
      "execution_count": 85,
      "outputs": []
    },
    {
      "cell_type": "code",
      "source": [
        "y_pred"
      ],
      "metadata": {
        "id": "kVMB0BD2EkzK"
      },
      "execution_count": null,
      "outputs": []
    },
    {
      "cell_type": "code",
      "source": [
        "import json\n",
        "with open(\"/content/results.txt\", \"w\") as fp:\n",
        "    json.dump(dict_test, fp)  # encode dict into JSON\n",
        "print(\"Done writing dict into .txt file\")"
      ],
      "metadata": {
        "colab": {
          "base_uri": "https://localhost:8080/"
        },
        "id": "SY61GIB_Ga4q",
        "outputId": "2203d180-a54e-4b1f-a748-060d1b0540d0"
      },
      "execution_count": 86,
      "outputs": [
        {
          "output_type": "stream",
          "name": "stdout",
          "text": [
            "Done writing dict into .txt file\n"
          ]
        }
      ]
    }
  ]
}